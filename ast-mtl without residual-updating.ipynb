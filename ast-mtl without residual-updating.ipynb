{
 "cells": [
  {
   "cell_type": "code",
   "execution_count": 1,
   "metadata": {
    "execution": {
     "iopub.execute_input": "2021-03-16T09:29:51.219996Z",
     "iopub.status.busy": "2021-03-16T09:29:51.219265Z",
     "iopub.status.idle": "2021-03-16T09:29:51.222361Z",
     "shell.execute_reply": "2021-03-16T09:29:51.221884Z"
    },
    "executionInfo": {
     "elapsed": 475,
     "status": "ok",
     "timestamp": 1615724368426,
     "user": {
      "displayName": "giovanni buroni",
      "photoUrl": "https://lh3.googleusercontent.com/a-/AOh14GjarG9foST_wpJ_PfvHTR0iWGuChdFnmm4ong7n=s64",
      "userId": "06127736531396060751"
     },
     "user_tz": -60
    },
    "id": "7EU9ha7pM1iQ",
    "papermill": {
     "duration": 0.03067,
     "end_time": "2021-03-16T09:29:51.222514",
     "exception": false,
     "start_time": "2021-03-16T09:29:51.191844",
     "status": "completed"
    },
    "tags": []
   },
   "outputs": [],
   "source": [
    "# drive mount"
   ]
  },
  {
   "cell_type": "code",
   "execution_count": 2,
   "metadata": {
    "execution": {
     "iopub.execute_input": "2021-03-16T09:29:51.269712Z",
     "iopub.status.busy": "2021-03-16T09:29:51.269053Z",
     "iopub.status.idle": "2021-03-16T09:29:51.271865Z",
     "shell.execute_reply": "2021-03-16T09:29:51.271416Z"
    },
    "executionInfo": {
     "elapsed": 982,
     "status": "ok",
     "timestamp": 1615724368940,
     "user": {
      "displayName": "giovanni buroni",
      "photoUrl": "https://lh3.googleusercontent.com/a-/AOh14GjarG9foST_wpJ_PfvHTR0iWGuChdFnmm4ong7n=s64",
      "userId": "06127736531396060751"
     },
     "user_tz": -60
    },
    "id": "YkNeBz0Cxbwt",
    "papermill": {
     "duration": 0.027451,
     "end_time": "2021-03-16T09:29:51.271975",
     "exception": false,
     "start_time": "2021-03-16T09:29:51.244524",
     "status": "completed"
    },
    "tags": []
   },
   "outputs": [],
   "source": [
    "# !pip install geojson geopandas osmnx spektral matplotlib==3.1.3\n",
    "\n",
    "# from google.colab import files\n",
    "# from google.colab import drive\n",
    "\n",
    "# drive.mount('/content/drive')"
   ]
  },
  {
   "cell_type": "code",
   "execution_count": 3,
   "metadata": {
    "execution": {
     "iopub.execute_input": "2021-03-16T09:29:51.319881Z",
     "iopub.status.busy": "2021-03-16T09:29:51.319273Z",
     "iopub.status.idle": "2021-03-16T09:29:51.321964Z",
     "shell.execute_reply": "2021-03-16T09:29:51.321544Z"
    },
    "executionInfo": {
     "elapsed": 981,
     "status": "ok",
     "timestamp": 1615724368944,
     "user": {
      "displayName": "giovanni buroni",
      "photoUrl": "https://lh3.googleusercontent.com/a-/AOh14GjarG9foST_wpJ_PfvHTR0iWGuChdFnmm4ong7n=s64",
      "userId": "06127736531396060751"
     },
     "user_tz": -60
    },
    "id": "DqN83EQxMu0G",
    "papermill": {
     "duration": 0.027171,
     "end_time": "2021-03-16T09:29:51.322071",
     "exception": false,
     "start_time": "2021-03-16T09:29:51.294900",
     "status": "completed"
    },
    "tags": []
   },
   "outputs": [],
   "source": [
    "# general import"
   ]
  },
  {
   "cell_type": "code",
   "execution_count": 4,
   "metadata": {
    "execution": {
     "iopub.execute_input": "2021-03-16T09:29:51.369841Z",
     "iopub.status.busy": "2021-03-16T09:29:51.369134Z",
     "iopub.status.idle": "2021-03-16T09:30:00.947400Z",
     "shell.execute_reply": "2021-03-16T09:30:00.946562Z"
    },
    "papermill": {
     "duration": 9.603653,
     "end_time": "2021-03-16T09:30:00.947544",
     "exception": false,
     "start_time": "2021-03-16T09:29:51.343891",
     "status": "completed"
    },
    "tags": []
   },
   "outputs": [
    {
     "name": "stdout",
     "output_type": "stream",
     "text": [
      "Collecting spektral\r\n",
      "  Downloading spektral-1.0.5-py3-none-any.whl (112 kB)\r\n",
      "\u001b[K     |████████████████████████████████| 112 kB 412 kB/s \r\n",
      "\u001b[?25hRequirement already satisfied: pandas in /opt/conda/lib/python3.7/site-packages (from spektral) (1.1.5)\r\n",
      "Requirement already satisfied: scipy in /opt/conda/lib/python3.7/site-packages (from spektral) (1.5.4)\r\n",
      "Requirement already satisfied: networkx in /opt/conda/lib/python3.7/site-packages (from spektral) (2.5)\r\n",
      "Requirement already satisfied: joblib in /opt/conda/lib/python3.7/site-packages (from spektral) (1.0.0)\r\n",
      "Requirement already satisfied: tensorflow>=2.1.0 in /opt/conda/lib/python3.7/site-packages (from spektral) (2.4.1)\r\n",
      "Requirement already satisfied: scikit-learn in /opt/conda/lib/python3.7/site-packages (from spektral) (0.24.1)\r\n",
      "Requirement already satisfied: numpy in /opt/conda/lib/python3.7/site-packages (from spektral) (1.19.5)\r\n",
      "Requirement already satisfied: requests in /opt/conda/lib/python3.7/site-packages (from spektral) (2.25.1)\r\n",
      "Requirement already satisfied: tqdm in /opt/conda/lib/python3.7/site-packages (from spektral) (4.55.1)\r\n",
      "Requirement already satisfied: lxml in /opt/conda/lib/python3.7/site-packages (from spektral) (4.6.2)\r\n",
      "Requirement already satisfied: protobuf>=3.9.2 in /opt/conda/lib/python3.7/site-packages (from tensorflow>=2.1.0->spektral) (3.14.0)\r\n",
      "Requirement already satisfied: google-pasta~=0.2 in /opt/conda/lib/python3.7/site-packages (from tensorflow>=2.1.0->spektral) (0.2.0)\r\n",
      "Requirement already satisfied: keras-preprocessing~=1.1.2 in /opt/conda/lib/python3.7/site-packages (from tensorflow>=2.1.0->spektral) (1.1.2)\r\n",
      "Requirement already satisfied: gast==0.3.3 in /opt/conda/lib/python3.7/site-packages (from tensorflow>=2.1.0->spektral) (0.3.3)\r\n",
      "Requirement already satisfied: tensorflow-estimator<2.5.0,>=2.4.0 in /opt/conda/lib/python3.7/site-packages (from tensorflow>=2.1.0->spektral) (2.4.0)\r\n",
      "Requirement already satisfied: wrapt~=1.12.1 in /opt/conda/lib/python3.7/site-packages (from tensorflow>=2.1.0->spektral) (1.12.1)\r\n",
      "Requirement already satisfied: flatbuffers~=1.12.0 in /opt/conda/lib/python3.7/site-packages (from tensorflow>=2.1.0->spektral) (1.12)\r\n",
      "Requirement already satisfied: six~=1.15.0 in /opt/conda/lib/python3.7/site-packages (from tensorflow>=2.1.0->spektral) (1.15.0)\r\n",
      "Requirement already satisfied: opt-einsum~=3.3.0 in /opt/conda/lib/python3.7/site-packages (from tensorflow>=2.1.0->spektral) (3.3.0)\r\n",
      "Requirement already satisfied: termcolor~=1.1.0 in /opt/conda/lib/python3.7/site-packages (from tensorflow>=2.1.0->spektral) (1.1.0)\r\n",
      "Requirement already satisfied: wheel~=0.35 in /opt/conda/lib/python3.7/site-packages (from tensorflow>=2.1.0->spektral) (0.36.2)\r\n",
      "Requirement already satisfied: tensorboard~=2.4 in /opt/conda/lib/python3.7/site-packages (from tensorflow>=2.1.0->spektral) (2.4.1)\r\n",
      "Requirement already satisfied: absl-py~=0.10 in /opt/conda/lib/python3.7/site-packages (from tensorflow>=2.1.0->spektral) (0.10.0)\r\n",
      "Requirement already satisfied: grpcio~=1.32.0 in /opt/conda/lib/python3.7/site-packages (from tensorflow>=2.1.0->spektral) (1.32.0)\r\n",
      "Requirement already satisfied: h5py~=2.10.0 in /opt/conda/lib/python3.7/site-packages (from tensorflow>=2.1.0->spektral) (2.10.0)\r\n",
      "Requirement already satisfied: astunparse~=1.6.3 in /opt/conda/lib/python3.7/site-packages (from tensorflow>=2.1.0->spektral) (1.6.3)\r\n",
      "Requirement already satisfied: typing-extensions~=3.7.4 in /opt/conda/lib/python3.7/site-packages (from tensorflow>=2.1.0->spektral) (3.7.4.3)\r\n",
      "Requirement already satisfied: google-auth<2,>=1.6.3 in /opt/conda/lib/python3.7/site-packages (from tensorboard~=2.4->tensorflow>=2.1.0->spektral) (1.24.0)\r\n",
      "Requirement already satisfied: werkzeug>=0.11.15 in /opt/conda/lib/python3.7/site-packages (from tensorboard~=2.4->tensorflow>=2.1.0->spektral) (1.0.1)\r\n",
      "Requirement already satisfied: setuptools>=41.0.0 in /opt/conda/lib/python3.7/site-packages (from tensorboard~=2.4->tensorflow>=2.1.0->spektral) (49.6.0.post20201009)\r\n",
      "Requirement already satisfied: markdown>=2.6.8 in /opt/conda/lib/python3.7/site-packages (from tensorboard~=2.4->tensorflow>=2.1.0->spektral) (3.3.3)\r\n",
      "Requirement already satisfied: tensorboard-plugin-wit>=1.6.0 in /opt/conda/lib/python3.7/site-packages (from tensorboard~=2.4->tensorflow>=2.1.0->spektral) (1.8.0)\r\n",
      "Requirement already satisfied: google-auth-oauthlib<0.5,>=0.4.1 in /opt/conda/lib/python3.7/site-packages (from tensorboard~=2.4->tensorflow>=2.1.0->spektral) (0.4.2)\r\n",
      "Requirement already satisfied: rsa<5,>=3.1.4 in /opt/conda/lib/python3.7/site-packages (from google-auth<2,>=1.6.3->tensorboard~=2.4->tensorflow>=2.1.0->spektral) (4.6)\r\n",
      "Requirement already satisfied: pyasn1-modules>=0.2.1 in /opt/conda/lib/python3.7/site-packages (from google-auth<2,>=1.6.3->tensorboard~=2.4->tensorflow>=2.1.0->spektral) (0.2.7)\r\n",
      "Requirement already satisfied: cachetools<5.0,>=2.0.0 in /opt/conda/lib/python3.7/site-packages (from google-auth<2,>=1.6.3->tensorboard~=2.4->tensorflow>=2.1.0->spektral) (4.1.1)\r\n",
      "Requirement already satisfied: requests-oauthlib>=0.7.0 in /opt/conda/lib/python3.7/site-packages (from google-auth-oauthlib<0.5,>=0.4.1->tensorboard~=2.4->tensorflow>=2.1.0->spektral) (1.3.0)\r\n",
      "Requirement already satisfied: importlib-metadata in /opt/conda/lib/python3.7/site-packages (from markdown>=2.6.8->tensorboard~=2.4->tensorflow>=2.1.0->spektral) (3.3.0)\r\n",
      "Requirement already satisfied: pyasn1<0.5.0,>=0.4.6 in /opt/conda/lib/python3.7/site-packages (from pyasn1-modules>=0.2.1->google-auth<2,>=1.6.3->tensorboard~=2.4->tensorflow>=2.1.0->spektral) (0.4.8)\r\n",
      "Requirement already satisfied: certifi>=2017.4.17 in /opt/conda/lib/python3.7/site-packages (from requests->spektral) (2020.12.5)\r\n",
      "Requirement already satisfied: chardet<5,>=3.0.2 in /opt/conda/lib/python3.7/site-packages (from requests->spektral) (3.0.4)\r\n",
      "Requirement already satisfied: urllib3<1.27,>=1.21.1 in /opt/conda/lib/python3.7/site-packages (from requests->spektral) (1.26.2)\r\n",
      "Requirement already satisfied: idna<3,>=2.5 in /opt/conda/lib/python3.7/site-packages (from requests->spektral) (2.10)\r\n",
      "Requirement already satisfied: oauthlib>=3.0.0 in /opt/conda/lib/python3.7/site-packages (from requests-oauthlib>=0.7.0->google-auth-oauthlib<0.5,>=0.4.1->tensorboard~=2.4->tensorflow>=2.1.0->spektral) (3.0.1)\r\n",
      "Requirement already satisfied: zipp>=0.5 in /opt/conda/lib/python3.7/site-packages (from importlib-metadata->markdown>=2.6.8->tensorboard~=2.4->tensorflow>=2.1.0->spektral) (3.4.0)\r\n",
      "Requirement already satisfied: decorator>=4.3.0 in /opt/conda/lib/python3.7/site-packages (from networkx->spektral) (4.4.2)\r\n",
      "Requirement already satisfied: python-dateutil>=2.7.3 in /opt/conda/lib/python3.7/site-packages (from pandas->spektral) (2.8.1)\r\n",
      "Requirement already satisfied: pytz>=2017.2 in /opt/conda/lib/python3.7/site-packages (from pandas->spektral) (2020.5)\r\n",
      "Requirement already satisfied: threadpoolctl>=2.0.0 in /opt/conda/lib/python3.7/site-packages (from scikit-learn->spektral) (2.1.0)\r\n",
      "Installing collected packages: spektral\r\n",
      "Successfully installed spektral-1.0.5\r\n"
     ]
    }
   ],
   "source": [
    "!pip install spektral "
   ]
  },
  {
   "cell_type": "code",
   "execution_count": 5,
   "metadata": {
    "execution": {
     "iopub.execute_input": "2021-03-16T09:30:01.019007Z",
     "iopub.status.busy": "2021-03-16T09:30:01.018230Z",
     "iopub.status.idle": "2021-03-16T09:30:08.157884Z",
     "shell.execute_reply": "2021-03-16T09:30:08.157388Z"
    },
    "executionInfo": {
     "elapsed": 3535,
     "status": "ok",
     "timestamp": 1615724371501,
     "user": {
      "displayName": "giovanni buroni",
      "photoUrl": "https://lh3.googleusercontent.com/a-/AOh14GjarG9foST_wpJ_PfvHTR0iWGuChdFnmm4ong7n=s64",
      "userId": "06127736531396060751"
     },
     "user_tz": -60
    },
    "id": "m7nfSj_GshPw",
    "papermill": {
     "duration": 7.18287,
     "end_time": "2021-03-16T09:30:08.158024",
     "exception": false,
     "start_time": "2021-03-16T09:30:00.975154",
     "status": "completed"
    },
    "tags": []
   },
   "outputs": [],
   "source": [
    "from mpl_toolkits.mplot3d import Axes3D\n",
    "from sklearn.preprocessing import StandardScaler\n",
    "import matplotlib.pyplot as plt # plotting\n",
    "import numpy as np # linear algebra\n",
    "import os # accessing directory structure\n",
    "import pandas as pd # data processing, CSV file I/O (e.g. pd.read_csv)\n",
    "import tensorflow as tf\n",
    "\n",
    "from sklearn.preprocessing import MinMaxScaler\n",
    "\n",
    "import gc\n",
    "import time\n",
    "import seaborn as sns; sns.set()\n",
    "\n",
    "import os \n",
    "# Disable warnings, set Matplotlib inline plotting and load Pandas package\n",
    "import warnings\n",
    "warnings.filterwarnings('ignore')\n",
    "import pandas as pd\n",
    "import numpy as np\n",
    "#pd.options.display.mpl_style = 'default'\n",
    "from datetime import datetime\n",
    "import numpy as np\n",
    "from datetime import datetime, timedelta\n",
    "from pytz import timezone\n",
    "from dateutil import tz\n",
    "import geojson\n",
    "import geopandas as gpd\n",
    "from fiona.crs import from_epsg\n",
    "import os, json\n",
    "from shapely.geometry import shape, Point, Polygon, MultiPoint\n",
    "%matplotlib inline\n",
    "import matplotlib.pyplot as plt\n",
    "from geopandas.tools import sjoin\n",
    "\n",
    "import matplotlib.cm as cm\n",
    "\n",
    "import folium\n",
    "import shapely.geometry\n",
    "\n",
    "from branca.colormap import  linear\n",
    "import json\n",
    "import branca.colormap as cm\n",
    "import matplotlib.colors as colors\n",
    "%matplotlib inline\n",
    "\n",
    "import networkx as nx\n",
    "import pickle\n",
    "\n",
    "import osmnx as ox\n",
    "ox.config(log_console=True, use_cache=True)\n",
    "ox.__version__\n",
    "\n",
    "import matplotlib.colors as mcolors\n",
    "import gc"
   ]
  },
  {
   "cell_type": "code",
   "execution_count": 6,
   "metadata": {
    "execution": {
     "iopub.execute_input": "2021-03-16T09:30:08.222406Z",
     "iopub.status.busy": "2021-03-16T09:30:08.221527Z",
     "iopub.status.idle": "2021-03-16T09:30:08.266804Z",
     "shell.execute_reply": "2021-03-16T09:30:08.266274Z"
    },
    "executionInfo": {
     "elapsed": 3532,
     "status": "ok",
     "timestamp": 1615724371502,
     "user": {
      "displayName": "giovanni buroni",
      "photoUrl": "https://lh3.googleusercontent.com/a-/AOh14GjarG9foST_wpJ_PfvHTR0iWGuChdFnmm4ong7n=s64",
      "userId": "06127736531396060751"
     },
     "user_tz": -60
    },
    "id": "b275b4IDshPx",
    "papermill": {
     "duration": 0.081486,
     "end_time": "2021-03-16T09:30:08.266941",
     "exception": false,
     "start_time": "2021-03-16T09:30:08.185455",
     "status": "completed"
    },
    "tags": []
   },
   "outputs": [],
   "source": [
    "import tensorflow as tf\n",
    "from tensorflow.keras import Model\n",
    "from spektral.layers import GCNConv, ChebConv #(channels, K=1)\n",
    "from spektral.utils import gcn_filter\n",
    "from tensorflow.keras.regularizers import l2\n",
    "from tensorflow.keras.layers import Dense, Flatten\n",
    "from tensorflow.keras.losses import SparseCategoricalCrossentropy\n",
    "from tensorflow.keras.metrics import SparseCategoricalAccuracy\n",
    "from tensorflow.keras.optimizers import Adam\n",
    "from tensorflow.keras import regularizers"
   ]
  },
  {
   "cell_type": "code",
   "execution_count": 7,
   "metadata": {
    "execution": {
     "iopub.execute_input": "2021-03-16T09:30:08.326456Z",
     "iopub.status.busy": "2021-03-16T09:30:08.324699Z",
     "iopub.status.idle": "2021-03-16T09:30:08.327027Z",
     "shell.execute_reply": "2021-03-16T09:30:08.327427Z"
    },
    "executionInfo": {
     "elapsed": 3529,
     "status": "ok",
     "timestamp": 1615724371502,
     "user": {
      "displayName": "giovanni buroni",
      "photoUrl": "https://lh3.googleusercontent.com/a-/AOh14GjarG9foST_wpJ_PfvHTR0iWGuChdFnmm4ong7n=s64",
      "userId": "06127736531396060751"
     },
     "user_tz": -60
    },
    "id": "z-HehR9JM6Dt",
    "papermill": {
     "duration": 0.033605,
     "end_time": "2021-03-16T09:30:08.327560",
     "exception": false,
     "start_time": "2021-03-16T09:30:08.293955",
     "status": "completed"
    },
    "tags": []
   },
   "outputs": [],
   "source": [
    "# for reproducibility"
   ]
  },
  {
   "cell_type": "code",
   "execution_count": 8,
   "metadata": {
    "execution": {
     "iopub.execute_input": "2021-03-16T09:30:08.390047Z",
     "iopub.status.busy": "2021-03-16T09:30:08.388216Z",
     "iopub.status.idle": "2021-03-16T09:30:08.390613Z",
     "shell.execute_reply": "2021-03-16T09:30:08.391075Z"
    },
    "executionInfo": {
     "elapsed": 3526,
     "status": "ok",
     "timestamp": 1615724371504,
     "user": {
      "displayName": "giovanni buroni",
      "photoUrl": "https://lh3.googleusercontent.com/a-/AOh14GjarG9foST_wpJ_PfvHTR0iWGuChdFnmm4ong7n=s64",
      "userId": "06127736531396060751"
     },
     "user_tz": -60
    },
    "id": "BhWfC-IG3Tkq",
    "papermill": {
     "duration": 0.036718,
     "end_time": "2021-03-16T09:30:08.391222",
     "exception": false,
     "start_time": "2021-03-16T09:30:08.354504",
     "status": "completed"
    },
    "tags": []
   },
   "outputs": [],
   "source": [
    "from numpy.random import seed\n",
    "\n",
    "# Reproducability\n",
    "def set_seed(seed=31415):\n",
    "    \n",
    "    np.random.seed(seed)\n",
    "    tf.random.set_seed(seed)\n",
    "    os.environ['PYTHONHASHSEED'] = str(seed)\n",
    "    os.environ['TF_DETERMINISTIC_OPS'] = '1'\n",
    "    \n",
    "set_seed(31415)"
   ]
  },
  {
   "cell_type": "code",
   "execution_count": 9,
   "metadata": {
    "execution": {
     "iopub.execute_input": "2021-03-16T09:30:08.449420Z",
     "iopub.status.busy": "2021-03-16T09:30:08.448637Z",
     "iopub.status.idle": "2021-03-16T09:30:08.451526Z",
     "shell.execute_reply": "2021-03-16T09:30:08.451126Z"
    },
    "executionInfo": {
     "elapsed": 3523,
     "status": "ok",
     "timestamp": 1615724371504,
     "user": {
      "displayName": "giovanni buroni",
      "photoUrl": "https://lh3.googleusercontent.com/a-/AOh14GjarG9foST_wpJ_PfvHTR0iWGuChdFnmm4ong7n=s64",
      "userId": "06127736531396060751"
     },
     "user_tz": -60
    },
    "id": "KshcMDinM__8",
    "papermill": {
     "duration": 0.033444,
     "end_time": "2021-03-16T09:30:08.451638",
     "exception": false,
     "start_time": "2021-03-16T09:30:08.418194",
     "status": "completed"
    },
    "tags": []
   },
   "outputs": [],
   "source": [
    "# imporing files"
   ]
  },
  {
   "cell_type": "code",
   "execution_count": 10,
   "metadata": {
    "execution": {
     "iopub.execute_input": "2021-03-16T09:30:08.511686Z",
     "iopub.status.busy": "2021-03-16T09:30:08.511173Z",
     "iopub.status.idle": "2021-03-16T09:30:30.996116Z",
     "shell.execute_reply": "2021-03-16T09:30:30.995160Z"
    },
    "executionInfo": {
     "elapsed": 20113,
     "status": "ok",
     "timestamp": 1615724388097,
     "user": {
      "displayName": "giovanni buroni",
      "photoUrl": "https://lh3.googleusercontent.com/a-/AOh14GjarG9foST_wpJ_PfvHTR0iWGuChdFnmm4ong7n=s64",
      "userId": "06127736531396060751"
     },
     "user_tz": -60
    },
    "id": "hmokpg02shPy",
    "papermill": {
     "duration": 22.517778,
     "end_time": "2021-03-16T09:30:30.996264",
     "exception": false,
     "start_time": "2021-03-16T09:30:08.478486",
     "status": "completed"
    },
    "tags": []
   },
   "outputs": [],
   "source": [
    "path_graph = '../input/graph-results/graph_adj_bxl.pkl'\n",
    "\n",
    "path_feat_flow = '../input/graph-results/FEATURES_flow_bxl.csv'\n",
    "path_feat_vel = '../input/graph-results/FEATURES_vel_bxl.csv'\n",
    "\n",
    "with open(path_graph,'rb') as f:\n",
    "    graph, adj_matrix, edges, G = pickle.load(f)\n",
    "\n",
    "adj_mx = nx.to_numpy_matrix(graph)\n",
    "\n",
    "# flow\n",
    "features_flow = pd.read_csv(path_feat_flow).iloc[:,1:].values\n",
    "# vel\n",
    "features_vel = pd.read_csv(path_feat_vel).iloc[:,1:].values"
   ]
  },
  {
   "cell_type": "code",
   "execution_count": 11,
   "metadata": {
    "execution": {
     "iopub.execute_input": "2021-03-16T09:30:31.055958Z",
     "iopub.status.busy": "2021-03-16T09:30:31.054285Z",
     "iopub.status.idle": "2021-03-16T09:30:31.056516Z",
     "shell.execute_reply": "2021-03-16T09:30:31.056919Z"
    },
    "executionInfo": {
     "elapsed": 20112,
     "status": "ok",
     "timestamp": 1615724388099,
     "user": {
      "displayName": "giovanni buroni",
      "photoUrl": "https://lh3.googleusercontent.com/a-/AOh14GjarG9foST_wpJ_PfvHTR0iWGuChdFnmm4ong7n=s64",
      "userId": "06127736531396060751"
     },
     "user_tz": -60
    },
    "id": "ZHtO7pnnxPQG",
    "papermill": {
     "duration": 0.033526,
     "end_time": "2021-03-16T09:30:31.057048",
     "exception": false,
     "start_time": "2021-03-16T09:30:31.023522",
     "status": "completed"
    },
    "tags": []
   },
   "outputs": [],
   "source": [
    "# PARAMETERS"
   ]
  },
  {
   "cell_type": "code",
   "execution_count": 12,
   "metadata": {
    "execution": {
     "iopub.execute_input": "2021-03-16T09:30:31.115057Z",
     "iopub.status.busy": "2021-03-16T09:30:31.114423Z",
     "iopub.status.idle": "2021-03-16T09:30:31.118250Z",
     "shell.execute_reply": "2021-03-16T09:30:31.117769Z"
    },
    "executionInfo": {
     "elapsed": 20112,
     "status": "ok",
     "timestamp": 1615724388102,
     "user": {
      "displayName": "giovanni buroni",
      "photoUrl": "https://lh3.googleusercontent.com/a-/AOh14GjarG9foST_wpJ_PfvHTR0iWGuChdFnmm4ong7n=s64",
      "userId": "06127736531396060751"
     },
     "user_tz": -60
    },
    "id": "sduHFHSexOTP",
    "papermill": {
     "duration": 0.03419,
     "end_time": "2021-03-16T09:30:31.118359",
     "exception": false,
     "start_time": "2021-03-16T09:30:31.084169",
     "status": "completed"
    },
    "tags": []
   },
   "outputs": [],
   "source": [
    "inputs = 12\n",
    "granularity = 2*2\n",
    "\n",
    "batch_train = 64 # best 32\n",
    "batch_test = 1"
   ]
  },
  {
   "cell_type": "markdown",
   "metadata": {
    "id": "8UvuJcrvshP0",
    "papermill": {
     "duration": 0.02691,
     "end_time": "2021-03-16T09:30:31.172323",
     "exception": false,
     "start_time": "2021-03-16T09:30:31.145413",
     "status": "completed"
    },
    "tags": []
   },
   "source": [
    "## split train/val/test"
   ]
  },
  {
   "cell_type": "code",
   "execution_count": 13,
   "metadata": {
    "execution": {
     "iopub.execute_input": "2021-03-16T09:30:31.971223Z",
     "iopub.status.busy": "2021-03-16T09:30:31.970479Z",
     "iopub.status.idle": "2021-03-16T09:30:31.973385Z",
     "shell.execute_reply": "2021-03-16T09:30:31.974398Z"
    },
    "executionInfo": {
     "elapsed": 20304,
     "status": "ok",
     "timestamp": 1615724388297,
     "user": {
      "displayName": "giovanni buroni",
      "photoUrl": "https://lh3.googleusercontent.com/a-/AOh14GjarG9foST_wpJ_PfvHTR0iWGuChdFnmm4ong7n=s64",
      "userId": "06127736531396060751"
     },
     "user_tz": -60
    },
    "id": "nd6kl3lOmOth",
    "papermill": {
     "duration": 0.775138,
     "end_time": "2021-03-16T09:30:31.974685",
     "exception": false,
     "start_time": "2021-03-16T09:30:31.199547",
     "status": "completed"
    },
    "tags": []
   },
   "outputs": [],
   "source": [
    "data_flow = features_flow[:, :-1]\n",
    "data_vel = features_vel[:, :-1]\n",
    "\n",
    "data = np.concatenate([data_flow, data_vel], axis=1)"
   ]
  },
  {
   "cell_type": "code",
   "execution_count": 14,
   "metadata": {
    "execution": {
     "iopub.execute_input": "2021-03-16T09:30:32.086755Z",
     "iopub.status.busy": "2021-03-16T09:30:32.086017Z",
     "iopub.status.idle": "2021-03-16T09:30:32.087952Z",
     "shell.execute_reply": "2021-03-16T09:30:32.087371Z"
    },
    "executionInfo": {
     "elapsed": 20303,
     "status": "ok",
     "timestamp": 1615724388298,
     "user": {
      "displayName": "giovanni buroni",
      "photoUrl": "https://lh3.googleusercontent.com/a-/AOh14GjarG9foST_wpJ_PfvHTR0iWGuChdFnmm4ong7n=s64",
      "userId": "06127736531396060751"
     },
     "user_tz": -60
    },
    "id": "GqWVkLFlshP0",
    "papermill": {
     "duration": 0.055466,
     "end_time": "2021-03-16T09:30:32.088088",
     "exception": false,
     "start_time": "2021-03-16T09:30:32.032622",
     "status": "completed"
    },
    "tags": []
   },
   "outputs": [],
   "source": [
    "# Train/test split\n",
    "data_tr, data_te = data[:-168*2*granularity, :], data[-168*2*granularity:, :]"
   ]
  },
  {
   "cell_type": "code",
   "execution_count": 15,
   "metadata": {
    "execution": {
     "iopub.execute_input": "2021-03-16T09:30:32.177517Z",
     "iopub.status.busy": "2021-03-16T09:30:32.176659Z",
     "iopub.status.idle": "2021-03-16T09:30:32.178879Z",
     "shell.execute_reply": "2021-03-16T09:30:32.178242Z"
    },
    "executionInfo": {
     "elapsed": 20301,
     "status": "ok",
     "timestamp": 1615724388299,
     "user": {
      "displayName": "giovanni buroni",
      "photoUrl": "https://lh3.googleusercontent.com/a-/AOh14GjarG9foST_wpJ_PfvHTR0iWGuChdFnmm4ong7n=s64",
      "userId": "06127736531396060751"
     },
     "user_tz": -60
    },
    "id": "BcOJcaqSvih_",
    "papermill": {
     "duration": 0.050064,
     "end_time": "2021-03-16T09:30:32.179031",
     "exception": false,
     "start_time": "2021-03-16T09:30:32.128967",
     "status": "completed"
    },
    "tags": []
   },
   "outputs": [],
   "source": [
    "# time-based Covariates"
   ]
  },
  {
   "cell_type": "code",
   "execution_count": 16,
   "metadata": {
    "execution": {
     "iopub.execute_input": "2021-03-16T09:30:32.278446Z",
     "iopub.status.busy": "2021-03-16T09:30:32.277635Z",
     "iopub.status.idle": "2021-03-16T09:30:32.310365Z",
     "shell.execute_reply": "2021-03-16T09:30:32.310887Z"
    },
    "executionInfo": {
     "elapsed": 20297,
     "status": "ok",
     "timestamp": 1615724388299,
     "user": {
      "displayName": "giovanni buroni",
      "photoUrl": "https://lh3.googleusercontent.com/a-/AOh14GjarG9foST_wpJ_PfvHTR0iWGuChdFnmm4ong7n=s64",
      "userId": "06127736531396060751"
     },
     "user_tz": -60
    },
    "id": "5GB9RXbYsoga",
    "papermill": {
     "duration": 0.089478,
     "end_time": "2021-03-16T09:30:32.311071",
     "exception": false,
     "start_time": "2021-03-16T09:30:32.221593",
     "status": "completed"
    },
    "tags": []
   },
   "outputs": [],
   "source": [
    "datetime = features_flow[:, -1]\n",
    "\n",
    "# for figures\n",
    "print_datetime = datetime[-168*2*granularity+inputs:]\n",
    "\n",
    "DATETIME = pd.DataFrame(datetime, columns=['Datetime'])\n",
    "DATETIME['Datetime'] = pd.to_datetime(DATETIME['Datetime'])\n",
    "\n",
    "DATETIME['minutes'] = DATETIME['Datetime'].dt.minute\n",
    "DATETIME['hour'] = DATETIME['Datetime'].dt.hour\n",
    "\n",
    "DATETIME['hour_x']=np.sin(DATETIME.hour*(2.*np.pi/23))\n",
    "DATETIME['hour_y']=np.cos(DATETIME.hour*(2.*np.pi/23))\n",
    "\n",
    "DATETIME['day'] = DATETIME['Datetime'].dt.day\n",
    "DATETIME['DayOfWeek'] = DATETIME['Datetime'].dt.dayofweek\n",
    "\n",
    "DATETIME['WorkingDays'] = DATETIME['DayOfWeek'].apply(lambda y: 2 if y < 5 else y)\n",
    "DATETIME['WorkingDays'] = DATETIME['WorkingDays'].apply(lambda y: 1 if y == 5 else y)\n",
    "DATETIME['WorkingDays'] = DATETIME['WorkingDays'].apply(lambda y: 0 if y == 6 else y)\n",
    "\n",
    "DATETIME = DATETIME.drop(['Datetime','minutes','hour','day'], axis=1).values\n",
    "\n",
    "# temporal features = 4\n",
    "feat_time = 4\n",
    "\n",
    "# datetime Train/test split\n",
    "time_tr, time_te = DATETIME[:-168*2*granularity, :], DATETIME[-168*2*granularity:, :]\n",
    "\n"
   ]
  },
  {
   "cell_type": "markdown",
   "metadata": {
    "id": "rnkgB_FYshP0",
    "papermill": {
     "duration": 0.040038,
     "end_time": "2021-03-16T09:30:32.390396",
     "exception": false,
     "start_time": "2021-03-16T09:30:32.350358",
     "status": "completed"
    },
    "tags": []
   },
   "source": [
    "## scale data"
   ]
  },
  {
   "cell_type": "code",
   "execution_count": 17,
   "metadata": {
    "execution": {
     "iopub.execute_input": "2021-03-16T09:30:34.365373Z",
     "iopub.status.busy": "2021-03-16T09:30:34.363988Z",
     "iopub.status.idle": "2021-03-16T09:30:37.044545Z",
     "shell.execute_reply": "2021-03-16T09:30:37.044069Z"
    },
    "executionInfo": {
     "elapsed": 22331,
     "status": "ok",
     "timestamp": 1615724390340,
     "user": {
      "displayName": "giovanni buroni",
      "photoUrl": "https://lh3.googleusercontent.com/a-/AOh14GjarG9foST_wpJ_PfvHTR0iWGuChdFnmm4ong7n=s64",
      "userId": "06127736531396060751"
     },
     "user_tz": -60
    },
    "id": "RjIvQ0QgshP1",
    "papermill": {
     "duration": 4.61249,
     "end_time": "2021-03-16T09:30:37.044682",
     "exception": false,
     "start_time": "2021-03-16T09:30:32.432192",
     "status": "completed"
    },
    "tags": []
   },
   "outputs": [],
   "source": [
    "scaler = MinMaxScaler(feature_range=(0, 1))\n",
    "scaler_cov = MinMaxScaler(feature_range=(0, 1))\n",
    "\n",
    "# fit and transform\n",
    "scaled_tr = scaler.fit_transform(data_tr)\n",
    "# transform\n",
    "scaled_te = scaler.transform(data_te)\n",
    "\n",
    "# fit and transform\n",
    "scaled_tr_cov = scaler_cov.fit_transform(time_tr)\n",
    "# transform\n",
    "scaled_te_cov = scaler_cov.transform(time_te)"
   ]
  },
  {
   "cell_type": "markdown",
   "metadata": {
    "id": "nsmXb48sshP1",
    "papermill": {
     "duration": 0.027923,
     "end_time": "2021-03-16T09:30:37.101191",
     "exception": false,
     "start_time": "2021-03-16T09:30:37.073268",
     "status": "completed"
    },
    "tags": []
   },
   "source": [
    "## prepare data for deep learning"
   ]
  },
  {
   "cell_type": "code",
   "execution_count": 18,
   "metadata": {
    "execution": {
     "iopub.execute_input": "2021-03-16T09:30:37.164654Z",
     "iopub.status.busy": "2021-03-16T09:30:37.164094Z",
     "iopub.status.idle": "2021-03-16T09:30:37.167300Z",
     "shell.execute_reply": "2021-03-16T09:30:37.166886Z"
    },
    "executionInfo": {
     "elapsed": 22333,
     "status": "ok",
     "timestamp": 1615724390344,
     "user": {
      "displayName": "giovanni buroni",
      "photoUrl": "https://lh3.googleusercontent.com/a-/AOh14GjarG9foST_wpJ_PfvHTR0iWGuChdFnmm4ong7n=s64",
      "userId": "06127736531396060751"
     },
     "user_tz": -60
    },
    "id": "sQiniFq0shP2",
    "papermill": {
     "duration": 0.038175,
     "end_time": "2021-03-16T09:30:37.167421",
     "exception": false,
     "start_time": "2021-03-16T09:30:37.129246",
     "status": "completed"
    },
    "tags": []
   },
   "outputs": [],
   "source": [
    "def prepare_data_DL(INPUT, FEAT, BATCH):\n",
    "    \n",
    "    dataset = FEAT.reshape(FEAT.shape[0], FEAT.shape[1]) \n",
    "    dataset = tf.data.Dataset.from_tensor_slices(dataset)\n",
    "\n",
    "    inputs = dataset.window(INPUT,  shift=1,  stride=1,  drop_remainder=True)\n",
    "    inputs = inputs.flat_map(lambda window: window.batch(INPUT))\n",
    "\n",
    "    targets = dataset.window(INPUT, shift=1,  stride=1,  drop_remainder=True).skip(INPUT)\n",
    "    targets = targets.flat_map(lambda window: window.batch(INPUT))\n",
    "\n",
    "    dataset = tf.data.Dataset.zip((inputs, targets))\n",
    "    dataset = dataset.batch(BATCH).prefetch(tf.data.experimental.AUTOTUNE)\n",
    "\n",
    "\n",
    "    return dataset"
   ]
  },
  {
   "cell_type": "code",
   "execution_count": 19,
   "metadata": {
    "execution": {
     "iopub.execute_input": "2021-03-16T09:30:38.056161Z",
     "iopub.status.busy": "2021-03-16T09:30:38.055529Z",
     "iopub.status.idle": "2021-03-16T09:30:40.332033Z",
     "shell.execute_reply": "2021-03-16T09:30:40.331158Z"
    },
    "executionInfo": {
     "elapsed": 23554,
     "status": "ok",
     "timestamp": 1615724391568,
     "user": {
      "displayName": "giovanni buroni",
      "photoUrl": "https://lh3.googleusercontent.com/a-/AOh14GjarG9foST_wpJ_PfvHTR0iWGuChdFnmm4ong7n=s64",
      "userId": "06127736531396060751"
     },
     "user_tz": -60
    },
    "id": "FIs0wUItshP2",
    "papermill": {
     "duration": 3.136857,
     "end_time": "2021-03-16T09:30:40.332178",
     "exception": false,
     "start_time": "2021-03-16T09:30:37.195321",
     "status": "completed"
    },
    "tags": []
   },
   "outputs": [],
   "source": [
    "# features\n",
    "loader_tr = prepare_data_DL(inputs, scaled_tr, batch_train)\n",
    "loader_te = prepare_data_DL(inputs, scaled_te, batch_test)\n",
    "\n",
    "# covariates\n",
    "loader_tr_cov = prepare_data_DL(inputs, scaled_tr_cov, batch_train)\n",
    "loader_te_cov = prepare_data_DL(inputs, scaled_te_cov, batch_test)"
   ]
  },
  {
   "cell_type": "code",
   "execution_count": 20,
   "metadata": {
    "execution": {
     "iopub.execute_input": "2021-03-16T09:30:40.417812Z",
     "iopub.status.busy": "2021-03-16T09:30:40.417212Z",
     "iopub.status.idle": "2021-03-16T09:30:40.738721Z",
     "shell.execute_reply": "2021-03-16T09:30:40.738248Z"
    },
    "executionInfo": {
     "elapsed": 23753,
     "status": "ok",
     "timestamp": 1615724391770,
     "user": {
      "displayName": "giovanni buroni",
      "photoUrl": "https://lh3.googleusercontent.com/a-/AOh14GjarG9foST_wpJ_PfvHTR0iWGuChdFnmm4ong7n=s64",
      "userId": "06127736531396060751"
     },
     "user_tz": -60
    },
    "id": "oYHppaM9shP3",
    "papermill": {
     "duration": 0.37764,
     "end_time": "2021-03-16T09:30:40.738867",
     "exception": false,
     "start_time": "2021-03-16T09:30:40.361227",
     "status": "completed"
    },
    "tags": []
   },
   "outputs": [],
   "source": [
    "l2_reg = 5e-4  # Regularization rate for l2\n",
    "\n",
    "# Build model\n",
    "class GCN_Net(Model):\n",
    "    \n",
    "    def __init__(self, **kwargs):\n",
    "        \n",
    "        super().__init__(**kwargs)\n",
    "\n",
    "        self.street = 4524\n",
    "\n",
    "\n",
    "        # GCN 1st order approximation\n",
    "        self.gcn_flow_0_enc = GCNConv(12, activation=\"relu\", kernel_regularizer=l2(l2_reg), use_bias=False)\n",
    "        self.gcn_flow_1_enc = GCNConv(12, activation=\"relu\", kernel_regularizer=l2(l2_reg), use_bias=False)\n",
    "\n",
    "        self.gcn_vel_0_enc = GCNConv(12, activation=\"relu\", kernel_regularizer=l2(l2_reg), use_bias=False)\n",
    "        self.gcn_vel_1_enc = GCNConv(12, activation=\"relu\", kernel_regularizer=l2(l2_reg), use_bias=False)\n",
    "\n",
    "\n",
    "\n",
    "###################\n",
    "\n",
    "        # encoder GRU FLOW\n",
    "        # self.lstm_cells_flow_init = tf.keras.layers.GRUCell(150, activation ='relu',\n",
    "        #                                 kernel_initializer='glorot_uniform',\n",
    "        #                                 recurrent_initializer='glorot_uniform',\n",
    "        #                                 kernel_regularizer=regularizers.l2(0.001),\n",
    "        #                                 bias_initializer='zeros', dropout=0.0) \n",
    "        \n",
    "        # self.lstm_flow_init = tf.keras.layers.RNN(self.lstm_cells_flow_init, return_sequences = True, return_state =True)\n",
    "\n",
    "        self.lstm_flow_init = tf.compat.v1.keras.layers.CuDNNGRU(150, #activation ='relu',\n",
    "                                        kernel_initializer='glorot_uniform',\n",
    "                                        recurrent_initializer='glorot_uniform',\n",
    "                                        kernel_regularizer=regularizers.l2(0.001),\n",
    "                                        bias_initializer='zeros', return_sequences = True, return_state =True)\n",
    "\n",
    "        # decoder GRU FLOW\n",
    "        # self.lstm_cells_flow_fin = tf.keras.layers.GRUCell(150, activation ='relu',\n",
    "        #                                 kernel_initializer='glorot_uniform',\n",
    "        #                                 recurrent_initializer='glorot_uniform',\n",
    "        #                                 kernel_regularizer=regularizers.l2(0.001),\n",
    "        #                                 bias_initializer='zeros', dropout=0.0) \n",
    "        \n",
    "        # self.lstm_flow_fin = tf.keras.layers.RNN(self.lstm_cells_flow_fin)\n",
    "\n",
    "        self.lstm_flow_fin = tf.compat.v1.keras.layers.CuDNNGRU(150, #activation ='relu',\n",
    "                                        kernel_initializer='glorot_uniform',\n",
    "                                        recurrent_initializer='glorot_uniform',\n",
    "                                        kernel_regularizer=regularizers.l2(0.001),\n",
    "                                        bias_initializer='zeros')\n",
    "\n",
    "\n",
    "\n",
    "        self.drop_flow = tf.keras.layers.Dropout(0.1)\n",
    "\n",
    "        self.dense_flow_fin = tf.keras.layers.Dense(self.street*12,\n",
    "                                           kernel_regularizer=regularizers.l2(0.001))\n",
    "        \n",
    "        \n",
    "\n",
    "##########################\n",
    "\n",
    "        # encoder GRU VEL\n",
    "        # self.lstm_cells_vel_init = tf.keras.layers.GRUCell(150, activation ='relu',\n",
    "        #                                 kernel_initializer='glorot_uniform',\n",
    "        #                                 recurrent_initializer='glorot_uniform',\n",
    "        #                                 kernel_regularizer=regularizers.l2(0.001),\n",
    "        #                                 bias_initializer='zeros', dropout=0.0) \n",
    "        \n",
    "        # self.lstm_vel_init = tf.keras.layers.RNN(self.lstm_cells_vel_init, return_sequences = True, return_state =True)\n",
    "\n",
    "        self.lstm_vel_init = tf.compat.v1.keras.layers.CuDNNGRU(150, #activation ='relu',\n",
    "                                        kernel_initializer='glorot_uniform',\n",
    "                                        recurrent_initializer='glorot_uniform',\n",
    "                                        kernel_regularizer=regularizers.l2(0.001),\n",
    "                                        bias_initializer='zeros', return_sequences = True, return_state =True)\n",
    "\n",
    "\n",
    "        # decoder GRU VEL\n",
    "        # self.lstm_cells_vel_fin = tf.keras.layers.GRUCell(150, activation ='relu',\n",
    "        #                                 kernel_initializer='glorot_uniform',\n",
    "        #                                 recurrent_initializer='glorot_uniform',\n",
    "        #                                 kernel_regularizer=regularizers.l2(0.001),\n",
    "        #                                 bias_initializer='zeros', dropout=0.0) \n",
    "        \n",
    "        # self.lstm_vel_fin = tf.keras.layers.RNN(self.lstm_cells_vel_fin)\n",
    "\n",
    "\n",
    "        self.lstm_vel_fin = tf.compat.v1.keras.layers.CuDNNGRU(150, #activation ='relu',\n",
    "                                        kernel_initializer='glorot_uniform',\n",
    "                                        recurrent_initializer='glorot_uniform',\n",
    "                                        kernel_regularizer=regularizers.l2(0.001),\n",
    "                                        bias_initializer='zeros')\n",
    "\n",
    "\n",
    "\n",
    "        self.drop_vel = tf.keras.layers.Dropout(0.1)\n",
    "\n",
    "\n",
    "        self.dense_vel_fin = tf.keras.layers.Dense(self.street*12,\n",
    "                                           kernel_regularizer=regularizers.l2(0.001))\n",
    "        \n",
    "        \n",
    "\n",
    "        \n",
    "##################################\n",
    "\n",
    "        self.attention_flow = tf.keras.layers.MultiHeadAttention(num_heads=2, key_dim=2)\n",
    "        self.attention_vel = tf.keras.layers.MultiHeadAttention(num_heads=2, key_dim=2)\n",
    "\n",
    "\n",
    "        self.dense_temporal_0 = tf.keras.layers.Dense(150, activation ='relu') #tf.keras.layers.TimeDistributed()\n",
    "        self.dense_temporal_1 = tf.keras.layers.Dense(64, activation ='relu')\n",
    "        self.dense_temporal_2 = tf.keras.layers.Dense(150)\n",
    "\n",
    "\n",
    "        self.drop = tf.keras.layers.Dropout(0.1)   \n",
    "\n",
    "        self.add = tf.keras.layers.Add()\n",
    "        self.norm = tf.keras.layers.LayerNormalization()\n",
    "\n",
    "        self.reshape = tf.keras.layers.Reshape([12, self.street])\n",
    "        self.repeat = tf.keras.layers.RepeatVector(12)\n",
    "        \n",
    "\n",
    "    def call(self, flow_vel, a, past_cov, fut_cov):\n",
    "\n",
    "        # sparse matrix\n",
    "        sparse_a = tf.sparse.from_dense(a)\n",
    "  \n",
    "        # flow\n",
    "        flow_0 = flow_vel[:, :, :-self.street] #4524\n",
    "        # velocity\n",
    "        vel_0  = flow_vel[:, :, -self.street:]\n",
    "        \n",
    "\n",
    "        # shape for gcn\n",
    "        flow_sh = tf.reshape(flow_0 , [flow_0.shape[0], flow_0 .shape[2], flow_0.shape[1]])\n",
    "        vel_sh = tf.reshape(vel_0 , [vel_0.shape[0], vel_0.shape[2], vel_0.shape[1]])\n",
    "\n",
    "        # two gcn on flow and vel\n",
    "        gcn_flow = self.gcn_flow_0_enc([flow_sh, sparse_a])\n",
    "        gcn_flow = self.gcn_flow_1_enc([gcn_flow, sparse_a])\n",
    "\n",
    "\n",
    "        # gcn_flow = self.cheb_flow([flow_sh, sparse_a])\n",
    "\n",
    "        gcn_vel = self.gcn_vel_0_enc([vel_sh, sparse_a])\n",
    "        gcn_vel = self.gcn_vel_1_enc([gcn_vel, sparse_a])\n",
    "\n",
    "        # gcn_vel = self.cheb_vel([vel_sh, sparse_a])\n",
    "\n",
    "        # shape for lstm\n",
    "        flow_sh = tf.reshape(gcn_flow, [gcn_flow.shape[0], gcn_flow.shape[2], gcn_flow.shape[1]])\n",
    "        vel_sh = tf.reshape(gcn_vel, [gcn_vel.shape[0], gcn_vel.shape[2], gcn_vel.shape[1]])\n",
    "\n",
    "\n",
    "        \n",
    "        # two lstm models\n",
    "        flow_init, h_flow = self.lstm_flow_init(flow_sh)\n",
    "        vel_init, h_vel = self.lstm_vel_init(vel_sh)\n",
    "\n",
    "\n",
    "        # flow_init = self.repeat(h_flow)#\n",
    "        # vel_init = self.repeat(h_vel)#\n",
    "\n",
    "\n",
    "\n",
    "        # merge layer\n",
    "        # output\n",
    "        flow_vel_i = tf.concat([flow_init, vel_init], axis=2) # \n",
    "\n",
    "        flow_vel = self.dense_temporal_0(flow_vel_i)\n",
    "        flow_vel = self.dense_temporal_1(flow_vel)\n",
    "        flow_vel_f = self.dense_temporal_2(flow_vel)\n",
    "\n",
    "        # flow_vel = self.repeat(flow_vel_f) #\n",
    "        # add_flow_vel = self.add([flow_vel_i, flow_vel_f]) \n",
    "\n",
    "\n",
    "        # multi-head attention\n",
    "        # # Q: flow & vel\n",
    "        # # K: flow\n",
    "        att_flow, weight_flow = self.attention_flow(flow_vel_f, flow_init,\n",
    "                               return_attention_scores=True)\n",
    "\n",
    "\n",
    "        # # Q: vel & vel\n",
    "        # # K: vel\n",
    "        att_vel, weight_vel = self.attention_vel(flow_vel_f, vel_init,\n",
    "                               return_attention_scores=True)\n",
    "\n",
    "#         # add\n",
    "#         add_flow = self.add([att_flow, flow_vel_f]) # flow_vel, flow_init\n",
    "#         add_vel = self.add([att_vel, flow_vel_f]) # vel_init\n",
    "\n",
    "# -----\n",
    "\n",
    "        # concatenate covariates\n",
    "        # output flow_vel - covariates\n",
    "        fut_cov = tf.cast(fut_cov, dtype=tf.float32)\n",
    "        concat_flow = tf.concat([att_flow, fut_cov], axis=2)\n",
    "        concat_vel = tf.concat([att_vel, fut_cov], axis=2)\n",
    "  \n",
    "        # two models for flow and speed respectively\n",
    "\n",
    "        # flow\n",
    "        flow_final = self.lstm_flow_fin(concat_flow , initial_state = [flow_vel_f[:,-1,:]]) # , initial_state = [flow_vel_f]) #  flow_vel_f, h_flow flow_vel_f[:,-1,:]\n",
    "        flow = self.drop_flow(flow_final)\n",
    "        flow = self.dense_flow_fin(flow)\n",
    "        flow = self.reshape(flow)\n",
    "\n",
    "\n",
    "        # velocity\n",
    "        vel_final = self.lstm_vel_fin(concat_vel, initial_state = [flow_vel_f[:,-1,:]]) # , initial_state = [flow_vel_f]) \n",
    "        vel = self.drop_vel(vel_final)\n",
    "        vel = self.dense_vel_fin(vel)\n",
    "        vel = self.reshape(vel)\n",
    "\n",
    "\n",
    "        # concatenate two finals results\n",
    "        final = tf.concat([flow, vel], axis=-1)\n",
    "\n",
    "        return final, weight_flow, weight_vel\n",
    "\n",
    "\n",
    "# Create model\n",
    "model = GCN_Net()\n",
    "optimizer = Adam(lr=0.001)\n",
    "loss_fn = tf.keras.losses.MeanAbsoluteError()"
   ]
  },
  {
   "cell_type": "code",
   "execution_count": 21,
   "metadata": {
    "execution": {
     "iopub.execute_input": "2021-03-16T09:30:40.807771Z",
     "iopub.status.busy": "2021-03-16T09:30:40.806568Z",
     "iopub.status.idle": "2021-03-16T09:32:20.242587Z",
     "shell.execute_reply": "2021-03-16T09:32:20.241513Z"
    },
    "executionInfo": {
     "elapsed": 33850,
     "status": "ok",
     "timestamp": 1615724401868,
     "user": {
      "displayName": "giovanni buroni",
      "photoUrl": "https://lh3.googleusercontent.com/a-/AOh14GjarG9foST_wpJ_PfvHTR0iWGuChdFnmm4ong7n=s64",
      "userId": "06127736531396060751"
     },
     "user_tz": -60
    },
    "id": "NAuLnUrpdmzz",
    "papermill": {
     "duration": 99.471376,
     "end_time": "2021-03-16T09:32:20.242744",
     "exception": false,
     "start_time": "2021-03-16T09:30:40.771368",
     "status": "completed"
    },
    "tags": []
   },
   "outputs": [],
   "source": [
    "adj_matrix = gcn_filter(adj_matrix, symmetric=True)"
   ]
  },
  {
   "cell_type": "code",
   "execution_count": 22,
   "metadata": {
    "execution": {
     "iopub.execute_input": "2021-03-16T09:32:20.664912Z",
     "iopub.status.busy": "2021-03-16T09:32:20.664103Z",
     "iopub.status.idle": "2021-03-16T09:32:20.668074Z",
     "shell.execute_reply": "2021-03-16T09:32:20.668476Z"
    },
    "papermill": {
     "duration": 0.397022,
     "end_time": "2021-03-16T09:32:20.668620",
     "exception": false,
     "start_time": "2021-03-16T09:32:20.271598",
     "status": "completed"
    },
    "tags": []
   },
   "outputs": [
    {
     "data": {
      "text/plain": [
       "40"
      ]
     },
     "execution_count": 22,
     "metadata": {},
     "output_type": "execute_result"
    }
   ],
   "source": [
    "del data_tr, data_te, data_flow, data_vel, data, scaled_tr, scaled_te\n",
    "gc.collect()"
   ]
  },
  {
   "cell_type": "code",
   "execution_count": 23,
   "metadata": {
    "execution": {
     "iopub.execute_input": "2021-03-16T09:32:20.733974Z",
     "iopub.status.busy": "2021-03-16T09:32:20.732150Z",
     "iopub.status.idle": "2021-03-16T09:32:20.734559Z",
     "shell.execute_reply": "2021-03-16T09:32:20.734961Z"
    },
    "executionInfo": {
     "elapsed": 33850,
     "status": "ok",
     "timestamp": 1615724401871,
     "user": {
      "displayName": "giovanni buroni",
      "photoUrl": "https://lh3.googleusercontent.com/a-/AOh14GjarG9foST_wpJ_PfvHTR0iWGuChdFnmm4ong7n=s64",
      "userId": "06127736531396060751"
     },
     "user_tz": -60
    },
    "id": "c-ua6TRjshP3",
    "papermill": {
     "duration": 0.037343,
     "end_time": "2021-03-16T09:32:20.735090",
     "exception": false,
     "start_time": "2021-03-16T09:32:20.697747",
     "status": "completed"
    },
    "tags": []
   },
   "outputs": [],
   "source": [
    "# Training function\n",
    "@tf.function\n",
    "def train_on_batch(inputs, target, past_cov, fut_cov):\n",
    "    \n",
    "    loss = 0\n",
    "\n",
    "    with tf.GradientTape() as tape:\n",
    "        \n",
    "        predictions, weight_flow, weight_vel = model(inputs, adj_matrix, past_cov, fut_cov, training=True) #predictions\n",
    "        \n",
    "        loss = loss_fn(target, predictions)\n",
    "\n",
    "\n",
    "    variables = model.trainable_variables \n",
    "\n",
    "    gradients = tape.gradient(loss, variables)\n",
    "\n",
    "    optimizer.apply_gradients(zip(gradients, variables))\n",
    "    \n",
    "    return loss"
   ]
  },
  {
   "cell_type": "code",
   "execution_count": 24,
   "metadata": {
    "execution": {
     "iopub.execute_input": "2021-03-16T09:32:20.800562Z",
     "iopub.status.busy": "2021-03-16T09:32:20.799810Z",
     "iopub.status.idle": "2021-03-16T10:12:17.435052Z",
     "shell.execute_reply": "2021-03-16T10:12:17.435486Z"
    },
    "id": "mDbqw5X4shP3",
    "papermill": {
     "duration": 2396.671695,
     "end_time": "2021-03-16T10:12:17.435639",
     "exception": false,
     "start_time": "2021-03-16T09:32:20.763944",
     "status": "completed"
    },
    "tags": []
   },
   "outputs": [
    {
     "name": "stdout",
     "output_type": "stream",
     "text": [
      "Epoch 0: Loss MAE: 0.05810\n",
      "Epoch 10: Loss MAE: 0.04586\n",
      "Epoch 20: Loss MAE: 0.04504\n",
      "Epoch 30: Loss MAE: 0.04489\n",
      "Epoch 40: Loss MAE: 0.04456\n",
      "Epoch 50: Loss MAE: 0.04470\n",
      "Epoch 60: Loss MAE: 0.04441\n",
      "Epoch 70: Loss MAE: 0.04430\n",
      "Epoch 80: Loss MAE: 0.04412\n",
      "Epoch 90: Loss MAE: 0.04411\n",
      "Epoch 100: Loss MAE: 0.04398\n",
      "Epoch 110: Loss MAE: 0.04394\n",
      "Epoch 120: Loss MAE: 0.04389\n",
      "Epoch 130: Loss MAE: 0.04381\n",
      "Epoch 140: Loss MAE: 0.04378\n",
      "Epoch 150: Loss MAE: 0.04371\n",
      "Epoch 160: Loss MAE: 0.04365\n",
      "Epoch 170: Loss MAE: 0.04365\n",
      "Epoch 180: Loss MAE: 0.04360\n",
      "Epoch 190: Loss MAE: 0.04350\n",
      "Epoch 200: Loss MAE: 0.04351\n",
      "Epoch 210: Loss MAE: 0.04343\n",
      "Epoch 220: Loss MAE: 0.04344\n",
      "Epoch 230: Loss MAE: 0.04333\n",
      "Epoch 240: Loss MAE: 0.04332\n",
      "Time taken for 1 epoch 9.093233823776245 sec\n",
      "\n"
     ]
    }
   ],
   "source": [
    "EPOCHS = 250\n",
    "\n",
    "# Keep results for plotting\n",
    "train_loss_results = []\n",
    "\n",
    "samples_cov = list(loader_tr_cov)\n",
    "\n",
    "for epoch in range(EPOCHS):\n",
    "    \n",
    "    start = time.time()\n",
    "\n",
    "    epoch_loss_avg = tf.keras.metrics.Mean()\n",
    "     \n",
    "    step = 0\n",
    "\n",
    "    for batch in loader_tr:\n",
    "\n",
    "        cov = samples_cov[step]\n",
    "        past_cov = cov[0]\n",
    "        fut_cov = cov[1]\n",
    "        \n",
    "        # Training step\n",
    "        inputs, target = batch\n",
    "        \n",
    "        loss = train_on_batch(inputs, target, past_cov, fut_cov)\n",
    "        \n",
    "        # Track progress\n",
    "        epoch_loss_avg.update_state(loss)\n",
    "\n",
    "        step+=1\n",
    "\n",
    "    # End epoch\n",
    "    train_loss_results.append(epoch_loss_avg.result())\n",
    "\n",
    "    if epoch % 10 == 0:\n",
    "            print(\"Epoch {}: Loss MAE: {:.5f}\".format(epoch, epoch_loss_avg.result()))\n",
    "        \n",
    "print('Time taken for 1 epoch {} sec\\n'.format(time.time() - start))"
   ]
  },
  {
   "cell_type": "code",
   "execution_count": 25,
   "metadata": {
    "execution": {
     "iopub.execute_input": "2021-03-16T10:12:17.528234Z",
     "iopub.status.busy": "2021-03-16T10:12:17.526630Z",
     "iopub.status.idle": "2021-03-16T10:12:17.756308Z",
     "shell.execute_reply": "2021-03-16T10:12:17.755851Z"
    },
    "id": "igL4S8uAshP4",
    "papermill": {
     "duration": 0.285052,
     "end_time": "2021-03-16T10:12:17.756427",
     "exception": false,
     "start_time": "2021-03-16T10:12:17.471375",
     "status": "completed"
    },
    "tags": []
   },
   "outputs": [
    {
     "data": {
      "image/png": "[encoded data removed]",
      "text/plain": [
       "<Figure size 864x576 with 1 Axes>"
      ]
     },
     "metadata": {
      "needs_background": "light"
     },
     "output_type": "display_data"
    }
   ],
   "source": [
    "fig, axes = plt.subplots(1, sharex=True, figsize=(12, 8))\n",
    "fig.suptitle('Training Metrics')\n",
    "\n",
    "axes.set_ylabel(\"Loss (MAE)\", fontsize=14)\n",
    "axes.plot(train_loss_results)\n",
    "axes.set_xlabel(\"Epoch\", fontsize=14)\n",
    "plt.show()"
   ]
  },
  {
   "cell_type": "code",
   "execution_count": 26,
   "metadata": {
    "execution": {
     "iopub.execute_input": "2021-03-16T10:12:17.834386Z",
     "iopub.status.busy": "2021-03-16T10:12:17.833844Z",
     "iopub.status.idle": "2021-03-16T10:12:17.838084Z",
     "shell.execute_reply": "2021-03-16T10:12:17.837622Z"
    },
    "id": "5sPebFR-shP4",
    "papermill": {
     "duration": 0.044869,
     "end_time": "2021-03-16T10:12:17.838209",
     "exception": false,
     "start_time": "2021-03-16T10:12:17.793340",
     "status": "completed"
    },
    "tags": []
   },
   "outputs": [],
   "source": [
    "def inverse_transform(forecasts, scaler):\n",
    "    # invert scaling\n",
    "    inv_pred = scaler.inverse_transform(forecasts)\n",
    "    return inv_pred"
   ]
  },
  {
   "cell_type": "code",
   "execution_count": 27,
   "metadata": {
    "execution": {
     "iopub.execute_input": "2021-03-16T10:12:17.920739Z",
     "iopub.status.busy": "2021-03-16T10:12:17.919034Z",
     "iopub.status.idle": "2021-03-16T10:12:17.921360Z",
     "shell.execute_reply": "2021-03-16T10:12:17.921748Z"
    },
    "id": "pHksYSD3GCkR",
    "papermill": {
     "duration": 0.046677,
     "end_time": "2021-03-16T10:12:17.921891",
     "exception": false,
     "start_time": "2021-03-16T10:12:17.875214",
     "status": "completed"
    },
    "tags": []
   },
   "outputs": [],
   "source": [
    "def evaluate_forecasts(targets, forecasts, n_seq):\n",
    "    \n",
    "    list_rmse = []\n",
    "    list_mae = []\n",
    "    \n",
    "    for i in range(n_seq):\n",
    "        true = np.vstack([target[i] for target in targets])\n",
    "        predicted = np.vstack([forecast[i] for forecast in forecasts])\n",
    "        \n",
    "        rmse = np.sqrt((np.square(true - predicted)).mean(axis=0))\n",
    "        mae = np.absolute(true - predicted).mean(axis=0)\n",
    "        \n",
    "        list_rmse.append(rmse)\n",
    "        list_mae.append(mae)\n",
    "        \n",
    "    list_rmse = np.vstack(list_rmse)\n",
    "    list_mae = np.vstack(list_mae)\n",
    "    \n",
    "    return list_rmse, list_mae"
   ]
  },
  {
   "cell_type": "code",
   "execution_count": 28,
   "metadata": {
    "execution": {
     "iopub.execute_input": "2021-03-16T10:12:18.000730Z",
     "iopub.status.busy": "2021-03-16T10:12:18.000192Z",
     "iopub.status.idle": "2021-03-16T10:12:18.004485Z",
     "shell.execute_reply": "2021-03-16T10:12:18.004059Z"
    },
    "papermill": {
     "duration": 0.04571,
     "end_time": "2021-03-16T10:12:18.004604",
     "exception": false,
     "start_time": "2021-03-16T10:12:17.958894",
     "status": "completed"
    },
    "tags": []
   },
   "outputs": [],
   "source": [
    "def plot_attention(attention):\n",
    "    \n",
    "    fig = plt.figure(figsize=(10,10))\n",
    "    plt.matshow(attention, cmap='viridis')\n",
    "\n",
    "    return plt.show()"
   ]
  },
  {
   "cell_type": "code",
   "execution_count": 29,
   "metadata": {
    "execution": {
     "iopub.execute_input": "2021-03-16T10:12:18.089714Z",
     "iopub.status.busy": "2021-03-16T10:12:18.088869Z",
     "iopub.status.idle": "2021-03-16T10:43:49.720647Z",
     "shell.execute_reply": "2021-03-16T10:43:49.720182Z"
    },
    "id": "-VfOJ2z9shP4",
    "papermill": {
     "duration": 1891.679334,
     "end_time": "2021-03-16T10:43:49.720799",
     "exception": false,
     "start_time": "2021-03-16T10:12:18.041465",
     "status": "completed"
    },
    "tags": []
   },
   "outputs": [
    {
     "name": "stderr",
     "output_type": "stream",
     "text": [
      "1321it [31:31,  1.43s/it]\n"
     ]
    }
   ],
   "source": [
    "from tqdm import tqdm\n",
    "from matplotlib import pyplot\n",
    "\n",
    "forecasts = []\n",
    "targets = []\n",
    "\n",
    "rmse_list = []\n",
    "mae_list = []\n",
    "\n",
    "samples_cov = list(loader_te_cov)\n",
    "\n",
    "\n",
    "# del loader_te_cov, loader_tr, loader_tr_cov\n",
    "# gc.collect()\n",
    "\n",
    "\n",
    "for (step, (inp, targ)) in enumerate(tqdm(loader_te)):\n",
    "    \n",
    "            \n",
    "        timestamp = print_datetime[step]\n",
    "\n",
    "        cov = samples_cov[step]\n",
    "        past_cov = cov[0]\n",
    "        fut_cov = cov[1]\n",
    "        \n",
    "        pred, weight_flow, weight_vel  = model(inp, adj_matrix, past_cov, fut_cov, training=False)\n",
    "        \n",
    "\n",
    "#         columns_sums = np.vstack(weight_flow[0]).sum(axis=0)\n",
    "#         new_matrix = weight_flow[0]/columns_sums\n",
    "#         plot_attention(np.mean(new_matrix, axis=0))\n",
    "        \n",
    "#         fig = plt.figure(figsize=(10,10))\n",
    "#         pyplot.plot(range(12), np.mean(np.mean(inp[:, :, :-4524],axis=0),axis=1)) \n",
    "#         pyplot.bar(range(12), np.mean(np.mean(new_matrix, axis=0),axis=0).reshape(-1,), color ='red')\n",
    "#         pyplot.plot([None for i in np.mean(np.mean(inp[:, :, :-4524], axis=0), axis=1).tolist()] + [x for x in np.mean(pred[:, :, :-4524][0], axis=1).tolist()])\n",
    "#         pyplot.plot([None for i in np.mean(np.mean(inp[:, :, :-4524], axis=0), axis=1).tolist()] + [x for x in np.mean(targ[:, :, :-4524][0], axis=1).tolist()])\n",
    "#         plt.show()\n",
    "        \n",
    "\n",
    "\n",
    "\n",
    "        truth = inverse_transform(targ[0],  scaler)\n",
    "        pred = inverse_transform(pred[0],  scaler)\n",
    "        \n",
    "        \n",
    "\n",
    "        \n",
    "  \n",
    "        forecasts.append(pred)\n",
    "        targets.append(truth)\n",
    "            \n",
    "\n",
    "        rmse, mae = evaluate_forecasts(targets, forecasts, 12)\n",
    "        \n",
    "        rmse_list.append(rmse)\n",
    "        mae_list.append(mae)\n",
    "           \n",
    "        \n",
    "#         del pred, truth, inp, targ, fut_cov, past_cov, cov\n",
    "#         gc.collect()\n",
    "\n",
    "\n",
    "\n",
    "            \n",
    "\n",
    "    "
   ]
  },
  {
   "cell_type": "code",
   "execution_count": 30,
   "metadata": {
    "execution": {
     "iopub.execute_input": "2021-03-16T10:43:50.471388Z",
     "iopub.status.busy": "2021-03-16T10:43:50.470734Z",
     "iopub.status.idle": "2021-03-16T10:43:50.802162Z",
     "shell.execute_reply": "2021-03-16T10:43:50.801718Z"
    },
    "papermill": {
     "duration": 0.710467,
     "end_time": "2021-03-16T10:43:50.802285",
     "exception": false,
     "start_time": "2021-03-16T10:43:50.091818",
     "status": "completed"
    },
    "tags": []
   },
   "outputs": [
    {
     "ename": "NameError",
     "evalue": "name 'new_matrix' is not defined",
     "output_type": "error",
     "traceback": [
      "\u001b[0;31m---------------------------------------------------------------------------\u001b[0m",
      "\u001b[0;31mNameError\u001b[0m                                 Traceback (most recent call last)",
      "\u001b[0;32m<ipython-input-30-9312da9a8961>\u001b[0m in \u001b[0;36m<module>\u001b[0;34m\u001b[0m\n\u001b[0;32m----> 1\u001b[0;31m \u001b[0mnew_matrix\u001b[0m\u001b[0;34m\u001b[0m\u001b[0;34m\u001b[0m\u001b[0m\n\u001b[0m",
      "\u001b[0;31mNameError\u001b[0m: name 'new_matrix' is not defined"
     ]
    }
   ],
   "source": [
    "new_matrix"
   ]
  },
  {
   "cell_type": "code",
   "execution_count": 31,
   "metadata": {
    "execution": {
     "iopub.execute_input": "2021-03-16T10:43:51.664871Z",
     "iopub.status.busy": "2021-03-16T10:43:51.663958Z",
     "iopub.status.idle": "2021-03-16T10:43:52.195269Z",
     "shell.execute_reply": "2021-03-16T10:43:52.194814Z"
    },
    "papermill": {
     "duration": 1.023896,
     "end_time": "2021-03-16T10:43:52.195393",
     "exception": false,
     "start_time": "2021-03-16T10:43:51.171497",
     "status": "completed"
    },
    "tags": []
   },
   "outputs": [
    {
     "data": {
      "text/plain": [
       "<Figure size 720x720 with 0 Axes>"
      ]
     },
     "metadata": {},
     "output_type": "display_data"
    },
    {
     "data": {
      "image/png": "[encoded data removed]",
      "text/plain": [
       "<Figure size 288x288 with 1 Axes>"
      ]
     },
     "metadata": {
      "needs_background": "light"
     },
     "output_type": "display_data"
    },
    {
     "ename": "IndexError",
     "evalue": "too many indices for array: array is 2-dimensional, but 3 were indexed",
     "output_type": "error",
     "traceback": [
      "\u001b[0;31m---------------------------------------------------------------------------\u001b[0m",
      "\u001b[0;31mIndexError\u001b[0m                                Traceback (most recent call last)",
      "\u001b[0;32m<ipython-input-31-2bb38f31d514>\u001b[0m in \u001b[0;36m<module>\u001b[0;34m\u001b[0m\n\u001b[1;32m      5\u001b[0m \u001b[0mpyplot\u001b[0m\u001b[0;34m.\u001b[0m\u001b[0mplot\u001b[0m\u001b[0;34m(\u001b[0m\u001b[0mrange\u001b[0m\u001b[0;34m(\u001b[0m\u001b[0;36m12\u001b[0m\u001b[0;34m)\u001b[0m\u001b[0;34m,\u001b[0m \u001b[0mnp\u001b[0m\u001b[0;34m.\u001b[0m\u001b[0mmean\u001b[0m\u001b[0;34m(\u001b[0m\u001b[0mnp\u001b[0m\u001b[0;34m.\u001b[0m\u001b[0mmean\u001b[0m\u001b[0;34m(\u001b[0m\u001b[0minp\u001b[0m\u001b[0;34m[\u001b[0m\u001b[0;34m:\u001b[0m\u001b[0;34m,\u001b[0m \u001b[0;34m:\u001b[0m\u001b[0;34m,\u001b[0m \u001b[0;34m:\u001b[0m\u001b[0;34m-\u001b[0m\u001b[0;36m4524\u001b[0m\u001b[0;34m]\u001b[0m\u001b[0;34m,\u001b[0m\u001b[0maxis\u001b[0m\u001b[0;34m=\u001b[0m\u001b[0;36m0\u001b[0m\u001b[0;34m)\u001b[0m\u001b[0;34m,\u001b[0m\u001b[0maxis\u001b[0m\u001b[0;34m=\u001b[0m\u001b[0;36m1\u001b[0m\u001b[0;34m)\u001b[0m\u001b[0;34m)\u001b[0m\u001b[0;34m\u001b[0m\u001b[0;34m\u001b[0m\u001b[0m\n\u001b[1;32m      6\u001b[0m \u001b[0mpyplot\u001b[0m\u001b[0;34m.\u001b[0m\u001b[0mbar\u001b[0m\u001b[0;34m(\u001b[0m\u001b[0mrange\u001b[0m\u001b[0;34m(\u001b[0m\u001b[0;36m12\u001b[0m\u001b[0;34m)\u001b[0m\u001b[0;34m,\u001b[0m \u001b[0mnp\u001b[0m\u001b[0;34m.\u001b[0m\u001b[0mmean\u001b[0m\u001b[0;34m(\u001b[0m\u001b[0mnp\u001b[0m\u001b[0;34m.\u001b[0m\u001b[0mmean\u001b[0m\u001b[0;34m(\u001b[0m\u001b[0mnew_matrix\u001b[0m\u001b[0;34m,\u001b[0m \u001b[0maxis\u001b[0m\u001b[0;34m=\u001b[0m\u001b[0;36m0\u001b[0m\u001b[0;34m)\u001b[0m\u001b[0;34m,\u001b[0m \u001b[0maxis\u001b[0m\u001b[0;34m=\u001b[0m\u001b[0;36m0\u001b[0m\u001b[0;34m)\u001b[0m\u001b[0;34m.\u001b[0m\u001b[0mreshape\u001b[0m\u001b[0;34m(\u001b[0m\u001b[0;34m-\u001b[0m\u001b[0;36m1\u001b[0m\u001b[0;34m,\u001b[0m\u001b[0;34m)\u001b[0m\u001b[0;34m,\u001b[0m \u001b[0mcolor\u001b[0m \u001b[0;34m=\u001b[0m\u001b[0;34m'red'\u001b[0m\u001b[0;34m)\u001b[0m\u001b[0;34m\u001b[0m\u001b[0;34m\u001b[0m\u001b[0m\n\u001b[0;32m----> 7\u001b[0;31m \u001b[0mpyplot\u001b[0m\u001b[0;34m.\u001b[0m\u001b[0mplot\u001b[0m\u001b[0;34m(\u001b[0m\u001b[0;34m[\u001b[0m\u001b[0;32mNone\u001b[0m \u001b[0;32mfor\u001b[0m \u001b[0mi\u001b[0m \u001b[0;32min\u001b[0m \u001b[0mnp\u001b[0m\u001b[0;34m.\u001b[0m\u001b[0mmean\u001b[0m\u001b[0;34m(\u001b[0m\u001b[0mnp\u001b[0m\u001b[0;34m.\u001b[0m\u001b[0mmean\u001b[0m\u001b[0;34m(\u001b[0m\u001b[0minp\u001b[0m\u001b[0;34m[\u001b[0m\u001b[0;34m:\u001b[0m\u001b[0;34m,\u001b[0m \u001b[0;34m:\u001b[0m\u001b[0;34m,\u001b[0m \u001b[0;34m:\u001b[0m\u001b[0;34m-\u001b[0m\u001b[0;36m4524\u001b[0m\u001b[0;34m]\u001b[0m\u001b[0;34m,\u001b[0m \u001b[0maxis\u001b[0m\u001b[0;34m=\u001b[0m\u001b[0;36m0\u001b[0m\u001b[0;34m)\u001b[0m\u001b[0;34m,\u001b[0m \u001b[0maxis\u001b[0m\u001b[0;34m=\u001b[0m\u001b[0;36m1\u001b[0m\u001b[0;34m)\u001b[0m\u001b[0;34m.\u001b[0m\u001b[0mtolist\u001b[0m\u001b[0;34m(\u001b[0m\u001b[0;34m)\u001b[0m\u001b[0;34m]\u001b[0m \u001b[0;34m+\u001b[0m \u001b[0;34m[\u001b[0m\u001b[0mx\u001b[0m \u001b[0;32mfor\u001b[0m \u001b[0mx\u001b[0m \u001b[0;32min\u001b[0m \u001b[0mnp\u001b[0m\u001b[0;34m.\u001b[0m\u001b[0mmean\u001b[0m\u001b[0;34m(\u001b[0m\u001b[0mpred\u001b[0m\u001b[0;34m[\u001b[0m\u001b[0;34m:\u001b[0m\u001b[0;34m,\u001b[0m \u001b[0;34m:\u001b[0m\u001b[0;34m,\u001b[0m \u001b[0;34m:\u001b[0m\u001b[0;34m-\u001b[0m\u001b[0;36m4524\u001b[0m\u001b[0;34m]\u001b[0m\u001b[0;34m[\u001b[0m\u001b[0;36m0\u001b[0m\u001b[0;34m]\u001b[0m\u001b[0;34m,\u001b[0m \u001b[0maxis\u001b[0m\u001b[0;34m=\u001b[0m\u001b[0;36m1\u001b[0m\u001b[0;34m)\u001b[0m\u001b[0;34m.\u001b[0m\u001b[0mtolist\u001b[0m\u001b[0;34m(\u001b[0m\u001b[0;34m)\u001b[0m\u001b[0;34m]\u001b[0m\u001b[0;34m)\u001b[0m\u001b[0;34m\u001b[0m\u001b[0;34m\u001b[0m\u001b[0m\n\u001b[0m\u001b[1;32m      8\u001b[0m \u001b[0mpyplot\u001b[0m\u001b[0;34m.\u001b[0m\u001b[0mplot\u001b[0m\u001b[0;34m(\u001b[0m\u001b[0;34m[\u001b[0m\u001b[0;32mNone\u001b[0m \u001b[0;32mfor\u001b[0m \u001b[0mi\u001b[0m \u001b[0;32min\u001b[0m \u001b[0mnp\u001b[0m\u001b[0;34m.\u001b[0m\u001b[0mmean\u001b[0m\u001b[0;34m(\u001b[0m\u001b[0mnp\u001b[0m\u001b[0;34m.\u001b[0m\u001b[0mmean\u001b[0m\u001b[0;34m(\u001b[0m\u001b[0minp\u001b[0m\u001b[0;34m[\u001b[0m\u001b[0;34m:\u001b[0m\u001b[0;34m,\u001b[0m \u001b[0;34m:\u001b[0m\u001b[0;34m,\u001b[0m \u001b[0;34m:\u001b[0m\u001b[0;34m-\u001b[0m\u001b[0;36m4524\u001b[0m\u001b[0;34m]\u001b[0m\u001b[0;34m,\u001b[0m \u001b[0maxis\u001b[0m\u001b[0;34m=\u001b[0m\u001b[0;36m0\u001b[0m\u001b[0;34m)\u001b[0m\u001b[0;34m,\u001b[0m \u001b[0maxis\u001b[0m\u001b[0;34m=\u001b[0m\u001b[0;36m1\u001b[0m\u001b[0;34m)\u001b[0m\u001b[0;34m.\u001b[0m\u001b[0mtolist\u001b[0m\u001b[0;34m(\u001b[0m\u001b[0;34m)\u001b[0m\u001b[0;34m]\u001b[0m \u001b[0;34m+\u001b[0m \u001b[0;34m[\u001b[0m\u001b[0mx\u001b[0m \u001b[0;32mfor\u001b[0m \u001b[0mx\u001b[0m \u001b[0;32min\u001b[0m \u001b[0mnp\u001b[0m\u001b[0;34m.\u001b[0m\u001b[0mmean\u001b[0m\u001b[0;34m(\u001b[0m\u001b[0mtarg\u001b[0m\u001b[0;34m[\u001b[0m\u001b[0;34m:\u001b[0m\u001b[0;34m,\u001b[0m \u001b[0;34m:\u001b[0m\u001b[0;34m,\u001b[0m \u001b[0;34m:\u001b[0m\u001b[0;34m-\u001b[0m\u001b[0;36m4524\u001b[0m\u001b[0;34m]\u001b[0m\u001b[0;34m[\u001b[0m\u001b[0;36m0\u001b[0m\u001b[0;34m]\u001b[0m\u001b[0;34m,\u001b[0m \u001b[0maxis\u001b[0m\u001b[0;34m=\u001b[0m\u001b[0;36m1\u001b[0m\u001b[0;34m)\u001b[0m\u001b[0;34m.\u001b[0m\u001b[0mtolist\u001b[0m\u001b[0;34m(\u001b[0m\u001b[0;34m)\u001b[0m\u001b[0;34m]\u001b[0m\u001b[0;34m)\u001b[0m\u001b[0;34m\u001b[0m\u001b[0;34m\u001b[0m\u001b[0m\n\u001b[1;32m      9\u001b[0m \u001b[0mplt\u001b[0m\u001b[0;34m.\u001b[0m\u001b[0mshow\u001b[0m\u001b[0;34m(\u001b[0m\u001b[0;34m)\u001b[0m\u001b[0;34m\u001b[0m\u001b[0;34m\u001b[0m\u001b[0m\n",
      "\u001b[0;31mIndexError\u001b[0m: too many indices for array: array is 2-dimensional, but 3 were indexed"
     ]
    },
    {
     "data": {
      "image/png": "[encoded data removed]",
      "text/plain": [
       "<Figure size 720x720 with 1 Axes>"
      ]
     },
     "metadata": {
      "needs_background": "light"
     },
     "output_type": "display_data"
    }
   ],
   "source": [
    "\n",
    "new_matrix = weight_flow[0]\n",
    "plot_attention(np.mean(new_matrix, axis=0))\n",
    "        \n",
    "fig = plt.figure(figsize=(10,10))\n",
    "pyplot.plot(range(12), np.mean(np.mean(inp[:, :, :-4524],axis=0),axis=1)) \n",
    "pyplot.bar(range(12), np.mean(np.mean(new_matrix, axis=0), axis=0).reshape(-1,), color ='red')\n",
    "pyplot.plot([None for i in np.mean(np.mean(inp[:, :, :-4524], axis=0), axis=1).tolist()] + [x for x in np.mean(pred[:, :, :-4524][0], axis=1).tolist()])\n",
    "pyplot.plot([None for i in np.mean(np.mean(inp[:, :, :-4524], axis=0), axis=1).tolist()] + [x for x in np.mean(targ[:, :, :-4524][0], axis=1).tolist()])\n",
    "plt.show()"
   ]
  },
  {
   "cell_type": "code",
   "execution_count": 32,
   "metadata": {
    "execution": {
     "iopub.execute_input": "2021-03-16T10:43:52.960623Z",
     "iopub.status.busy": "2021-03-16T10:43:52.958811Z",
     "iopub.status.idle": "2021-03-16T10:43:52.963254Z",
     "shell.execute_reply": "2021-03-16T10:43:52.963798Z"
    },
    "papermill": {
     "duration": 0.391068,
     "end_time": "2021-03-16T10:43:52.963952",
     "exception": false,
     "start_time": "2021-03-16T10:43:52.572884",
     "status": "completed"
    },
    "tags": []
   },
   "outputs": [
    {
     "data": {
      "text/plain": [
       "array([0.07971785, 0.08117137, 0.08188223, 0.08189399, 0.07827921,\n",
       "       0.08164267, 0.08523837, 0.08500787, 0.08494362, 0.08609712,\n",
       "       0.088015  , 0.08611071], dtype=float32)"
      ]
     },
     "execution_count": 32,
     "metadata": {},
     "output_type": "execute_result"
    }
   ],
   "source": [
    "np.mean(np.mean(weight_flow[0], axis=0), axis=0)"
   ]
  },
  {
   "cell_type": "code",
   "execution_count": 33,
   "metadata": {
    "execution": {
     "iopub.execute_input": "2021-03-16T10:43:53.733508Z",
     "iopub.status.busy": "2021-03-16T10:43:53.732319Z",
     "iopub.status.idle": "2021-03-16T10:43:53.738066Z",
     "shell.execute_reply": "2021-03-16T10:43:53.737578Z"
    },
    "papermill": {
     "duration": 0.386612,
     "end_time": "2021-03-16T10:43:53.738224",
     "exception": false,
     "start_time": "2021-03-16T10:43:53.351612",
     "status": "completed"
    },
    "tags": []
   },
   "outputs": [
    {
     "data": {
      "text/plain": [
       "array([0.08323615, 0.09412985, 0.08794618, 0.09305555, 0.0751609 ,\n",
       "       0.08312968, 0.0862985 , 0.06688989, 0.08975893, 0.08041228,\n",
       "       0.08553981, 0.07444227], dtype=float32)"
      ]
     },
     "execution_count": 33,
     "metadata": {},
     "output_type": "execute_result"
    }
   ],
   "source": [
    "np.mean(np.mean(weight_vel[0], axis=0), axis=0)"
   ]
  },
  {
   "cell_type": "code",
   "execution_count": 34,
   "metadata": {
    "execution": {
     "iopub.execute_input": "2021-03-16T10:43:54.531377Z",
     "iopub.status.busy": "2021-03-16T10:43:54.530022Z",
     "iopub.status.idle": "2021-03-16T10:43:55.545477Z",
     "shell.execute_reply": "2021-03-16T10:43:55.544869Z"
    },
    "id": "FcbFoft2A95Q",
    "papermill": {
     "duration": 1.401197,
     "end_time": "2021-03-16T10:43:55.545627",
     "exception": false,
     "start_time": "2021-03-16T10:43:54.144430",
     "status": "completed"
    },
    "tags": []
   },
   "outputs": [
    {
     "data": {
      "text/plain": [
       "4.879505374471456"
      ]
     },
     "execution_count": 34,
     "metadata": {},
     "output_type": "execute_result"
    }
   ],
   "source": [
    "np.mean(rmse_list)"
   ]
  },
  {
   "cell_type": "code",
   "execution_count": 35,
   "metadata": {
    "execution": {
     "iopub.execute_input": "2021-03-16T10:43:56.311105Z",
     "iopub.status.busy": "2021-03-16T10:43:56.309586Z",
     "iopub.status.idle": "2021-03-16T10:43:57.081432Z",
     "shell.execute_reply": "2021-03-16T10:43:57.080834Z"
    },
    "id": "sB4n8CvNBF-n",
    "papermill": {
     "duration": 1.155595,
     "end_time": "2021-03-16T10:43:57.081561",
     "exception": false,
     "start_time": "2021-03-16T10:43:55.925966",
     "status": "completed"
    },
    "tags": []
   },
   "outputs": [
    {
     "data": {
      "text/plain": [
       "2.1447515977099942"
      ]
     },
     "execution_count": 35,
     "metadata": {},
     "output_type": "execute_result"
    }
   ],
   "source": [
    "np.mean(mae_list)"
   ]
  },
  {
   "cell_type": "code",
   "execution_count": 36,
   "metadata": {
    "execution": {
     "iopub.execute_input": "2021-03-16T10:43:57.827341Z",
     "iopub.status.busy": "2021-03-16T10:43:57.826033Z",
     "iopub.status.idle": "2021-03-16T10:44:00.347745Z",
     "shell.execute_reply": "2021-03-16T10:44:00.348277Z"
    },
    "id": "gEWDqYTZGNnP",
    "papermill": {
     "duration": 2.89723,
     "end_time": "2021-03-16T10:44:00.348448",
     "exception": false,
     "start_time": "2021-03-16T10:43:57.451218",
     "status": "completed"
    },
    "tags": []
   },
   "outputs": [
    {
     "name": "stdout",
     "output_type": "stream",
     "text": [
      "t+1 RMSE MEAN 4.863 +- 0.722\n",
      "\n",
      "t+2 RMSE MEAN 4.883 +- 0.731\n",
      "\n",
      "t+3 RMSE MEAN 4.892 +- 0.736\n",
      "\n",
      "t+4 RMSE MEAN 4.895 +- 0.748\n",
      "\n",
      "t+5 RMSE MEAN 4.891 +- 0.75\n",
      "\n",
      "t+6 RMSE MEAN 4.887 +- 0.746\n",
      "\n",
      "t+7 RMSE MEAN 4.883 +- 0.752\n",
      "\n",
      "t+8 RMSE MEAN 4.881 +- 0.755\n",
      "\n",
      "t+9 RMSE MEAN 4.876 +- 0.748\n",
      "\n",
      "t+10 RMSE MEAN 4.872 +- 0.751\n",
      "\n",
      "t+11 RMSE MEAN 4.868 +- 0.746\n",
      "\n",
      "t+12 RMSE MEAN 4.861 +- 0.741\n",
      "\n"
     ]
    }
   ],
   "source": [
    "RMSE_MEAN = np.mean(rmse_list,axis=0).mean(axis=1)\n",
    "RMSE_STD =  np.std(rmse_list,axis=0).std(axis=1)\n",
    "\n",
    "for i in range(len(RMSE_MEAN)):\n",
    "    print('t+'+str(i+1)+' RMSE MEAN ' +str(np.round(RMSE_MEAN[i],3))+' +- '+str(np.round(RMSE_STD[i],3)))\n",
    "    print('')"
   ]
  },
  {
   "cell_type": "code",
   "execution_count": 37,
   "metadata": {
    "execution": {
     "iopub.execute_input": "2021-03-16T10:44:01.098447Z",
     "iopub.status.busy": "2021-03-16T10:44:01.097181Z",
     "iopub.status.idle": "2021-03-16T10:44:03.421185Z",
     "shell.execute_reply": "2021-03-16T10:44:03.420547Z"
    },
    "id": "fMgrD1upGQ2o",
    "papermill": {
     "duration": 2.702249,
     "end_time": "2021-03-16T10:44:03.421324",
     "exception": false,
     "start_time": "2021-03-16T10:44:00.719075",
     "status": "completed"
    },
    "tags": []
   },
   "outputs": [
    {
     "name": "stdout",
     "output_type": "stream",
     "text": [
      "t+1 MAE MEAN 2.126 +- 0.572\n",
      "\n",
      "t+2 MAE MEAN 2.14 +- 0.594\n",
      "\n",
      "t+3 MAE MEAN 2.147 +- 0.608\n",
      "\n",
      "t+4 MAE MEAN 2.151 +- 0.63\n",
      "\n",
      "t+5 MAE MEAN 2.151 +- 0.638\n",
      "\n",
      "t+6 MAE MEAN 2.15 +- 0.635\n",
      "\n",
      "t+7 MAE MEAN 2.148 +- 0.638\n",
      "\n",
      "t+8 MAE MEAN 2.148 +- 0.649\n",
      "\n",
      "t+9 MAE MEAN 2.147 +- 0.644\n",
      "\n",
      "t+10 MAE MEAN 2.145 +- 0.653\n",
      "\n",
      "t+11 MAE MEAN 2.143 +- 0.646\n",
      "\n",
      "t+12 MAE MEAN 2.139 +- 0.638\n",
      "\n"
     ]
    }
   ],
   "source": [
    "MAE_MEAN = np.mean(mae_list,axis=0).mean(axis=1)\n",
    "MAE_STD =  np.std(mae_list,axis=0).std(axis=1)\n",
    "\n",
    "for i in range(len(MAE_MEAN)):\n",
    "    print('t+'+str(i+1)+' MAE MEAN ' +str(np.round(MAE_MEAN[i],3))+' +- '+str(np.round(MAE_STD[i],3)))\n",
    "    print('')"
   ]
  },
  {
   "cell_type": "code",
   "execution_count": 38,
   "metadata": {
    "execution": {
     "iopub.execute_input": "2021-03-16T10:44:04.172693Z",
     "iopub.status.busy": "2021-03-16T10:44:04.171721Z",
     "iopub.status.idle": "2021-03-16T10:44:10.146708Z",
     "shell.execute_reply": "2021-03-16T10:44:10.147559Z"
    },
    "id": "J86TlWyE1W9J",
    "papermill": {
     "duration": 6.353649,
     "end_time": "2021-03-16T10:44:10.147738",
     "exception": false,
     "start_time": "2021-03-16T10:44:03.794089",
     "status": "completed"
    },
    "tags": []
   },
   "outputs": [],
   "source": [
    "with open('MTL_GCN_GRU_RMSE.pkl', 'wb') as f:  \n",
    "    pickle.dump(rmse_list, f)\n",
    "\n",
    "with open('MTL_GCN_GRU_MAE.pkl', 'wb') as f:  \n",
    "    pickle.dump(mae_list, f)\n"
   ]
  },
  {
   "cell_type": "code",
   "execution_count": 39,
   "metadata": {
    "execution": {
     "iopub.execute_input": "2021-03-16T10:44:23.714041Z",
     "iopub.status.busy": "2021-03-16T10:44:23.713350Z",
     "iopub.status.idle": "2021-03-16T10:44:23.729279Z",
     "shell.execute_reply": "2021-03-16T10:44:23.728759Z"
    },
    "id": "iL4u98LoKOu8",
    "papermill": {
     "duration": 12.939591,
     "end_time": "2021-03-16T10:44:23.729398",
     "exception": false,
     "start_time": "2021-03-16T10:44:10.789807",
     "status": "completed"
    },
    "tags": []
   },
   "outputs": [],
   "source": [
    "with open('MTL_training.pkl', 'wb') as f:  \n",
    "    pickle.dump(train_loss_results, f)\n"
   ]
  }
 ],
 "metadata": {
  "kernelspec": {
   "display_name": "Python 3",
   "language": "python",
   "name": "python3"
  },
  "language_info": {
   "codemirror_mode": {
    "name": "ipython",
    "version": 3
   },
   "file_extension": ".py",
   "mimetype": "text/x-python",
   "name": "python",
   "nbconvert_exporter": "python",
   "pygments_lexer": "ipython3",
   "version": "3.7.9"
  },
  "papermill": {
   "default_parameters": {},
   "duration": 4483.347039,
   "end_time": "2021-03-16T10:44:30.261691",
   "environment_variables": {},
   "exception": null,
   "input_path": "__notebook__.ipynb",
   "output_path": "__notebook__.ipynb",
   "parameters": {},
   "start_time": "2021-03-16T09:29:46.914652",
   "version": "2.2.2"
  }
 },
 "nbformat": 4,
 "nbformat_minor": 4
}
