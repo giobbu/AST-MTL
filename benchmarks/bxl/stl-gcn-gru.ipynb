{
 "cells": [
  {
   "cell_type": "markdown",
   "metadata": {
    "id": "YIBknzfcshPu",
    "papermill": {
     "duration": 0.020121,
     "end_time": "2021-04-29T14:09:50.742697",
     "exception": false,
     "start_time": "2021-04-29T14:09:50.722576",
     "status": "completed"
    },
    "tags": []
   },
   "source": [
    "## General Import"
   ]
  },
  {
   "cell_type": "code",
   "execution_count": 1,
   "metadata": {
    "execution": {
     "iopub.execute_input": "2021-04-29T14:09:50.796813Z",
     "iopub.status.busy": "2021-04-29T14:09:50.796148Z",
     "iopub.status.idle": "2021-04-29T14:09:58.192570Z",
     "shell.execute_reply": "2021-04-29T14:09:58.191532Z"
    },
    "executionInfo": {
     "elapsed": 3939,
     "status": "ok",
     "timestamp": 1615715731815,
     "user": {
      "displayName": "giovanni buroni",
      "photoUrl": "https://lh3.googleusercontent.com/a-/AOh14GjarG9foST_wpJ_PfvHTR0iWGuChdFnmm4ong7n=s64",
      "userId": "06127736531396060751"
     },
     "user_tz": -60
    },
    "id": "m7nfSj_GshPw",
    "papermill": {
     "duration": 7.431323,
     "end_time": "2021-04-29T14:09:58.192777",
     "exception": false,
     "start_time": "2021-04-29T14:09:50.761454",
     "status": "completed"
    },
    "tags": []
   },
   "outputs": [],
   "source": [
    "from mpl_toolkits.mplot3d import Axes3D\n",
    "from sklearn.preprocessing import StandardScaler\n",
    "import matplotlib.pyplot as plt # plotting\n",
    "import numpy as np # linear algebra\n",
    "import os # accessing directory structure\n",
    "import pandas as pd # data processing, CSV file I/O (e.g. pd.read_csv)\n",
    "import tensorflow as tf\n",
    "\n",
    "from sklearn.preprocessing import MinMaxScaler\n",
    "\n",
    "import gc\n",
    "import time\n",
    "import seaborn as sns; sns.set()\n",
    "\n",
    "import os \n",
    "# Disable warnings, set Matplotlib inline plotting and load Pandas package\n",
    "import warnings\n",
    "warnings.filterwarnings('ignore')\n",
    "import pandas as pd\n",
    "import numpy as np\n",
    "#pd.options.display.mpl_style = 'default'\n",
    "from datetime import datetime\n",
    "import numpy as np\n",
    "from datetime import datetime, timedelta\n",
    "from pytz import timezone\n",
    "from dateutil import tz\n",
    "import geojson\n",
    "import geopandas as gpd\n",
    "from fiona.crs import from_epsg\n",
    "import os, json\n",
    "from shapely.geometry import shape, Point, Polygon, MultiPoint\n",
    "%matplotlib inline\n",
    "import matplotlib.pyplot as plt\n",
    "from geopandas.tools import sjoin\n",
    "\n",
    "import matplotlib.cm as cm\n",
    "\n",
    "import folium\n",
    "import shapely.geometry\n",
    "\n",
    "from branca.colormap import  linear\n",
    "import json\n",
    "import branca.colormap as cm\n",
    "import matplotlib.colors as colors\n",
    "%matplotlib inline\n",
    "\n",
    "import networkx as nx\n",
    "import pickle\n",
    "\n",
    "import osmnx as ox\n",
    "ox.config(log_console=True, use_cache=True)\n",
    "ox.__version__\n",
    "\n",
    "import matplotlib.colors as mcolors\n"
   ]
  },
  {
   "cell_type": "code",
   "execution_count": 2,
   "metadata": {
    "execution": {
     "iopub.execute_input": "2021-04-29T14:09:58.239244Z",
     "iopub.status.busy": "2021-04-29T14:09:58.238553Z",
     "iopub.status.idle": "2021-04-29T14:10:05.531639Z",
     "shell.execute_reply": "2021-04-29T14:10:05.531090Z"
    },
    "papermill": {
     "duration": 7.319643,
     "end_time": "2021-04-29T14:10:05.531767",
     "exception": false,
     "start_time": "2021-04-29T14:09:58.212124",
     "status": "completed"
    },
    "tags": []
   },
   "outputs": [
    {
     "name": "stdout",
     "output_type": "stream",
     "text": [
      "Collecting spektral\r\n",
      "  Downloading spektral-1.0.6-py3-none-any.whl (114 kB)\r\n",
      "\u001b[K     |████████████████████████████████| 114 kB 4.5 MB/s \r\n",
      "\u001b[?25hRequirement already satisfied: numpy in /opt/conda/lib/python3.7/site-packages (from spektral) (1.19.5)\r\n",
      "Requirement already satisfied: tensorflow>=2.1.0 in /opt/conda/lib/python3.7/site-packages (from spektral) (2.4.1)\r\n",
      "Requirement already satisfied: scipy in /opt/conda/lib/python3.7/site-packages (from spektral) (1.5.4)\r\n",
      "Requirement already satisfied: requests in /opt/conda/lib/python3.7/site-packages (from spektral) (2.25.1)\r\n",
      "Requirement already satisfied: networkx in /opt/conda/lib/python3.7/site-packages (from spektral) (2.5)\r\n",
      "Requirement already satisfied: tqdm in /opt/conda/lib/python3.7/site-packages (from spektral) (4.55.1)\r\n",
      "Requirement already satisfied: lxml in /opt/conda/lib/python3.7/site-packages (from spektral) (4.6.2)\r\n",
      "Requirement already satisfied: scikit-learn in /opt/conda/lib/python3.7/site-packages (from spektral) (0.24.1)\r\n",
      "Requirement already satisfied: joblib in /opt/conda/lib/python3.7/site-packages (from spektral) (1.0.0)\r\n",
      "Requirement already satisfied: pandas in /opt/conda/lib/python3.7/site-packages (from spektral) (1.1.5)\r\n",
      "Requirement already satisfied: six~=1.15.0 in /opt/conda/lib/python3.7/site-packages (from tensorflow>=2.1.0->spektral) (1.15.0)\r\n",
      "Requirement already satisfied: astunparse~=1.6.3 in /opt/conda/lib/python3.7/site-packages (from tensorflow>=2.1.0->spektral) (1.6.3)\r\n",
      "Requirement already satisfied: typing-extensions~=3.7.4 in /opt/conda/lib/python3.7/site-packages (from tensorflow>=2.1.0->spektral) (3.7.4.3)\r\n",
      "Requirement already satisfied: google-pasta~=0.2 in /opt/conda/lib/python3.7/site-packages (from tensorflow>=2.1.0->spektral) (0.2.0)\r\n",
      "Requirement already satisfied: absl-py~=0.10 in /opt/conda/lib/python3.7/site-packages (from tensorflow>=2.1.0->spektral) (0.10.0)\r\n",
      "Requirement already satisfied: gast==0.3.3 in /opt/conda/lib/python3.7/site-packages (from tensorflow>=2.1.0->spektral) (0.3.3)\r\n",
      "Requirement already satisfied: opt-einsum~=3.3.0 in /opt/conda/lib/python3.7/site-packages (from tensorflow>=2.1.0->spektral) (3.3.0)\r\n",
      "Requirement already satisfied: tensorboard~=2.4 in /opt/conda/lib/python3.7/site-packages (from tensorflow>=2.1.0->spektral) (2.4.1)\r\n",
      "Requirement already satisfied: protobuf>=3.9.2 in /opt/conda/lib/python3.7/site-packages (from tensorflow>=2.1.0->spektral) (3.14.0)\r\n",
      "Requirement already satisfied: h5py~=2.10.0 in /opt/conda/lib/python3.7/site-packages (from tensorflow>=2.1.0->spektral) (2.10.0)\r\n",
      "Requirement already satisfied: termcolor~=1.1.0 in /opt/conda/lib/python3.7/site-packages (from tensorflow>=2.1.0->spektral) (1.1.0)\r\n",
      "Requirement already satisfied: tensorflow-estimator<2.5.0,>=2.4.0 in /opt/conda/lib/python3.7/site-packages (from tensorflow>=2.1.0->spektral) (2.4.0)\r\n",
      "Requirement already satisfied: wrapt~=1.12.1 in /opt/conda/lib/python3.7/site-packages (from tensorflow>=2.1.0->spektral) (1.12.1)\r\n",
      "Requirement already satisfied: grpcio~=1.32.0 in /opt/conda/lib/python3.7/site-packages (from tensorflow>=2.1.0->spektral) (1.32.0)\r\n",
      "Requirement already satisfied: keras-preprocessing~=1.1.2 in /opt/conda/lib/python3.7/site-packages (from tensorflow>=2.1.0->spektral) (1.1.2)\r\n",
      "Requirement already satisfied: wheel~=0.35 in /opt/conda/lib/python3.7/site-packages (from tensorflow>=2.1.0->spektral) (0.36.2)\r\n",
      "Requirement already satisfied: flatbuffers~=1.12.0 in /opt/conda/lib/python3.7/site-packages (from tensorflow>=2.1.0->spektral) (1.12)\r\n",
      "Requirement already satisfied: werkzeug>=0.11.15 in /opt/conda/lib/python3.7/site-packages (from tensorboard~=2.4->tensorflow>=2.1.0->spektral) (1.0.1)\r\n",
      "Requirement already satisfied: google-auth<2,>=1.6.3 in /opt/conda/lib/python3.7/site-packages (from tensorboard~=2.4->tensorflow>=2.1.0->spektral) (1.24.0)\r\n",
      "Requirement already satisfied: setuptools>=41.0.0 in /opt/conda/lib/python3.7/site-packages (from tensorboard~=2.4->tensorflow>=2.1.0->spektral) (49.6.0.post20201009)\r\n",
      "Requirement already satisfied: markdown>=2.6.8 in /opt/conda/lib/python3.7/site-packages (from tensorboard~=2.4->tensorflow>=2.1.0->spektral) (3.3.3)\r\n",
      "Requirement already satisfied: google-auth-oauthlib<0.5,>=0.4.1 in /opt/conda/lib/python3.7/site-packages (from tensorboard~=2.4->tensorflow>=2.1.0->spektral) (0.4.2)\r\n",
      "Requirement already satisfied: tensorboard-plugin-wit>=1.6.0 in /opt/conda/lib/python3.7/site-packages (from tensorboard~=2.4->tensorflow>=2.1.0->spektral) (1.8.0)\r\n",
      "Requirement already satisfied: cachetools<5.0,>=2.0.0 in /opt/conda/lib/python3.7/site-packages (from google-auth<2,>=1.6.3->tensorboard~=2.4->tensorflow>=2.1.0->spektral) (4.1.1)\r\n",
      "Requirement already satisfied: pyasn1-modules>=0.2.1 in /opt/conda/lib/python3.7/site-packages (from google-auth<2,>=1.6.3->tensorboard~=2.4->tensorflow>=2.1.0->spektral) (0.2.7)\r\n",
      "Requirement already satisfied: rsa<5,>=3.1.4 in /opt/conda/lib/python3.7/site-packages (from google-auth<2,>=1.6.3->tensorboard~=2.4->tensorflow>=2.1.0->spektral) (4.6)\r\n",
      "Requirement already satisfied: requests-oauthlib>=0.7.0 in /opt/conda/lib/python3.7/site-packages (from google-auth-oauthlib<0.5,>=0.4.1->tensorboard~=2.4->tensorflow>=2.1.0->spektral) (1.3.0)\r\n",
      "Requirement already satisfied: importlib-metadata in /opt/conda/lib/python3.7/site-packages (from markdown>=2.6.8->tensorboard~=2.4->tensorflow>=2.1.0->spektral) (3.3.0)\r\n",
      "Requirement already satisfied: pyasn1<0.5.0,>=0.4.6 in /opt/conda/lib/python3.7/site-packages (from pyasn1-modules>=0.2.1->google-auth<2,>=1.6.3->tensorboard~=2.4->tensorflow>=2.1.0->spektral) (0.4.8)\r\n",
      "Requirement already satisfied: idna<3,>=2.5 in /opt/conda/lib/python3.7/site-packages (from requests->spektral) (2.10)\r\n",
      "Requirement already satisfied: urllib3<1.27,>=1.21.1 in /opt/conda/lib/python3.7/site-packages (from requests->spektral) (1.26.2)\r\n",
      "Requirement already satisfied: certifi>=2017.4.17 in /opt/conda/lib/python3.7/site-packages (from requests->spektral) (2020.12.5)\r\n",
      "Requirement already satisfied: chardet<5,>=3.0.2 in /opt/conda/lib/python3.7/site-packages (from requests->spektral) (3.0.4)\r\n",
      "Requirement already satisfied: oauthlib>=3.0.0 in /opt/conda/lib/python3.7/site-packages (from requests-oauthlib>=0.7.0->google-auth-oauthlib<0.5,>=0.4.1->tensorboard~=2.4->tensorflow>=2.1.0->spektral) (3.0.1)\r\n",
      "Requirement already satisfied: zipp>=0.5 in /opt/conda/lib/python3.7/site-packages (from importlib-metadata->markdown>=2.6.8->tensorboard~=2.4->tensorflow>=2.1.0->spektral) (3.4.0)\r\n",
      "Requirement already satisfied: decorator>=4.3.0 in /opt/conda/lib/python3.7/site-packages (from networkx->spektral) (4.4.2)\r\n",
      "Requirement already satisfied: python-dateutil>=2.7.3 in /opt/conda/lib/python3.7/site-packages (from pandas->spektral) (2.8.1)\r\n",
      "Requirement already satisfied: pytz>=2017.2 in /opt/conda/lib/python3.7/site-packages (from pandas->spektral) (2020.5)\r\n",
      "Requirement already satisfied: threadpoolctl>=2.0.0 in /opt/conda/lib/python3.7/site-packages (from scikit-learn->spektral) (2.1.0)\r\n",
      "Installing collected packages: spektral\r\n",
      "Successfully installed spektral-1.0.6\r\n",
      "\u001b[33mWARNING: You are using pip version 21.0.1; however, version 21.1 is available.\r\n",
      "You should consider upgrading via the '/opt/conda/bin/python3.7 -m pip install --upgrade pip' command.\u001b[0m\r\n"
     ]
    }
   ],
   "source": [
    "!pip install spektral "
   ]
  },
  {
   "cell_type": "code",
   "execution_count": 3,
   "metadata": {
    "execution": {
     "iopub.execute_input": "2021-04-29T14:10:05.586646Z",
     "iopub.status.busy": "2021-04-29T14:10:05.585892Z",
     "iopub.status.idle": "2021-04-29T14:10:05.629233Z",
     "shell.execute_reply": "2021-04-29T14:10:05.628643Z"
    },
    "executionInfo": {
     "elapsed": 3934,
     "status": "ok",
     "timestamp": 1615715731816,
     "user": {
      "displayName": "giovanni buroni",
      "photoUrl": "https://lh3.googleusercontent.com/a-/AOh14GjarG9foST_wpJ_PfvHTR0iWGuChdFnmm4ong7n=s64",
      "userId": "06127736531396060751"
     },
     "user_tz": -60
    },
    "id": "b275b4IDshPx",
    "papermill": {
     "duration": 0.071284,
     "end_time": "2021-04-29T14:10:05.629370",
     "exception": false,
     "start_time": "2021-04-29T14:10:05.558086",
     "status": "completed"
    },
    "tags": []
   },
   "outputs": [],
   "source": [
    "import tensorflow as tf\n",
    "from tensorflow.keras import Model\n",
    "from spektral.layers import GCNConv,  DiffusionConv, GATConv, GCSConv, GeneralConv, GlobalAvgPool, ChebConv\n",
    "from spektral.utils import gcn_filter\n",
    "from tensorflow.keras.regularizers import l2\n",
    "from tensorflow.keras.layers import Dense, Flatten\n",
    "from tensorflow.keras.losses import SparseCategoricalCrossentropy\n",
    "from tensorflow.keras.metrics import SparseCategoricalAccuracy\n",
    "from tensorflow.keras.optimizers import Adam\n",
    "from tensorflow.keras import regularizers"
   ]
  },
  {
   "cell_type": "code",
   "execution_count": 4,
   "metadata": {
    "execution": {
     "iopub.execute_input": "2021-04-29T14:10:05.679614Z",
     "iopub.status.busy": "2021-04-29T14:10:05.678847Z",
     "iopub.status.idle": "2021-04-29T14:10:05.681727Z",
     "shell.execute_reply": "2021-04-29T14:10:05.681335Z"
    },
    "executionInfo": {
     "elapsed": 3928,
     "status": "ok",
     "timestamp": 1615715731817,
     "user": {
      "displayName": "giovanni buroni",
      "photoUrl": "https://lh3.googleusercontent.com/a-/AOh14GjarG9foST_wpJ_PfvHTR0iWGuChdFnmm4ong7n=s64",
      "userId": "06127736531396060751"
     },
     "user_tz": -60
    },
    "id": "4nPI1eFgo16J",
    "papermill": {
     "duration": 0.029377,
     "end_time": "2021-04-29T14:10:05.681832",
     "exception": false,
     "start_time": "2021-04-29T14:10:05.652455",
     "status": "completed"
    },
    "tags": []
   },
   "outputs": [],
   "source": [
    "from numpy.random import seed\n",
    "\n",
    "# Reproducability\n",
    "def set_seed(seed=31415):\n",
    "    \n",
    "    np.random.seed(seed)\n",
    "    tf.random.set_seed(seed)\n",
    "    os.environ['PYTHONHASHSEED'] = str(seed)\n",
    "    os.environ['TF_DETERMINISTIC_OPS'] = '1'\n",
    "    \n",
    "set_seed(31415)"
   ]
  },
  {
   "cell_type": "code",
   "execution_count": 5,
   "metadata": {
    "execution": {
     "iopub.execute_input": "2021-04-29T14:10:05.731154Z",
     "iopub.status.busy": "2021-04-29T14:10:05.730539Z",
     "iopub.status.idle": "2021-04-29T14:10:26.609766Z",
     "shell.execute_reply": "2021-04-29T14:10:26.608798Z"
    },
    "executionInfo": {
     "elapsed": 19912,
     "status": "ok",
     "timestamp": 1615715747804,
     "user": {
      "displayName": "giovanni buroni",
      "photoUrl": "https://lh3.googleusercontent.com/a-/AOh14GjarG9foST_wpJ_PfvHTR0iWGuChdFnmm4ong7n=s64",
      "userId": "06127736531396060751"
     },
     "user_tz": -60
    },
    "id": "hmokpg02shPy",
    "papermill": {
     "duration": 20.905933,
     "end_time": "2021-04-29T14:10:26.609916",
     "exception": false,
     "start_time": "2021-04-29T14:10:05.703983",
     "status": "completed"
    },
    "tags": []
   },
   "outputs": [],
   "source": [
    "path_graph = '../input/graph-results/graph_adj_bxl.pkl'\n",
    "\n",
    "path_feat_flow = '../input/graph-results/FEATURES_flow_bxl.csv'\n",
    "path_feat_vel = '../input/graph-results/FEATURES_vel_bxl.csv'\n",
    "\n",
    "with open(path_graph,'rb') as f:\n",
    "    graph, adj_matrix, edges, G = pickle.load(f)\n",
    "\n",
    "adj_mx = nx.to_numpy_matrix(graph)\n",
    "\n",
    "# flow\n",
    "features_flow = pd.read_csv(path_feat_flow).iloc[:,1:].values\n",
    "# vel\n",
    "features_vel = pd.read_csv(path_feat_vel).iloc[:,1:].values"
   ]
  },
  {
   "cell_type": "code",
   "execution_count": 6,
   "metadata": {
    "execution": {
     "iopub.execute_input": "2021-04-29T14:10:26.660757Z",
     "iopub.status.busy": "2021-04-29T14:10:26.659261Z",
     "iopub.status.idle": "2021-04-29T14:10:26.662748Z",
     "shell.execute_reply": "2021-04-29T14:10:26.662274Z"
    },
    "executionInfo": {
     "elapsed": 19896,
     "status": "ok",
     "timestamp": 1615715747816,
     "user": {
      "displayName": "giovanni buroni",
      "photoUrl": "https://lh3.googleusercontent.com/a-/AOh14GjarG9foST_wpJ_PfvHTR0iWGuChdFnmm4ong7n=s64",
      "userId": "06127736531396060751"
     },
     "user_tz": -60
    },
    "id": "ZHtO7pnnxPQG",
    "papermill": {
     "duration": 0.029891,
     "end_time": "2021-04-29T14:10:26.662938",
     "exception": false,
     "start_time": "2021-04-29T14:10:26.633047",
     "status": "completed"
    },
    "tags": []
   },
   "outputs": [],
   "source": [
    "# PARAMETERS"
   ]
  },
  {
   "cell_type": "code",
   "execution_count": 7,
   "metadata": {
    "execution": {
     "iopub.execute_input": "2021-04-29T14:10:26.711615Z",
     "iopub.status.busy": "2021-04-29T14:10:26.710977Z",
     "iopub.status.idle": "2021-04-29T14:10:26.714907Z",
     "shell.execute_reply": "2021-04-29T14:10:26.714483Z"
    },
    "executionInfo": {
     "elapsed": 19893,
     "status": "ok",
     "timestamp": 1615715747817,
     "user": {
      "displayName": "giovanni buroni",
      "photoUrl": "https://lh3.googleusercontent.com/a-/AOh14GjarG9foST_wpJ_PfvHTR0iWGuChdFnmm4ong7n=s64",
      "userId": "06127736531396060751"
     },
     "user_tz": -60
    },
    "id": "sduHFHSexOTP",
    "papermill": {
     "duration": 0.029489,
     "end_time": "2021-04-29T14:10:26.715007",
     "exception": false,
     "start_time": "2021-04-29T14:10:26.685518",
     "status": "completed"
    },
    "tags": []
   },
   "outputs": [],
   "source": [
    "inputs = 12\n",
    "\n",
    "granularity = 2*2\n",
    "batch_train = 64 # best 32\n",
    "batch_test = 1"
   ]
  },
  {
   "cell_type": "markdown",
   "metadata": {
    "id": "8UvuJcrvshP0",
    "papermill": {
     "duration": 0.022671,
     "end_time": "2021-04-29T14:10:26.760336",
     "exception": false,
     "start_time": "2021-04-29T14:10:26.737665",
     "status": "completed"
    },
    "tags": []
   },
   "source": [
    "## split train/val/test"
   ]
  },
  {
   "cell_type": "code",
   "execution_count": 8,
   "metadata": {
    "execution": {
     "iopub.execute_input": "2021-04-29T14:10:27.462166Z",
     "iopub.status.busy": "2021-04-29T14:10:27.461462Z",
     "iopub.status.idle": "2021-04-29T14:10:27.464802Z",
     "shell.execute_reply": "2021-04-29T14:10:27.464364Z"
    },
    "executionInfo": {
     "elapsed": 20179,
     "status": "ok",
     "timestamp": 1615715748106,
     "user": {
      "displayName": "giovanni buroni",
      "photoUrl": "https://lh3.googleusercontent.com/a-/AOh14GjarG9foST_wpJ_PfvHTR0iWGuChdFnmm4ong7n=s64",
      "userId": "06127736531396060751"
     },
     "user_tz": -60
    },
    "id": "nd6kl3lOmOth",
    "papermill": {
     "duration": 0.681879,
     "end_time": "2021-04-29T14:10:27.464921",
     "exception": false,
     "start_time": "2021-04-29T14:10:26.783042",
     "status": "completed"
    },
    "tags": []
   },
   "outputs": [],
   "source": [
    "data_flow = features_flow[:, :-1]\n",
    "data_vel = features_vel[:, :-1]\n",
    "\n",
    "data = np.concatenate([data_flow, data_vel], axis=1)"
   ]
  },
  {
   "cell_type": "code",
   "execution_count": 9,
   "metadata": {
    "execution": {
     "iopub.execute_input": "2021-04-29T14:10:27.517023Z",
     "iopub.status.busy": "2021-04-29T14:10:27.516531Z",
     "iopub.status.idle": "2021-04-29T14:10:27.521904Z",
     "shell.execute_reply": "2021-04-29T14:10:27.521452Z"
    },
    "executionInfo": {
     "elapsed": 20174,
     "status": "ok",
     "timestamp": 1615715748107,
     "user": {
      "displayName": "giovanni buroni",
      "photoUrl": "https://lh3.googleusercontent.com/a-/AOh14GjarG9foST_wpJ_PfvHTR0iWGuChdFnmm4ong7n=s64",
      "userId": "06127736531396060751"
     },
     "user_tz": -60
    },
    "id": "FzAuBHy0mdO5",
    "outputId": "f523f709-60ee-4789-c208-d5e601331cd9",
    "papermill": {
     "duration": 0.033915,
     "end_time": "2021-04-29T14:10:27.522007",
     "exception": false,
     "start_time": "2021-04-29T14:10:27.488092",
     "status": "completed"
    },
    "tags": []
   },
   "outputs": [
    {
     "data": {
      "text/plain": [
       "(5664, 9048)"
      ]
     },
     "execution_count": 9,
     "metadata": {},
     "output_type": "execute_result"
    }
   ],
   "source": [
    "data.shape"
   ]
  },
  {
   "cell_type": "code",
   "execution_count": 10,
   "metadata": {
    "execution": {
     "iopub.execute_input": "2021-04-29T14:10:27.575458Z",
     "iopub.status.busy": "2021-04-29T14:10:27.574639Z",
     "iopub.status.idle": "2021-04-29T14:10:27.577063Z",
     "shell.execute_reply": "2021-04-29T14:10:27.576674Z"
    },
    "executionInfo": {
     "elapsed": 20171,
     "status": "ok",
     "timestamp": 1615715748108,
     "user": {
      "displayName": "giovanni buroni",
      "photoUrl": "https://lh3.googleusercontent.com/a-/AOh14GjarG9foST_wpJ_PfvHTR0iWGuChdFnmm4ong7n=s64",
      "userId": "06127736531396060751"
     },
     "user_tz": -60
    },
    "id": "GqWVkLFlshP0",
    "papermill": {
     "duration": 0.029575,
     "end_time": "2021-04-29T14:10:27.577186",
     "exception": false,
     "start_time": "2021-04-29T14:10:27.547611",
     "status": "completed"
    },
    "tags": []
   },
   "outputs": [],
   "source": [
    "# Train/test split\n",
    "data_tr, data_te = data[:-168*2*granularity, :], data[-168*2*granularity:, :]\n"
   ]
  },
  {
   "cell_type": "code",
   "execution_count": 11,
   "metadata": {
    "execution": {
     "iopub.execute_input": "2021-04-29T14:10:27.627596Z",
     "iopub.status.busy": "2021-04-29T14:10:27.626869Z",
     "iopub.status.idle": "2021-04-29T14:10:27.628937Z",
     "shell.execute_reply": "2021-04-29T14:10:27.629804Z"
    },
    "executionInfo": {
     "elapsed": 20171,
     "status": "ok",
     "timestamp": 1615715748110,
     "user": {
      "displayName": "giovanni buroni",
      "photoUrl": "https://lh3.googleusercontent.com/a-/AOh14GjarG9foST_wpJ_PfvHTR0iWGuChdFnmm4ong7n=s64",
      "userId": "06127736531396060751"
     },
     "user_tz": -60
    },
    "id": "BcOJcaqSvih_",
    "papermill": {
     "duration": 0.029777,
     "end_time": "2021-04-29T14:10:27.629934",
     "exception": false,
     "start_time": "2021-04-29T14:10:27.600157",
     "status": "completed"
    },
    "tags": []
   },
   "outputs": [],
   "source": [
    "# Covariates"
   ]
  },
  {
   "cell_type": "code",
   "execution_count": 12,
   "metadata": {
    "execution": {
     "iopub.execute_input": "2021-04-29T14:10:27.692482Z",
     "iopub.status.busy": "2021-04-29T14:10:27.691672Z",
     "iopub.status.idle": "2021-04-29T14:10:27.724983Z",
     "shell.execute_reply": "2021-04-29T14:10:27.724158Z"
    },
    "executionInfo": {
     "elapsed": 20169,
     "status": "ok",
     "timestamp": 1615715748111,
     "user": {
      "displayName": "giovanni buroni",
      "photoUrl": "https://lh3.googleusercontent.com/a-/AOh14GjarG9foST_wpJ_PfvHTR0iWGuChdFnmm4ong7n=s64",
      "userId": "06127736531396060751"
     },
     "user_tz": -60
    },
    "id": "5GB9RXbYsoga",
    "papermill": {
     "duration": 0.071667,
     "end_time": "2021-04-29T14:10:27.725092",
     "exception": false,
     "start_time": "2021-04-29T14:10:27.653425",
     "status": "completed"
    },
    "tags": []
   },
   "outputs": [],
   "source": [
    "datetime = features_flow[:, -1]\n",
    "\n",
    "# for figures\n",
    "print_datetime = datetime[-168*2*granularity+inputs:]\n",
    "\n",
    "DATETIME = pd.DataFrame(datetime, columns=['Datetime'])\n",
    "DATETIME['Datetime'] = pd.to_datetime(DATETIME['Datetime'])\n",
    "\n",
    "DATETIME['minutes'] = DATETIME['Datetime'].dt.minute\n",
    "DATETIME['hour'] = DATETIME['Datetime'].dt.hour\n",
    "\n",
    "DATETIME['hour_x']=np.sin(DATETIME.hour*(2.*np.pi/23))\n",
    "DATETIME['hour_y']=np.cos(DATETIME.hour*(2.*np.pi/23))\n",
    "\n",
    "DATETIME['day'] = DATETIME['Datetime'].dt.day\n",
    "DATETIME['DayOfWeek'] = DATETIME['Datetime'].dt.dayofweek\n",
    "\n",
    "DATETIME['WorkingDays'] = DATETIME['DayOfWeek'].apply(lambda y: 2 if y < 5 else y)\n",
    "DATETIME['WorkingDays'] = DATETIME['WorkingDays'].apply(lambda y: 1 if y == 5 else y)\n",
    "DATETIME['WorkingDays'] = DATETIME['WorkingDays'].apply(lambda y: 0 if y == 6 else y)\n",
    "\n",
    "DATETIME = DATETIME.drop(['Datetime','minutes','hour','day'], axis=1).values\n",
    "\n",
    "# temporal features = 4\n",
    "feat_time = 4\n",
    "\n",
    "# datetime Train/test split\n",
    "time_tr, time_te = DATETIME[:-168*2*granularity, :], DATETIME[-168*2*granularity:, :]\n",
    "\n"
   ]
  },
  {
   "cell_type": "markdown",
   "metadata": {
    "id": "rnkgB_FYshP0",
    "papermill": {
     "duration": 0.02329,
     "end_time": "2021-04-29T14:10:27.771791",
     "exception": false,
     "start_time": "2021-04-29T14:10:27.748501",
     "status": "completed"
    },
    "tags": []
   },
   "source": [
    "## scale data"
   ]
  },
  {
   "cell_type": "code",
   "execution_count": 13,
   "metadata": {
    "execution": {
     "iopub.execute_input": "2021-04-29T14:10:30.082480Z",
     "iopub.status.busy": "2021-04-29T14:10:30.081435Z",
     "iopub.status.idle": "2021-04-29T14:10:32.817534Z",
     "shell.execute_reply": "2021-04-29T14:10:32.817033Z"
    },
    "executionInfo": {
     "elapsed": 21796,
     "status": "ok",
     "timestamp": 1615715749741,
     "user": {
      "displayName": "giovanni buroni",
      "photoUrl": "https://lh3.googleusercontent.com/a-/AOh14GjarG9foST_wpJ_PfvHTR0iWGuChdFnmm4ong7n=s64",
      "userId": "06127736531396060751"
     },
     "user_tz": -60
    },
    "id": "RjIvQ0QgshP1",
    "papermill": {
     "duration": 5.022306,
     "end_time": "2021-04-29T14:10:32.817668",
     "exception": false,
     "start_time": "2021-04-29T14:10:27.795362",
     "status": "completed"
    },
    "tags": []
   },
   "outputs": [],
   "source": [
    "scaler = MinMaxScaler(feature_range=(0, 1))\n",
    "scaler_cov = MinMaxScaler(feature_range=(0, 1))\n",
    "\n",
    "# fit and transform\n",
    "scaled_tr = scaler.fit_transform(data_tr)\n",
    "# transform\n",
    "scaled_te = scaler.transform(data_te)\n",
    "\n",
    "# fit and transform\n",
    "scaled_tr_cov = scaler_cov.fit_transform(time_tr)\n",
    "# transform\n",
    "scaled_te_cov = scaler_cov.transform(time_te)"
   ]
  },
  {
   "cell_type": "markdown",
   "metadata": {
    "id": "nsmXb48sshP1",
    "papermill": {
     "duration": 0.023781,
     "end_time": "2021-04-29T14:10:32.865577",
     "exception": false,
     "start_time": "2021-04-29T14:10:32.841796",
     "status": "completed"
    },
    "tags": []
   },
   "source": [
    "## prepare data for deep learning"
   ]
  },
  {
   "cell_type": "code",
   "execution_count": 14,
   "metadata": {
    "execution": {
     "iopub.execute_input": "2021-04-29T14:10:32.919441Z",
     "iopub.status.busy": "2021-04-29T14:10:32.918803Z",
     "iopub.status.idle": "2021-04-29T14:10:32.922672Z",
     "shell.execute_reply": "2021-04-29T14:10:32.922283Z"
    },
    "executionInfo": {
     "elapsed": 21795,
     "status": "ok",
     "timestamp": 1615715749744,
     "user": {
      "displayName": "giovanni buroni",
      "photoUrl": "https://lh3.googleusercontent.com/a-/AOh14GjarG9foST_wpJ_PfvHTR0iWGuChdFnmm4ong7n=s64",
      "userId": "06127736531396060751"
     },
     "user_tz": -60
    },
    "id": "sQiniFq0shP2",
    "papermill": {
     "duration": 0.033779,
     "end_time": "2021-04-29T14:10:32.922777",
     "exception": false,
     "start_time": "2021-04-29T14:10:32.888998",
     "status": "completed"
    },
    "tags": []
   },
   "outputs": [],
   "source": [
    "def prepare_data_DL(INPUT, FEAT, BATCH):\n",
    "    \n",
    "    dataset = FEAT.reshape(FEAT.shape[0], FEAT.shape[1]) \n",
    "    dataset = tf.data.Dataset.from_tensor_slices(dataset)\n",
    "\n",
    "    inputs = dataset.window(INPUT,  shift=1,  stride=1,  drop_remainder=True)\n",
    "    inputs = inputs.flat_map(lambda window: window.batch(INPUT))\n",
    "\n",
    "    targets = dataset.window(INPUT, shift=1,  stride=1,  drop_remainder=True).skip(INPUT)\n",
    "    targets = targets.flat_map(lambda window: window.batch(INPUT))\n",
    "\n",
    "    dataset = tf.data.Dataset.zip((inputs, targets))\n",
    "    dataset = dataset.batch(BATCH).prefetch(tf.data.experimental.AUTOTUNE)\n",
    "\n",
    "    return dataset"
   ]
  },
  {
   "cell_type": "code",
   "execution_count": 15,
   "metadata": {
    "execution": {
     "iopub.execute_input": "2021-04-29T14:10:33.947122Z",
     "iopub.status.busy": "2021-04-29T14:10:33.946542Z",
     "iopub.status.idle": "2021-04-29T14:10:36.094913Z",
     "shell.execute_reply": "2021-04-29T14:10:36.093826Z"
    },
    "executionInfo": {
     "elapsed": 22704,
     "status": "ok",
     "timestamp": 1615715750656,
     "user": {
      "displayName": "giovanni buroni",
      "photoUrl": "https://lh3.googleusercontent.com/a-/AOh14GjarG9foST_wpJ_PfvHTR0iWGuChdFnmm4ong7n=s64",
      "userId": "06127736531396060751"
     },
     "user_tz": -60
    },
    "id": "FIs0wUItshP2",
    "papermill": {
     "duration": 3.148857,
     "end_time": "2021-04-29T14:10:36.095047",
     "exception": false,
     "start_time": "2021-04-29T14:10:32.946190",
     "status": "completed"
    },
    "tags": []
   },
   "outputs": [],
   "source": [
    "# features\n",
    "loader_tr = prepare_data_DL(inputs, scaled_tr, batch_train)\n",
    "loader_te = prepare_data_DL(inputs, scaled_te, batch_test)\n",
    "\n",
    "# covariates\n",
    "loader_tr_cov = prepare_data_DL(inputs, scaled_tr_cov, batch_train)\n",
    "loader_te_cov = prepare_data_DL(inputs, scaled_te_cov, batch_test)"
   ]
  },
  {
   "cell_type": "code",
   "execution_count": 16,
   "metadata": {
    "execution": {
     "iopub.execute_input": "2021-04-29T14:10:36.166230Z",
     "iopub.status.busy": "2021-04-29T14:10:36.165607Z",
     "iopub.status.idle": "2021-04-29T14:10:36.478120Z",
     "shell.execute_reply": "2021-04-29T14:10:36.477605Z"
    },
    "executionInfo": {
     "elapsed": 22937,
     "status": "ok",
     "timestamp": 1615715750891,
     "user": {
      "displayName": "giovanni buroni",
      "photoUrl": "https://lh3.googleusercontent.com/a-/AOh14GjarG9foST_wpJ_PfvHTR0iWGuChdFnmm4ong7n=s64",
      "userId": "06127736531396060751"
     },
     "user_tz": -60
    },
    "id": "oYHppaM9shP3",
    "papermill": {
     "duration": 0.358963,
     "end_time": "2021-04-29T14:10:36.478261",
     "exception": false,
     "start_time": "2021-04-29T14:10:36.119298",
     "status": "completed"
    },
    "tags": []
   },
   "outputs": [],
   "source": [
    "\n",
    "l2_reg = 5e-4  # Regularization rate for l2\n",
    "\n",
    "# Build model\n",
    "class GCN_Net(Model):\n",
    "    \n",
    "    def __init__(self, **kwargs):\n",
    "        \n",
    "        super().__init__(**kwargs)\n",
    "\n",
    "        self.street = 4524\n",
    "\n",
    "        self.gcn_flow_0_enc = GCNConv(12, activation=\"relu\", kernel_regularizer=l2(l2_reg), use_bias=False)\n",
    "        self.gcn_flow_1_enc = GCNConv(12, activation=\"relu\", kernel_regularizer=l2(l2_reg), use_bias=False)\n",
    "\n",
    "        self.gcn_vel_0_enc = GCNConv(12, activation=\"relu\", kernel_regularizer=l2(l2_reg), use_bias=False)\n",
    "        self.gcn_vel_1_enc = GCNConv(12, activation=\"relu\", kernel_regularizer=l2(l2_reg), use_bias=False)\n",
    "\n",
    "\n",
    "###################\n",
    "\n",
    "        # first LSTM FLOW\n",
    "        # self.lstm_cells_flow_init = tf.keras.layers.GRUCell(150, activation ='relu',\n",
    "        #                                 kernel_initializer='glorot_uniform',\n",
    "        #                                 recurrent_initializer='glorot_uniform',\n",
    "        #                                 kernel_regularizer=regularizers.l2(0.001),\n",
    "        #                                 bias_initializer='zeros') \n",
    "        \n",
    "        # self.lstm_flow_init = tf.keras.layers.RNN(self.lstm_cells_flow_init, return_sequences = True, return_state =True)\n",
    "\n",
    "\n",
    "        self.lstm_flow_init = tf.compat.v1.keras.layers.CuDNNGRU(150, #activation ='relu',\n",
    "                                        kernel_initializer='glorot_uniform',\n",
    "                                        recurrent_initializer='glorot_uniform',\n",
    "                                        kernel_regularizer=regularizers.l2(0.001),\n",
    "                                        bias_initializer='zeros', return_sequences = True, return_state =True)\n",
    "\n",
    "\n",
    "\n",
    "\n",
    "        # final LSTM FLOW\n",
    "        # self.lstm_cells_flow_fin = tf.keras.layers.GRUCell(150, activation ='relu',\n",
    "        #                                 kernel_initializer='glorot_uniform',\n",
    "        #                                 recurrent_initializer='glorot_uniform',\n",
    "        #                                 kernel_regularizer=regularizers.l2(0.001),\n",
    "        #                                 bias_initializer='zeros') \n",
    "        \n",
    "        # self.lstm_flow_fin = tf.keras.layers.RNN(self.lstm_cells_flow_fin)\n",
    "\n",
    "\n",
    "        self.lstm_flow_fin = tf.compat.v1.keras.layers.CuDNNGRU(150, #activation ='relu',\n",
    "                                        kernel_initializer='glorot_uniform',\n",
    "                                        recurrent_initializer='glorot_uniform',\n",
    "                                        kernel_regularizer=regularizers.l2(0.001),\n",
    "                                        bias_initializer='zeros')\n",
    "\n",
    "\n",
    "        self.drop_flow = tf.keras.layers.Dropout(0.1)\n",
    "        \n",
    "        \n",
    "        self.dense_flow_fin = tf.keras.layers.Dense(self.street*12,\n",
    "                                           kernel_regularizer=regularizers.l2(0.001))\n",
    "        \n",
    "\n",
    "\n",
    "##########################\n",
    "\n",
    "        # first LSTM VEL\n",
    "        # self.lstm_cells_vel_init = tf.keras.layers.GRUCell(150, activation ='relu',\n",
    "        #                                 kernel_initializer='glorot_uniform',\n",
    "        #                                 recurrent_initializer='glorot_uniform',\n",
    "        #                                 kernel_regularizer=regularizers.l2(0.001),\n",
    "        #                                 bias_initializer='zeros') \n",
    "        \n",
    "        # self.lstm_vel_init = tf.keras.layers.RNN(self.lstm_cells_vel_init, return_sequences = True, return_state =True)\n",
    "\n",
    "\n",
    "        self.lstm_vel_init = tf.compat.v1.keras.layers.CuDNNGRU(150, #activation ='relu',\n",
    "                                        kernel_initializer='glorot_uniform',\n",
    "                                        recurrent_initializer='glorot_uniform',\n",
    "                                        kernel_regularizer=regularizers.l2(0.001),\n",
    "                                        bias_initializer='zeros', return_sequences = True, return_state =True)\n",
    "\n",
    "\n",
    "        # final LSTM VEL\n",
    "        # self.lstm_cells_vel_fin = tf.keras.layers.GRUCell(150, activation ='relu',\n",
    "        #                                 kernel_initializer='glorot_uniform',\n",
    "        #                                 recurrent_initializer='glorot_uniform',\n",
    "        #                                 kernel_regularizer=regularizers.l2(0.001),\n",
    "        #                                 bias_initializer='zeros') \n",
    "        \n",
    "        # self.lstm_vel_fin = tf.keras.layers.RNN(self.lstm_cells_vel_fin)\n",
    "\n",
    "\n",
    "        self.lstm_vel_fin = tf.compat.v1.keras.layers.CuDNNGRU(150, #activation ='relu',\n",
    "                                        kernel_initializer='glorot_uniform',\n",
    "                                        recurrent_initializer='glorot_uniform',\n",
    "                                        kernel_regularizer=regularizers.l2(0.001),\n",
    "                                        bias_initializer='zeros')\n",
    "\n",
    "\n",
    "\n",
    "        self.drop_vel = tf.keras.layers.Dropout(0.1)\n",
    "        \n",
    "        \n",
    "        self.dense_vel_fin = tf.keras.layers.Dense(self.street*12,\n",
    "                                           kernel_regularizer=regularizers.l2(0.001))\n",
    "        \n",
    "        \n",
    "\n",
    "\n",
    "##################################\n",
    "\n",
    "        self.add = tf.keras.layers.Add()\n",
    "        self.reshape = tf.keras.layers.Reshape([12, self.street])\n",
    "        self.repeat = tf.keras.layers.RepeatVector(12)\n",
    "        \n",
    "\n",
    "    def call(self, flow_vel, a, cov):\n",
    "\n",
    "        sparse_a = tf.sparse.from_dense(a)\n",
    "\n",
    "        # flow\n",
    "        flow = flow_vel[:, :, :-self.street]\n",
    "        # velocity\n",
    "        vel = flow_vel[:, :, -self.street:]\n",
    "        \n",
    "\n",
    "        # shape for gcn\n",
    "        flow = tf.reshape(flow, [flow.shape[0], flow.shape[2], flow.shape[1]])\n",
    "        vel = tf.reshape(vel, [vel.shape[0], vel.shape[2], vel.shape[1]])\n",
    "\n",
    "\n",
    "        # two gcn on flow and vel\n",
    "        gcn_flow = self.gcn_flow_0_enc([flow, sparse_a])\n",
    "        gcn_flow = self.gcn_flow_1_enc([gcn_flow, sparse_a])\n",
    "\n",
    "        gcn_vel = self.gcn_vel_0_enc([vel, sparse_a])\n",
    "        gcn_vel = self.gcn_vel_1_enc([gcn_vel, sparse_a])\n",
    "\n",
    "\n",
    "        # shape for lstm\n",
    "        flow = tf.reshape(gcn_flow, [gcn_flow.shape[0], gcn_flow.shape[2], gcn_flow.shape[1]])\n",
    "        vel = tf.reshape(gcn_vel, [gcn_vel.shape[0], gcn_vel.shape[2], gcn_vel.shape[1]])\n",
    "        \n",
    "        # two lstm models\n",
    "        flow_init, h_flow = self.lstm_flow_init(flow) \n",
    "        vel_init, h_vel = self.lstm_vel_init(vel) \n",
    "\n",
    "        # !!!!!!!\n",
    "        # flow_init = self.repeat(h_flow)\n",
    "        # vel_init = self.repeat(h_vel)\n",
    "\n",
    "\n",
    "        # flow_vel - covariates\n",
    "        cov = tf.cast(cov, dtype=tf.float32)\n",
    "        flow_cov = tf.concat([flow_init, cov], axis=2)\n",
    "        vel_cov = tf.concat([vel_init, cov], axis=2)\n",
    "\n",
    "        # two models for flow and speed respectively\n",
    "\n",
    "        # flow\n",
    "        flow_final = self.lstm_flow_fin(flow_cov, initial_state=[h_flow])\n",
    "        flow = self.drop_flow(flow_final)\n",
    "        flow = self.dense_flow_fin(flow)\n",
    "        flow = self.reshape(flow)\n",
    "\n",
    "        # velocity\n",
    "        vel_final = self.lstm_vel_fin(vel_cov, initial_state=[h_vel])\n",
    "        vel = self.drop_vel(vel_final)\n",
    "        vel = self.dense_vel_fin(vel)\n",
    "        vel = self.reshape(vel)\n",
    "\n",
    "        # concatenate two finals results\n",
    "        final = tf.concat([flow, vel], axis=-1)\n",
    "\n",
    "        return final\n",
    "\n",
    "\n",
    "# Create model\n",
    "model = GCN_Net()\n",
    "optimizer = Adam(lr=0.001)\n",
    "loss_fn = tf.keras.losses.MeanAbsoluteError()"
   ]
  },
  {
   "cell_type": "code",
   "execution_count": 17,
   "metadata": {
    "execution": {
     "iopub.execute_input": "2021-04-29T14:10:36.531250Z",
     "iopub.status.busy": "2021-04-29T14:10:36.530119Z",
     "iopub.status.idle": "2021-04-29T14:12:15.842071Z",
     "shell.execute_reply": "2021-04-29T14:12:15.841539Z"
    },
    "executionInfo": {
     "elapsed": 31896,
     "status": "ok",
     "timestamp": 1615715759853,
     "user": {
      "displayName": "giovanni buroni",
      "photoUrl": "https://lh3.googleusercontent.com/a-/AOh14GjarG9foST_wpJ_PfvHTR0iWGuChdFnmm4ong7n=s64",
      "userId": "06127736531396060751"
     },
     "user_tz": -60
    },
    "id": "v4iRDYOyi6FE",
    "papermill": {
     "duration": 99.33985,
     "end_time": "2021-04-29T14:12:15.842257",
     "exception": false,
     "start_time": "2021-04-29T14:10:36.502407",
     "status": "completed"
    },
    "tags": []
   },
   "outputs": [],
   "source": [
    "adj_matrix = gcn_filter(adj_matrix, symmetric=True)"
   ]
  },
  {
   "cell_type": "code",
   "execution_count": 18,
   "metadata": {
    "execution": {
     "iopub.execute_input": "2021-04-29T14:12:16.268358Z",
     "iopub.status.busy": "2021-04-29T14:12:16.267535Z",
     "iopub.status.idle": "2021-04-29T14:12:16.271071Z",
     "shell.execute_reply": "2021-04-29T14:12:16.271558Z"
    },
    "papermill": {
     "duration": 0.404517,
     "end_time": "2021-04-29T14:12:16.271720",
     "exception": false,
     "start_time": "2021-04-29T14:12:15.867203",
     "status": "completed"
    },
    "tags": []
   },
   "outputs": [
    {
     "data": {
      "text/plain": [
       "40"
      ]
     },
     "execution_count": 18,
     "metadata": {},
     "output_type": "execute_result"
    }
   ],
   "source": [
    "del data_tr, data_te, data_flow, data_vel, data, scaled_tr, scaled_te\n",
    "gc.collect()"
   ]
  },
  {
   "cell_type": "code",
   "execution_count": 19,
   "metadata": {
    "execution": {
     "iopub.execute_input": "2021-04-29T14:12:16.326587Z",
     "iopub.status.busy": "2021-04-29T14:12:16.325930Z",
     "iopub.status.idle": "2021-04-29T14:12:16.328793Z",
     "shell.execute_reply": "2021-04-29T14:12:16.328399Z"
    },
    "executionInfo": {
     "elapsed": 31897,
     "status": "ok",
     "timestamp": 1615715759856,
     "user": {
      "displayName": "giovanni buroni",
      "photoUrl": "https://lh3.googleusercontent.com/a-/AOh14GjarG9foST_wpJ_PfvHTR0iWGuChdFnmm4ong7n=s64",
      "userId": "06127736531396060751"
     },
     "user_tz": -60
    },
    "id": "c-ua6TRjshP3",
    "papermill": {
     "duration": 0.032405,
     "end_time": "2021-04-29T14:12:16.328899",
     "exception": false,
     "start_time": "2021-04-29T14:12:16.296494",
     "status": "completed"
    },
    "tags": []
   },
   "outputs": [],
   "source": [
    "# Training function\n",
    "@tf.function\n",
    "def train_on_batch(inputs, target, cov):\n",
    "    \n",
    "    loss = 0\n",
    "\n",
    "    with tf.GradientTape() as tape:\n",
    "        \n",
    "        predictions = model(inputs, adj_matrix, cov,  training=True)\n",
    "        \n",
    "        loss = loss_fn(target, predictions)\n",
    "\n",
    "    variables = model.trainable_variables \n",
    "\n",
    "    gradients = tape.gradient(loss, variables)\n",
    "\n",
    "    optimizer.apply_gradients(zip(gradients, variables))\n",
    "    \n",
    "    return loss"
   ]
  },
  {
   "cell_type": "code",
   "execution_count": 20,
   "metadata": {
    "execution": {
     "iopub.execute_input": "2021-04-29T14:12:16.384877Z",
     "iopub.status.busy": "2021-04-29T14:12:16.384128Z",
     "iopub.status.idle": "2021-04-29T14:43:52.735252Z",
     "shell.execute_reply": "2021-04-29T14:43:52.735659Z"
    },
    "executionInfo": {
     "elapsed": 181346,
     "status": "ok",
     "timestamp": 1615716832009,
     "user": {
      "displayName": "giovanni buroni",
      "photoUrl": "https://lh3.googleusercontent.com/a-/AOh14GjarG9foST_wpJ_PfvHTR0iWGuChdFnmm4ong7n=s64",
      "userId": "06127736531396060751"
     },
     "user_tz": -60
    },
    "id": "mDbqw5X4shP3",
    "papermill": {
     "duration": 1896.382549,
     "end_time": "2021-04-29T14:43:52.735838",
     "exception": false,
     "start_time": "2021-04-29T14:12:16.353289",
     "status": "completed"
    },
    "tags": []
   },
   "outputs": [
    {
     "name": "stdout",
     "output_type": "stream",
     "text": [
      "Epoch 0: Loss MAE: 0.05729\n",
      "Epoch 10: Loss MAE: 0.04623\n",
      "Epoch 20: Loss MAE: 0.04518\n",
      "Epoch 30: Loss MAE: 0.04491\n",
      "Epoch 40: Loss MAE: 0.04450\n",
      "Epoch 50: Loss MAE: 0.04448\n",
      "Epoch 60: Loss MAE: 0.04432\n",
      "Epoch 70: Loss MAE: 0.04418\n",
      "Epoch 80: Loss MAE: 0.04408\n",
      "Epoch 90: Loss MAE: 0.04402\n",
      "Epoch 100: Loss MAE: 0.04383\n",
      "Epoch 110: Loss MAE: 0.04376\n",
      "Epoch 120: Loss MAE: 0.04366\n",
      "Epoch 130: Loss MAE: 0.04353\n",
      "Epoch 140: Loss MAE: 0.04349\n",
      "Epoch 150: Loss MAE: 0.04344\n",
      "Epoch 160: Loss MAE: 0.04336\n",
      "Epoch 170: Loss MAE: 0.04333\n",
      "Epoch 180: Loss MAE: 0.04325\n",
      "Epoch 190: Loss MAE: 0.04324\n",
      "Time taken for 1 epoch 1896.3175127506256 sec\n",
      "\n"
     ]
    }
   ],
   "source": [
    "EPOCHS = 200\n",
    "\n",
    "start = time.time()\n",
    "\n",
    "# Keep results for plotting\n",
    "train_loss_results = []\n",
    "\n",
    "samples_cov = list(loader_tr_cov)\n",
    "\n",
    "for epoch in range(EPOCHS):\n",
    "    \n",
    "\n",
    "    epoch_loss_avg = tf.keras.metrics.Mean()\n",
    "     \n",
    "    step = 0\n",
    "\n",
    "    for batch in loader_tr:\n",
    "\n",
    "        cov = samples_cov[step]\n",
    "        past_cov = cov[0]\n",
    "        fut_cov = cov[1]\n",
    "        \n",
    "        # Training step\n",
    "        inputs, target = batch\n",
    "\n",
    "        loss = train_on_batch(inputs, target, fut_cov)\n",
    "        \n",
    "        # Track progress\n",
    "        epoch_loss_avg.update_state(loss)\n",
    "\n",
    "        step+=1\n",
    "\n",
    "    # End epoch\n",
    "    train_loss_results.append(epoch_loss_avg.result())\n",
    "\n",
    "    if epoch % 10 == 0:\n",
    "            print(\"Epoch {}: Loss MAE: {:.5f}\".format(epoch, epoch_loss_avg.result()))\n",
    "        \n",
    "print('Time taken for 1 epoch {} sec\\n'.format(time.time() - start))"
   ]
  },
  {
   "cell_type": "code",
   "execution_count": 21,
   "metadata": {
    "execution": {
     "iopub.execute_input": "2021-04-29T14:43:52.816925Z",
     "iopub.status.busy": "2021-04-29T14:43:52.803655Z",
     "iopub.status.idle": "2021-04-29T14:43:53.049284Z",
     "shell.execute_reply": "2021-04-29T14:43:53.049660Z"
    },
    "executionInfo": {
     "elapsed": 267,
     "status": "ok",
     "timestamp": 1615716832268,
     "user": {
      "displayName": "giovanni buroni",
      "photoUrl": "https://lh3.googleusercontent.com/a-/AOh14GjarG9foST_wpJ_PfvHTR0iWGuChdFnmm4ong7n=s64",
      "userId": "06127736531396060751"
     },
     "user_tz": -60
    },
    "id": "igL4S8uAshP4",
    "papermill": {
     "duration": 0.283864,
     "end_time": "2021-04-29T14:43:53.049798",
     "exception": false,
     "start_time": "2021-04-29T14:43:52.765934",
     "status": "completed"
    },
    "tags": []
   },
   "outputs": [
    {
     "data": {
      "image/png": "[encoded data removed]",
      "text/plain": [
       "<Figure size 864x576 with 1 Axes>"
      ]
     },
     "metadata": {
      "needs_background": "light"
     },
     "output_type": "display_data"
    }
   ],
   "source": [
    "fig, axes = plt.subplots(1, sharex=True, figsize=(12, 8))\n",
    "fig.suptitle('Training Metrics')\n",
    "\n",
    "axes.set_ylabel(\"Loss (MAE)\", fontsize=14)\n",
    "axes.plot(train_loss_results)\n",
    "axes.set_xlabel(\"Epoch\", fontsize=14)\n",
    "plt.show()"
   ]
  },
  {
   "cell_type": "code",
   "execution_count": 22,
   "metadata": {
    "execution": {
     "iopub.execute_input": "2021-04-29T14:43:53.117625Z",
     "iopub.status.busy": "2021-04-29T14:43:53.117072Z",
     "iopub.status.idle": "2021-04-29T14:43:53.121154Z",
     "shell.execute_reply": "2021-04-29T14:43:53.120670Z"
    },
    "executionInfo": {
     "elapsed": 19,
     "status": "ok",
     "timestamp": 1615716832270,
     "user": {
      "displayName": "giovanni buroni",
      "photoUrl": "https://lh3.googleusercontent.com/a-/AOh14GjarG9foST_wpJ_PfvHTR0iWGuChdFnmm4ong7n=s64",
      "userId": "06127736531396060751"
     },
     "user_tz": -60
    },
    "id": "5sPebFR-shP4",
    "papermill": {
     "duration": 0.039631,
     "end_time": "2021-04-29T14:43:53.121329",
     "exception": false,
     "start_time": "2021-04-29T14:43:53.081698",
     "status": "completed"
    },
    "tags": []
   },
   "outputs": [],
   "source": [
    "def inverse_transform(forecasts, scaler):\n",
    "    # invert scaling\n",
    "    inv_pred = scaler.inverse_transform(forecasts)\n",
    "    return inv_pred"
   ]
  },
  {
   "cell_type": "code",
   "execution_count": 23,
   "metadata": {
    "execution": {
     "iopub.execute_input": "2021-04-29T14:43:53.190373Z",
     "iopub.status.busy": "2021-04-29T14:43:53.189766Z",
     "iopub.status.idle": "2021-04-29T14:43:53.193261Z",
     "shell.execute_reply": "2021-04-29T14:43:53.193629Z"
    },
    "executionInfo": {
     "elapsed": 15,
     "status": "ok",
     "timestamp": 1615716832272,
     "user": {
      "displayName": "giovanni buroni",
      "photoUrl": "https://lh3.googleusercontent.com/a-/AOh14GjarG9foST_wpJ_PfvHTR0iWGuChdFnmm4ong7n=s64",
      "userId": "06127736531396060751"
     },
     "user_tz": -60
    },
    "id": "pHksYSD3GCkR",
    "papermill": {
     "duration": 0.040911,
     "end_time": "2021-04-29T14:43:53.193747",
     "exception": false,
     "start_time": "2021-04-29T14:43:53.152836",
     "status": "completed"
    },
    "tags": []
   },
   "outputs": [],
   "source": [
    "def evaluate_forecasts(targets, forecasts, n_seq):\n",
    "    \n",
    "    list_rmse = []\n",
    "    list_mae = []\n",
    "    \n",
    "    for i in range(n_seq):\n",
    "        true = np.vstack([target[i] for target in targets])\n",
    "        predicted = np.vstack([forecast[i] for forecast in forecasts])\n",
    "        \n",
    "        rmse = np.sqrt((np.square(true - predicted)).mean(axis=0))\n",
    "        mae = np.absolute(true - predicted).mean(axis=0)\n",
    "        \n",
    "        list_rmse.append(rmse)\n",
    "        list_mae.append(mae)\n",
    "        \n",
    "    list_rmse = np.vstack(list_rmse)\n",
    "    list_mae = np.vstack(list_mae)\n",
    "    \n",
    "    return list_rmse, list_mae"
   ]
  },
  {
   "cell_type": "code",
   "execution_count": 24,
   "metadata": {
    "execution": {
     "iopub.execute_input": "2021-04-29T14:43:53.264820Z",
     "iopub.status.busy": "2021-04-29T14:43:53.264063Z",
     "iopub.status.idle": "2021-04-29T15:18:50.404399Z",
     "shell.execute_reply": "2021-04-29T15:18:50.404780Z"
    },
    "id": "-VfOJ2z9shP4",
    "outputId": "c589b09b-3919-4eb7-d8e5-19093c6309ae",
    "papermill": {
     "duration": 2097.179279,
     "end_time": "2021-04-29T15:18:50.404948",
     "exception": false,
     "start_time": "2021-04-29T14:43:53.225669",
     "status": "completed"
    },
    "tags": []
   },
   "outputs": [
    {
     "name": "stderr",
     "output_type": "stream",
     "text": [
      "1321it [34:56,  1.59s/it]\n"
     ]
    }
   ],
   "source": [
    "from tqdm import tqdm\n",
    "\n",
    "forecasts = []\n",
    "targets = []\n",
    "\n",
    "rmse_list = []\n",
    "mae_list = []\n",
    "\n",
    "samples_cov = list(loader_te_cov)\n",
    "\n",
    "del loader_te_cov, loader_tr, loader_tr_cov\n",
    "gc.collect()\n",
    "\n",
    "t=0\n",
    "    \n",
    "for (step, (inp, targ)) in enumerate(tqdm(loader_te)):\n",
    "    \n",
    "            \n",
    "        timestamp = print_datetime[step]\n",
    "\n",
    "        cov = samples_cov[step]\n",
    "        past_cov = cov[0]\n",
    "        fut_cov = cov[1]\n",
    "        \n",
    "        pred  = model(inp, adj_matrix, fut_cov, training=False)\n",
    "        \n",
    "        truth = inverse_transform(targ[0],  scaler)\n",
    "        pred = inverse_transform(pred[0],  scaler)\n",
    "        \n",
    "        forecasts.append(pred)\n",
    "        targets.append(truth)\n",
    "            \n",
    "\n",
    "        rmse, mae = evaluate_forecasts(targets, forecasts, 12)\n",
    "           \n",
    "        rmse_list.append(rmse)\n",
    "        mae_list.append(mae)\n",
    "        \n",
    "        del pred, truth, inp, targ, fut_cov, past_cov, timestamp, cov, rmse, mae\n",
    "        gc.collect()\n",
    "        \n",
    "\n",
    "  \n",
    "    "
   ]
  },
  {
   "cell_type": "code",
   "execution_count": 25,
   "metadata": {
    "execution": {
     "iopub.execute_input": "2021-04-29T15:18:51.142471Z",
     "iopub.status.busy": "2021-04-29T15:18:51.141139Z",
     "iopub.status.idle": "2021-04-29T15:18:52.332125Z",
     "shell.execute_reply": "2021-04-29T15:18:52.331274Z"
    },
    "id": "FcbFoft2A95Q",
    "papermill": {
     "duration": 1.559323,
     "end_time": "2021-04-29T15:18:52.332270",
     "exception": false,
     "start_time": "2021-04-29T15:18:50.772947",
     "status": "completed"
    },
    "tags": []
   },
   "outputs": [
    {
     "data": {
      "text/plain": [
       "4.884899357287856"
      ]
     },
     "execution_count": 25,
     "metadata": {},
     "output_type": "execute_result"
    }
   ],
   "source": [
    "np.mean(rmse_list)"
   ]
  },
  {
   "cell_type": "code",
   "execution_count": 26,
   "metadata": {
    "execution": {
     "iopub.execute_input": "2021-04-29T15:18:53.066481Z",
     "iopub.status.busy": "2021-04-29T15:18:53.065284Z",
     "iopub.status.idle": "2021-04-29T15:18:53.671107Z",
     "shell.execute_reply": "2021-04-29T15:18:53.671529Z"
    },
    "id": "sB4n8CvNBF-n",
    "papermill": {
     "duration": 0.97473,
     "end_time": "2021-04-29T15:18:53.671679",
     "exception": false,
     "start_time": "2021-04-29T15:18:52.696949",
     "status": "completed"
    },
    "tags": []
   },
   "outputs": [
    {
     "data": {
      "text/plain": [
       "2.166026936192153"
      ]
     },
     "execution_count": 26,
     "metadata": {},
     "output_type": "execute_result"
    }
   ],
   "source": [
    "np.mean(mae_list)"
   ]
  },
  {
   "cell_type": "code",
   "execution_count": 27,
   "metadata": {
    "execution": {
     "iopub.execute_input": "2021-04-29T15:18:54.408004Z",
     "iopub.status.busy": "2021-04-29T15:18:54.407126Z",
     "iopub.status.idle": "2021-04-29T15:19:00.724186Z",
     "shell.execute_reply": "2021-04-29T15:19:00.723067Z"
    },
    "id": "wDalHOeZNjzO",
    "papermill": {
     "duration": 6.68744,
     "end_time": "2021-04-29T15:19:00.724345",
     "exception": false,
     "start_time": "2021-04-29T15:18:54.036905",
     "status": "completed"
    },
    "tags": []
   },
   "outputs": [],
   "source": [
    "with open('STL_GCN_GRU_RMSE.pkl', 'wb') as f:  \n",
    "    pickle.dump(rmse_list, f)\n",
    "\n",
    "# !cp STL_GCN_GRU_RMSE.pkl \"drive/MyDrive/Colab Notebooks/MTL traffic forecasting/Results/\"\n",
    "# print('RMSE')\n",
    "\n",
    "\n",
    "with open('STL_GCN_GRU_MAE.pkl', 'wb') as f:  \n",
    "    pickle.dump(mae_list, f)\n",
    "\n",
    "# !cp STL_GCN_GRU_MAE.pkl \"drive/MyDrive/Colab Notebooks/MTL traffic forecasting/Results/\"\n",
    "# print('MAE')"
   ]
  },
  {
   "cell_type": "code",
   "execution_count": 28,
   "metadata": {
    "execution": {
     "iopub.execute_input": "2021-04-29T15:19:12.532167Z",
     "iopub.status.busy": "2021-04-29T15:19:12.530751Z",
     "iopub.status.idle": "2021-04-29T15:19:16.123815Z",
     "shell.execute_reply": "2021-04-29T15:19:16.124480Z"
    },
    "id": "gEWDqYTZGNnP",
    "papermill": {
     "duration": 4.024742,
     "end_time": "2021-04-29T15:19:16.124686",
     "exception": false,
     "start_time": "2021-04-29T15:19:12.099944",
     "status": "completed"
    },
    "tags": []
   },
   "outputs": [
    {
     "name": "stdout",
     "output_type": "stream",
     "text": [
      "t+1 RMSE MEAN 4.863 +- 0.723\n",
      "\n",
      "t+2 RMSE MEAN 4.873 +- 0.729\n",
      "\n",
      "t+3 RMSE MEAN 4.882 +- 0.736\n",
      "\n",
      "t+4 RMSE MEAN 4.887 +- 0.749\n",
      "\n",
      "t+5 RMSE MEAN 4.891 +- 0.752\n",
      "\n",
      "t+6 RMSE MEAN 4.889 +- 0.749\n",
      "\n",
      "t+7 RMSE MEAN 4.891 +- 0.753\n",
      "\n",
      "t+8 RMSE MEAN 4.895 +- 0.758\n",
      "\n",
      "t+9 RMSE MEAN 4.893 +- 0.751\n",
      "\n",
      "t+10 RMSE MEAN 4.892 +- 0.76\n",
      "\n",
      "t+11 RMSE MEAN 4.886 +- 0.752\n",
      "\n",
      "t+12 RMSE MEAN 4.877 +- 0.743\n",
      "\n"
     ]
    }
   ],
   "source": [
    "RMSE_MEAN = np.mean(rmse_list,axis=0).mean(axis=1)\n",
    "RMSE_STD =  np.std(rmse_list,axis=0).std(axis=1)\n",
    "\n",
    "for i in range(len(RMSE_MEAN)):\n",
    "    print('t+'+str(i+1)+' RMSE MEAN ' +str(np.round(RMSE_MEAN[i],3))+' +- '+str(np.round(RMSE_STD[i],3)))\n",
    "    print('')"
   ]
  },
  {
   "cell_type": "code",
   "execution_count": 29,
   "metadata": {
    "execution": {
     "iopub.execute_input": "2021-04-29T15:19:16.869417Z",
     "iopub.status.busy": "2021-04-29T15:19:16.868271Z",
     "iopub.status.idle": "2021-04-29T15:19:19.199136Z",
     "shell.execute_reply": "2021-04-29T15:19:19.199570Z"
    },
    "id": "fMgrD1upGQ2o",
    "papermill": {
     "duration": 2.703599,
     "end_time": "2021-04-29T15:19:19.199724",
     "exception": false,
     "start_time": "2021-04-29T15:19:16.496125",
     "status": "completed"
    },
    "tags": []
   },
   "outputs": [
    {
     "name": "stdout",
     "output_type": "stream",
     "text": [
      "t+1 MAE MEAN 2.148 +- 0.579\n",
      "\n",
      "t+2 MAE MEAN 2.155 +- 0.592\n",
      "\n",
      "t+3 MAE MEAN 2.161 +- 0.608\n",
      "\n",
      "t+4 MAE MEAN 2.165 +- 0.632\n",
      "\n",
      "t+5 MAE MEAN 2.168 +- 0.643\n",
      "\n",
      "t+6 MAE MEAN 2.168 +- 0.643\n",
      "\n",
      "t+7 MAE MEAN 2.168 +- 0.647\n",
      "\n",
      "t+8 MAE MEAN 2.171 +- 0.658\n",
      "\n",
      "t+9 MAE MEAN 2.172 +- 0.652\n",
      "\n",
      "t+10 MAE MEAN 2.173 +- 0.668\n",
      "\n",
      "t+11 MAE MEAN 2.172 +- 0.657\n",
      "\n",
      "t+12 MAE MEAN 2.171 +- 0.646\n",
      "\n"
     ]
    }
   ],
   "source": [
    "MAE_MEAN = np.mean(mae_list,axis=0).mean(axis=1)\n",
    "MAE_STD =  np.std(mae_list,axis=0).std(axis=1)\n",
    "\n",
    "for i in range(len(MAE_MEAN)):\n",
    "    print('t+'+str(i+1)+' MAE MEAN ' +str(np.round(MAE_MEAN[i],3))+' +- '+str(np.round(MAE_STD[i],3)))\n",
    "    print('')"
   ]
  },
  {
   "cell_type": "code",
   "execution_count": 30,
   "metadata": {
    "execution": {
     "iopub.execute_input": "2021-04-29T15:19:19.953569Z",
     "iopub.status.busy": "2021-04-29T15:19:19.952668Z",
     "iopub.status.idle": "2021-04-29T15:19:41.678384Z",
     "shell.execute_reply": "2021-04-29T15:19:41.677296Z"
    },
    "id": "BzU8z2I5zRe5",
    "papermill": {
     "duration": 22.103997,
     "end_time": "2021-04-29T15:19:41.678544",
     "exception": false,
     "start_time": "2021-04-29T15:19:19.574547",
     "status": "completed"
    },
    "tags": []
   },
   "outputs": [],
   "source": [
    "with open('FORECAST_STL_GCN_GRU.pkl', 'wb') as f:  \n",
    "    pickle.dump([forecasts, targets], f)\n",
    "    \n",
    "# !cp STL_training.pkl \"drive/MyDrive/Colab Notebooks/MTL traffic forecasting/Results/\"\n",
    "# print('Training Process')"
   ]
  }
 ],
 "metadata": {
  "kernelspec": {
   "display_name": "Python 3",
   "language": "python",
   "name": "python3"
  },
  "language_info": {
   "codemirror_mode": {
    "name": "ipython",
    "version": 3
   },
   "file_extension": ".py",
   "mimetype": "text/x-python",
   "name": "python",
   "nbconvert_exporter": "python",
   "pygments_lexer": "ipython3",
   "version": "3.7.9"
  },
  "papermill": {
   "default_parameters": {},
   "duration": 4203.275082,
   "end_time": "2021-04-29T15:19:49.215934",
   "environment_variables": {},
   "exception": null,
   "input_path": "__notebook__.ipynb",
   "output_path": "__notebook__.ipynb",
   "parameters": {},
   "start_time": "2021-04-29T14:09:45.940852",
   "version": "2.2.2"
  }
 },
 "nbformat": 4,
 "nbformat_minor": 4
}
