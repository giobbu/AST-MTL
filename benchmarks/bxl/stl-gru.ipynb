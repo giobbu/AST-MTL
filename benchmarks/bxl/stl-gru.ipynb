{
 "cells": [
  {
   "cell_type": "markdown",
   "metadata": {
    "id": "YIBknzfcshPu",
    "papermill": {
     "duration": 0.018329,
     "end_time": "2021-04-29T10:27:19.541045",
     "exception": false,
     "start_time": "2021-04-29T10:27:19.522716",
     "status": "completed"
    },
    "tags": []
   },
   "source": [
    "## General Import"
   ]
  },
  {
   "cell_type": "code",
   "execution_count": 1,
   "metadata": {
    "execution": {
     "iopub.execute_input": "2021-04-29T10:27:19.580933Z",
     "iopub.status.busy": "2021-04-29T10:27:19.580237Z",
     "iopub.status.idle": "2021-04-29T10:27:27.751846Z",
     "shell.execute_reply": "2021-04-29T10:27:27.751218Z"
    },
    "papermill": {
     "duration": 8.193776,
     "end_time": "2021-04-29T10:27:27.752076",
     "exception": false,
     "start_time": "2021-04-29T10:27:19.558300",
     "status": "completed"
    },
    "tags": []
   },
   "outputs": [
    {
     "name": "stdout",
     "output_type": "stream",
     "text": [
      "Collecting spektral\r\n",
      "  Downloading spektral-1.0.6-py3-none-any.whl (114 kB)\r\n",
      "\u001b[K     |████████████████████████████████| 114 kB 1.2 MB/s \r\n",
      "\u001b[?25hRequirement already satisfied: lxml in /opt/conda/lib/python3.7/site-packages (from spektral) (4.6.2)\r\n",
      "Requirement already satisfied: joblib in /opt/conda/lib/python3.7/site-packages (from spektral) (1.0.0)\r\n",
      "Requirement already satisfied: scipy in /opt/conda/lib/python3.7/site-packages (from spektral) (1.5.4)\r\n",
      "Requirement already satisfied: pandas in /opt/conda/lib/python3.7/site-packages (from spektral) (1.1.5)\r\n",
      "Requirement already satisfied: scikit-learn in /opt/conda/lib/python3.7/site-packages (from spektral) (0.24.1)\r\n",
      "Requirement already satisfied: numpy in /opt/conda/lib/python3.7/site-packages (from spektral) (1.19.5)\r\n",
      "Requirement already satisfied: tqdm in /opt/conda/lib/python3.7/site-packages (from spektral) (4.55.1)\r\n",
      "Requirement already satisfied: tensorflow>=2.1.0 in /opt/conda/lib/python3.7/site-packages (from spektral) (2.4.1)\r\n",
      "Requirement already satisfied: networkx in /opt/conda/lib/python3.7/site-packages (from spektral) (2.5)\r\n",
      "Requirement already satisfied: requests in /opt/conda/lib/python3.7/site-packages (from spektral) (2.25.1)\r\n",
      "Requirement already satisfied: six~=1.15.0 in /opt/conda/lib/python3.7/site-packages (from tensorflow>=2.1.0->spektral) (1.15.0)\r\n",
      "Requirement already satisfied: termcolor~=1.1.0 in /opt/conda/lib/python3.7/site-packages (from tensorflow>=2.1.0->spektral) (1.1.0)\r\n",
      "Requirement already satisfied: wheel~=0.35 in /opt/conda/lib/python3.7/site-packages (from tensorflow>=2.1.0->spektral) (0.36.2)\r\n",
      "Requirement already satisfied: absl-py~=0.10 in /opt/conda/lib/python3.7/site-packages (from tensorflow>=2.1.0->spektral) (0.10.0)\r\n",
      "Requirement already satisfied: google-pasta~=0.2 in /opt/conda/lib/python3.7/site-packages (from tensorflow>=2.1.0->spektral) (0.2.0)\r\n",
      "Requirement already satisfied: grpcio~=1.32.0 in /opt/conda/lib/python3.7/site-packages (from tensorflow>=2.1.0->spektral) (1.32.0)\r\n",
      "Requirement already satisfied: flatbuffers~=1.12.0 in /opt/conda/lib/python3.7/site-packages (from tensorflow>=2.1.0->spektral) (1.12)\r\n",
      "Requirement already satisfied: protobuf>=3.9.2 in /opt/conda/lib/python3.7/site-packages (from tensorflow>=2.1.0->spektral) (3.14.0)\r\n",
      "Requirement already satisfied: h5py~=2.10.0 in /opt/conda/lib/python3.7/site-packages (from tensorflow>=2.1.0->spektral) (2.10.0)\r\n",
      "Requirement already satisfied: astunparse~=1.6.3 in /opt/conda/lib/python3.7/site-packages (from tensorflow>=2.1.0->spektral) (1.6.3)\r\n",
      "Requirement already satisfied: tensorflow-estimator<2.5.0,>=2.4.0 in /opt/conda/lib/python3.7/site-packages (from tensorflow>=2.1.0->spektral) (2.4.0)\r\n",
      "Requirement already satisfied: typing-extensions~=3.7.4 in /opt/conda/lib/python3.7/site-packages (from tensorflow>=2.1.0->spektral) (3.7.4.3)\r\n",
      "Requirement already satisfied: tensorboard~=2.4 in /opt/conda/lib/python3.7/site-packages (from tensorflow>=2.1.0->spektral) (2.4.1)\r\n",
      "Requirement already satisfied: opt-einsum~=3.3.0 in /opt/conda/lib/python3.7/site-packages (from tensorflow>=2.1.0->spektral) (3.3.0)\r\n",
      "Requirement already satisfied: keras-preprocessing~=1.1.2 in /opt/conda/lib/python3.7/site-packages (from tensorflow>=2.1.0->spektral) (1.1.2)\r\n",
      "Requirement already satisfied: wrapt~=1.12.1 in /opt/conda/lib/python3.7/site-packages (from tensorflow>=2.1.0->spektral) (1.12.1)\r\n",
      "Requirement already satisfied: gast==0.3.3 in /opt/conda/lib/python3.7/site-packages (from tensorflow>=2.1.0->spektral) (0.3.3)\r\n",
      "Requirement already satisfied: tensorboard-plugin-wit>=1.6.0 in /opt/conda/lib/python3.7/site-packages (from tensorboard~=2.4->tensorflow>=2.1.0->spektral) (1.8.0)\r\n",
      "Requirement already satisfied: werkzeug>=0.11.15 in /opt/conda/lib/python3.7/site-packages (from tensorboard~=2.4->tensorflow>=2.1.0->spektral) (1.0.1)\r\n",
      "Requirement already satisfied: google-auth<2,>=1.6.3 in /opt/conda/lib/python3.7/site-packages (from tensorboard~=2.4->tensorflow>=2.1.0->spektral) (1.24.0)\r\n",
      "Requirement already satisfied: markdown>=2.6.8 in /opt/conda/lib/python3.7/site-packages (from tensorboard~=2.4->tensorflow>=2.1.0->spektral) (3.3.3)\r\n",
      "Requirement already satisfied: setuptools>=41.0.0 in /opt/conda/lib/python3.7/site-packages (from tensorboard~=2.4->tensorflow>=2.1.0->spektral) (49.6.0.post20201009)\r\n",
      "Requirement already satisfied: google-auth-oauthlib<0.5,>=0.4.1 in /opt/conda/lib/python3.7/site-packages (from tensorboard~=2.4->tensorflow>=2.1.0->spektral) (0.4.2)\r\n",
      "Requirement already satisfied: cachetools<5.0,>=2.0.0 in /opt/conda/lib/python3.7/site-packages (from google-auth<2,>=1.6.3->tensorboard~=2.4->tensorflow>=2.1.0->spektral) (4.1.1)\r\n",
      "Requirement already satisfied: pyasn1-modules>=0.2.1 in /opt/conda/lib/python3.7/site-packages (from google-auth<2,>=1.6.3->tensorboard~=2.4->tensorflow>=2.1.0->spektral) (0.2.7)\r\n",
      "Requirement already satisfied: rsa<5,>=3.1.4 in /opt/conda/lib/python3.7/site-packages (from google-auth<2,>=1.6.3->tensorboard~=2.4->tensorflow>=2.1.0->spektral) (4.6)\r\n",
      "Requirement already satisfied: requests-oauthlib>=0.7.0 in /opt/conda/lib/python3.7/site-packages (from google-auth-oauthlib<0.5,>=0.4.1->tensorboard~=2.4->tensorflow>=2.1.0->spektral) (1.3.0)\r\n",
      "Requirement already satisfied: importlib-metadata in /opt/conda/lib/python3.7/site-packages (from markdown>=2.6.8->tensorboard~=2.4->tensorflow>=2.1.0->spektral) (3.3.0)\r\n",
      "Requirement already satisfied: pyasn1<0.5.0,>=0.4.6 in /opt/conda/lib/python3.7/site-packages (from pyasn1-modules>=0.2.1->google-auth<2,>=1.6.3->tensorboard~=2.4->tensorflow>=2.1.0->spektral) (0.4.8)\r\n",
      "Requirement already satisfied: chardet<5,>=3.0.2 in /opt/conda/lib/python3.7/site-packages (from requests->spektral) (3.0.4)\r\n",
      "Requirement already satisfied: idna<3,>=2.5 in /opt/conda/lib/python3.7/site-packages (from requests->spektral) (2.10)\r\n",
      "Requirement already satisfied: urllib3<1.27,>=1.21.1 in /opt/conda/lib/python3.7/site-packages (from requests->spektral) (1.26.2)\r\n",
      "Requirement already satisfied: certifi>=2017.4.17 in /opt/conda/lib/python3.7/site-packages (from requests->spektral) (2020.12.5)\r\n",
      "Requirement already satisfied: oauthlib>=3.0.0 in /opt/conda/lib/python3.7/site-packages (from requests-oauthlib>=0.7.0->google-auth-oauthlib<0.5,>=0.4.1->tensorboard~=2.4->tensorflow>=2.1.0->spektral) (3.0.1)\r\n",
      "Requirement already satisfied: zipp>=0.5 in /opt/conda/lib/python3.7/site-packages (from importlib-metadata->markdown>=2.6.8->tensorboard~=2.4->tensorflow>=2.1.0->spektral) (3.4.0)\r\n",
      "Requirement already satisfied: decorator>=4.3.0 in /opt/conda/lib/python3.7/site-packages (from networkx->spektral) (4.4.2)\r\n",
      "Requirement already satisfied: python-dateutil>=2.7.3 in /opt/conda/lib/python3.7/site-packages (from pandas->spektral) (2.8.1)\r\n",
      "Requirement already satisfied: pytz>=2017.2 in /opt/conda/lib/python3.7/site-packages (from pandas->spektral) (2020.5)\r\n",
      "Requirement already satisfied: threadpoolctl>=2.0.0 in /opt/conda/lib/python3.7/site-packages (from scikit-learn->spektral) (2.1.0)\r\n",
      "Installing collected packages: spektral\r\n",
      "Successfully installed spektral-1.0.6\r\n",
      "\u001b[33mWARNING: You are using pip version 21.0.1; however, version 21.1 is available.\r\n",
      "You should consider upgrading via the '/opt/conda/bin/python3.7 -m pip install --upgrade pip' command.\u001b[0m\r\n"
     ]
    }
   ],
   "source": [
    "!pip install spektral"
   ]
  },
  {
   "cell_type": "code",
   "execution_count": 2,
   "metadata": {
    "execution": {
     "iopub.execute_input": "2021-04-29T10:27:27.812151Z",
     "iopub.status.busy": "2021-04-29T10:27:27.811333Z",
     "iopub.status.idle": "2021-04-29T10:27:34.875247Z",
     "shell.execute_reply": "2021-04-29T10:27:34.874257Z"
    },
    "executionInfo": {
     "elapsed": 4565,
     "status": "ok",
     "timestamp": 1614936561155,
     "user": {
      "displayName": "giovanni buroni",
      "photoUrl": "https://lh3.googleusercontent.com/a-/AOh14GjarG9foST_wpJ_PfvHTR0iWGuChdFnmm4ong7n=s64",
      "userId": "06127736531396060751"
     },
     "user_tz": -60
    },
    "id": "m7nfSj_GshPw",
    "papermill": {
     "duration": 7.101265,
     "end_time": "2021-04-29T10:27:34.875382",
     "exception": false,
     "start_time": "2021-04-29T10:27:27.774117",
     "status": "completed"
    },
    "tags": []
   },
   "outputs": [],
   "source": [
    "from mpl_toolkits.mplot3d import Axes3D\n",
    "from sklearn.preprocessing import StandardScaler\n",
    "import matplotlib.pyplot as plt # plotting\n",
    "import numpy as np # linear algebra\n",
    "import os # accessing directory structure\n",
    "import pandas as pd # data processing, CSV file I/O (e.g. pd.read_csv)\n",
    "import tensorflow as tf\n",
    "\n",
    "from sklearn.preprocessing import MinMaxScaler\n",
    "\n",
    "import gc\n",
    "import time\n",
    "import seaborn as sns; sns.set()\n",
    "\n",
    "import os \n",
    "# Disable warnings, set Matplotlib inline plotting and load Pandas package\n",
    "import warnings\n",
    "warnings.filterwarnings('ignore')\n",
    "import pandas as pd\n",
    "import numpy as np\n",
    "#pd.options.display.mpl_style = 'default'\n",
    "from datetime import datetime\n",
    "import numpy as np\n",
    "from datetime import datetime, timedelta\n",
    "from pytz import timezone\n",
    "from dateutil import tz\n",
    "import geojson\n",
    "import geopandas as gpd\n",
    "from fiona.crs import from_epsg\n",
    "import os, json\n",
    "from shapely.geometry import shape, Point, Polygon, MultiPoint\n",
    "%matplotlib inline\n",
    "import matplotlib.pyplot as plt\n",
    "from geopandas.tools import sjoin\n",
    "\n",
    "import matplotlib.cm as cm\n",
    "\n",
    "import folium\n",
    "import shapely.geometry\n",
    "\n",
    "from branca.colormap import  linear\n",
    "import json\n",
    "import branca.colormap as cm\n",
    "import matplotlib.colors as colors\n",
    "%matplotlib inline\n",
    "\n",
    "import networkx as nx\n",
    "import pickle\n",
    "\n",
    "import osmnx as ox\n",
    "ox.config(log_console=True, use_cache=True)\n",
    "ox.__version__\n",
    "\n",
    "import matplotlib.colors as mcolors\n"
   ]
  },
  {
   "cell_type": "code",
   "execution_count": 3,
   "metadata": {
    "execution": {
     "iopub.execute_input": "2021-04-29T10:27:34.929157Z",
     "iopub.status.busy": "2021-04-29T10:27:34.928185Z",
     "iopub.status.idle": "2021-04-29T10:27:34.969691Z",
     "shell.execute_reply": "2021-04-29T10:27:34.969207Z"
    },
    "executionInfo": {
     "elapsed": 4565,
     "status": "ok",
     "timestamp": 1614936561157,
     "user": {
      "displayName": "giovanni buroni",
      "photoUrl": "https://lh3.googleusercontent.com/a-/AOh14GjarG9foST_wpJ_PfvHTR0iWGuChdFnmm4ong7n=s64",
      "userId": "06127736531396060751"
     },
     "user_tz": -60
    },
    "id": "b275b4IDshPx",
    "papermill": {
     "duration": 0.072095,
     "end_time": "2021-04-29T10:27:34.969811",
     "exception": false,
     "start_time": "2021-04-29T10:27:34.897716",
     "status": "completed"
    },
    "tags": []
   },
   "outputs": [],
   "source": [
    "import tensorflow as tf\n",
    "from tensorflow.keras import Model\n",
    "from spektral.layers import GCNConv,  DiffusionConv, GATConv, GCSConv, GeneralConv, GlobalAvgPool\n",
    "from tensorflow.keras.regularizers import l2\n",
    "from tensorflow.keras.layers import Dense, Flatten\n",
    "from tensorflow.keras.losses import SparseCategoricalCrossentropy\n",
    "from tensorflow.keras.metrics import SparseCategoricalAccuracy\n",
    "from tensorflow.keras.optimizers import Adam\n",
    "from tensorflow.keras import regularizers"
   ]
  },
  {
   "cell_type": "code",
   "execution_count": 4,
   "metadata": {
    "execution": {
     "iopub.execute_input": "2021-04-29T10:27:35.017820Z",
     "iopub.status.busy": "2021-04-29T10:27:35.017300Z",
     "iopub.status.idle": "2021-04-29T10:27:56.879545Z",
     "shell.execute_reply": "2021-04-29T10:27:56.878991Z"
    },
    "executionInfo": {
     "elapsed": 21282,
     "status": "ok",
     "timestamp": 1614936577877,
     "user": {
      "displayName": "giovanni buroni",
      "photoUrl": "https://lh3.googleusercontent.com/a-/AOh14GjarG9foST_wpJ_PfvHTR0iWGuChdFnmm4ong7n=s64",
      "userId": "06127736531396060751"
     },
     "user_tz": -60
    },
    "id": "hmokpg02shPy",
    "papermill": {
     "duration": 21.888893,
     "end_time": "2021-04-29T10:27:56.879696",
     "exception": false,
     "start_time": "2021-04-29T10:27:34.990803",
     "status": "completed"
    },
    "tags": []
   },
   "outputs": [],
   "source": [
    "path_graph = '../input/graph-results/graph_adj_bxl.pkl'\n",
    "\n",
    "path_feat_flow = '../input/graph-results/FEATURES_flow_bxl.csv'\n",
    "path_feat_vel = '../input/graph-results/FEATURES_vel_bxl.csv'\n",
    "\n",
    "\n",
    "with open(path_graph,'rb') as f:\n",
    "    graph, adj_matrix, edges, G = pickle.load(f)\n",
    "\n",
    "adj_mx = nx.to_numpy_matrix(graph)\n",
    "\n",
    "# flow\n",
    "features_flow = pd.read_csv(path_feat_flow).iloc[:,1:].values\n",
    "# vel\n",
    "features_vel = pd.read_csv(path_feat_vel).iloc[:,1:].values"
   ]
  },
  {
   "cell_type": "code",
   "execution_count": 5,
   "metadata": {
    "execution": {
     "iopub.execute_input": "2021-04-29T10:27:56.928561Z",
     "iopub.status.busy": "2021-04-29T10:27:56.928035Z",
     "iopub.status.idle": "2021-04-29T10:27:56.932289Z",
     "shell.execute_reply": "2021-04-29T10:27:56.931770Z"
    },
    "executionInfo": {
     "elapsed": 21240,
     "status": "ok",
     "timestamp": 1614936577879,
     "user": {
      "displayName": "giovanni buroni",
      "photoUrl": "https://lh3.googleusercontent.com/a-/AOh14GjarG9foST_wpJ_PfvHTR0iWGuChdFnmm4ong7n=s64",
      "userId": "06127736531396060751"
     },
     "user_tz": -60
    },
    "id": "ZHtO7pnnxPQG",
    "papermill": {
     "duration": 0.029671,
     "end_time": "2021-04-29T10:27:56.932413",
     "exception": false,
     "start_time": "2021-04-29T10:27:56.902742",
     "status": "completed"
    },
    "tags": []
   },
   "outputs": [],
   "source": [
    "# PARAMETERS"
   ]
  },
  {
   "cell_type": "code",
   "execution_count": 6,
   "metadata": {
    "execution": {
     "iopub.execute_input": "2021-04-29T10:27:56.984033Z",
     "iopub.status.busy": "2021-04-29T10:27:56.982048Z",
     "iopub.status.idle": "2021-04-29T10:27:56.984645Z",
     "shell.execute_reply": "2021-04-29T10:27:56.985059Z"
    },
    "executionInfo": {
     "elapsed": 21238,
     "status": "ok",
     "timestamp": 1614936577880,
     "user": {
      "displayName": "giovanni buroni",
      "photoUrl": "https://lh3.googleusercontent.com/a-/AOh14GjarG9foST_wpJ_PfvHTR0iWGuChdFnmm4ong7n=s64",
      "userId": "06127736531396060751"
     },
     "user_tz": -60
    },
    "id": "sduHFHSexOTP",
    "papermill": {
     "duration": 0.029469,
     "end_time": "2021-04-29T10:27:56.985202",
     "exception": false,
     "start_time": "2021-04-29T10:27:56.955733",
     "status": "completed"
    },
    "tags": []
   },
   "outputs": [],
   "source": [
    "inputs = 12\n",
    "\n",
    "granularity = 2*2\n",
    "batch_train = 128 # best 32\n",
    "batch_test = 1"
   ]
  },
  {
   "cell_type": "markdown",
   "metadata": {
    "id": "8UvuJcrvshP0",
    "papermill": {
     "duration": 0.022888,
     "end_time": "2021-04-29T10:27:57.030038",
     "exception": false,
     "start_time": "2021-04-29T10:27:57.007150",
     "status": "completed"
    },
    "tags": []
   },
   "source": [
    "## split train/val/test"
   ]
  },
  {
   "cell_type": "code",
   "execution_count": 7,
   "metadata": {
    "execution": {
     "iopub.execute_input": "2021-04-29T10:27:57.817267Z",
     "iopub.status.busy": "2021-04-29T10:27:57.816438Z",
     "iopub.status.idle": "2021-04-29T10:27:57.820620Z",
     "shell.execute_reply": "2021-04-29T10:27:57.821653Z"
    },
    "executionInfo": {
     "elapsed": 21474,
     "status": "ok",
     "timestamp": 1614936578119,
     "user": {
      "displayName": "giovanni buroni",
      "photoUrl": "https://lh3.googleusercontent.com/a-/AOh14GjarG9foST_wpJ_PfvHTR0iWGuChdFnmm4ong7n=s64",
      "userId": "06127736531396060751"
     },
     "user_tz": -60
    },
    "id": "nd6kl3lOmOth",
    "papermill": {
     "duration": 0.766698,
     "end_time": "2021-04-29T10:27:57.821855",
     "exception": false,
     "start_time": "2021-04-29T10:27:57.055157",
     "status": "completed"
    },
    "tags": []
   },
   "outputs": [],
   "source": [
    "data_flow = features_flow[:, :-1]\n",
    "data_vel = features_vel[:, :-1]\n",
    "\n",
    "data = np.concatenate([data_flow, data_vel], axis=1)"
   ]
  },
  {
   "cell_type": "code",
   "execution_count": 8,
   "metadata": {
    "execution": {
     "iopub.execute_input": "2021-04-29T10:27:57.906755Z",
     "iopub.status.busy": "2021-04-29T10:27:57.905944Z",
     "iopub.status.idle": "2021-04-29T10:27:57.913362Z",
     "shell.execute_reply": "2021-04-29T10:27:57.914466Z"
    },
    "executionInfo": {
     "elapsed": 21461,
     "status": "ok",
     "timestamp": 1614936578120,
     "user": {
      "displayName": "giovanni buroni",
      "photoUrl": "https://lh3.googleusercontent.com/a-/AOh14GjarG9foST_wpJ_PfvHTR0iWGuChdFnmm4ong7n=s64",
      "userId": "06127736531396060751"
     },
     "user_tz": -60
    },
    "id": "FzAuBHy0mdO5",
    "outputId": "ffa2b78b-c003-4ae3-faed-e52689fac732",
    "papermill": {
     "duration": 0.054481,
     "end_time": "2021-04-29T10:27:57.914653",
     "exception": false,
     "start_time": "2021-04-29T10:27:57.860172",
     "status": "completed"
    },
    "tags": []
   },
   "outputs": [
    {
     "data": {
      "text/plain": [
       "(5664, 9048)"
      ]
     },
     "execution_count": 8,
     "metadata": {},
     "output_type": "execute_result"
    }
   ],
   "source": [
    "data.shape"
   ]
  },
  {
   "cell_type": "code",
   "execution_count": 9,
   "metadata": {
    "execution": {
     "iopub.execute_input": "2021-04-29T10:27:58.010771Z",
     "iopub.status.busy": "2021-04-29T10:27:58.009829Z",
     "iopub.status.idle": "2021-04-29T10:27:58.012269Z",
     "shell.execute_reply": "2021-04-29T10:27:58.011540Z"
    },
    "executionInfo": {
     "elapsed": 21459,
     "status": "ok",
     "timestamp": 1614936578120,
     "user": {
      "displayName": "giovanni buroni",
      "photoUrl": "https://lh3.googleusercontent.com/a-/AOh14GjarG9foST_wpJ_PfvHTR0iWGuChdFnmm4ong7n=s64",
      "userId": "06127736531396060751"
     },
     "user_tz": -60
    },
    "id": "GqWVkLFlshP0",
    "papermill": {
     "duration": 0.051547,
     "end_time": "2021-04-29T10:27:58.012460",
     "exception": false,
     "start_time": "2021-04-29T10:27:57.960913",
     "status": "completed"
    },
    "tags": []
   },
   "outputs": [],
   "source": [
    "\n",
    "# Train/test split\n",
    "data_tr, data_te = data[:-168*2*granularity, :], data[-168*2*granularity:, :]\n"
   ]
  },
  {
   "cell_type": "code",
   "execution_count": 10,
   "metadata": {
    "execution": {
     "iopub.execute_input": "2021-04-29T10:27:58.085869Z",
     "iopub.status.busy": "2021-04-29T10:27:58.085101Z",
     "iopub.status.idle": "2021-04-29T10:27:58.087081Z",
     "shell.execute_reply": "2021-04-29T10:27:58.086508Z"
    },
    "executionInfo": {
     "elapsed": 21457,
     "status": "ok",
     "timestamp": 1614936578121,
     "user": {
      "displayName": "giovanni buroni",
      "photoUrl": "https://lh3.googleusercontent.com/a-/AOh14GjarG9foST_wpJ_PfvHTR0iWGuChdFnmm4ong7n=s64",
      "userId": "06127736531396060751"
     },
     "user_tz": -60
    },
    "id": "BcOJcaqSvih_",
    "papermill": {
     "duration": 0.040839,
     "end_time": "2021-04-29T10:27:58.087219",
     "exception": false,
     "start_time": "2021-04-29T10:27:58.046380",
     "status": "completed"
    },
    "tags": []
   },
   "outputs": [],
   "source": [
    "# Covariates"
   ]
  },
  {
   "cell_type": "code",
   "execution_count": 11,
   "metadata": {
    "execution": {
     "iopub.execute_input": "2021-04-29T10:27:58.167093Z",
     "iopub.status.busy": "2021-04-29T10:27:58.166431Z",
     "iopub.status.idle": "2021-04-29T10:27:58.260546Z",
     "shell.execute_reply": "2021-04-29T10:27:58.259878Z"
    },
    "executionInfo": {
     "elapsed": 21455,
     "status": "ok",
     "timestamp": 1614936578122,
     "user": {
      "displayName": "giovanni buroni",
      "photoUrl": "https://lh3.googleusercontent.com/a-/AOh14GjarG9foST_wpJ_PfvHTR0iWGuChdFnmm4ong7n=s64",
      "userId": "06127736531396060751"
     },
     "user_tz": -60
    },
    "id": "5GB9RXbYsoga",
    "papermill": {
     "duration": 0.139963,
     "end_time": "2021-04-29T10:27:58.260687",
     "exception": false,
     "start_time": "2021-04-29T10:27:58.120724",
     "status": "completed"
    },
    "tags": []
   },
   "outputs": [],
   "source": [
    "datetime = features_flow[:, -1]\n",
    "\n",
    "# for figures\n",
    "print_datetime = datetime[-168*2*granularity+inputs:]\n",
    "\n",
    "DATETIME = pd.DataFrame(datetime, columns=['Datetime'])\n",
    "DATETIME['Datetime'] = pd.to_datetime(DATETIME['Datetime'])\n",
    "\n",
    "DATETIME['minutes'] = DATETIME['Datetime'].dt.minute\n",
    "DATETIME['hour'] = DATETIME['Datetime'].dt.hour\n",
    "\n",
    "DATETIME['hour_x']=np.sin(DATETIME.hour*(2.*np.pi/23))\n",
    "DATETIME['hour_y']=np.cos(DATETIME.hour*(2.*np.pi/23))\n",
    "\n",
    "DATETIME['day'] = DATETIME['Datetime'].dt.day\n",
    "DATETIME['DayOfWeek'] = DATETIME['Datetime'].dt.dayofweek\n",
    "\n",
    "DATETIME['WorkingDays'] = DATETIME['DayOfWeek'].apply(lambda y: 2 if y < 5 else y)\n",
    "DATETIME['WorkingDays'] = DATETIME['WorkingDays'].apply(lambda y: 1 if y == 5 else y)\n",
    "DATETIME['WorkingDays'] = DATETIME['WorkingDays'].apply(lambda y: 0 if y == 6 else y)\n",
    "\n",
    "DATETIME = DATETIME.drop(['Datetime','minutes','hour','day'], axis=1).values\n",
    "\n",
    "# temporal features = 4\n",
    "feat_time = 4\n",
    "\n",
    "# datetime Train/test split\n",
    "time_tr, time_te = DATETIME[:-168*2*granularity, :], DATETIME[-168*2*granularity:, :]\n",
    "\n"
   ]
  },
  {
   "cell_type": "markdown",
   "metadata": {
    "id": "rnkgB_FYshP0",
    "papermill": {
     "duration": 0.031762,
     "end_time": "2021-04-29T10:27:58.317089",
     "exception": false,
     "start_time": "2021-04-29T10:27:58.285327",
     "status": "completed"
    },
    "tags": []
   },
   "source": [
    "## scale data"
   ]
  },
  {
   "cell_type": "code",
   "execution_count": 12,
   "metadata": {
    "execution": {
     "iopub.execute_input": "2021-04-29T10:28:00.309598Z",
     "iopub.status.busy": "2021-04-29T10:28:00.309027Z",
     "iopub.status.idle": "2021-04-29T10:28:03.013361Z",
     "shell.execute_reply": "2021-04-29T10:28:03.011888Z"
    },
    "executionInfo": {
     "elapsed": 22848,
     "status": "ok",
     "timestamp": 1614936579518,
     "user": {
      "displayName": "giovanni buroni",
      "photoUrl": "https://lh3.googleusercontent.com/a-/AOh14GjarG9foST_wpJ_PfvHTR0iWGuChdFnmm4ong7n=s64",
      "userId": "06127736531396060751"
     },
     "user_tz": -60
    },
    "id": "RjIvQ0QgshP1",
    "papermill": {
     "duration": 4.664273,
     "end_time": "2021-04-29T10:28:03.013506",
     "exception": false,
     "start_time": "2021-04-29T10:27:58.349233",
     "status": "completed"
    },
    "tags": []
   },
   "outputs": [],
   "source": [
    "scaler = MinMaxScaler(feature_range=(0, 1))\n",
    "scaler_cov = MinMaxScaler(feature_range=(0, 1))\n",
    "\n",
    "# fit and transform\n",
    "scaled_tr = scaler.fit_transform(data_tr)\n",
    "# transform\n",
    "scaled_te = scaler.transform(data_te)\n",
    "\n",
    "# fit and transform\n",
    "scaled_tr_cov = scaler_cov.fit_transform(time_tr)\n",
    "# transform\n",
    "scaled_te_cov = scaler_cov.transform(time_te)"
   ]
  },
  {
   "cell_type": "markdown",
   "metadata": {
    "id": "nsmXb48sshP1",
    "papermill": {
     "duration": 0.022194,
     "end_time": "2021-04-29T10:28:03.058177",
     "exception": false,
     "start_time": "2021-04-29T10:28:03.035983",
     "status": "completed"
    },
    "tags": []
   },
   "source": [
    "## prepare data for deep learning"
   ]
  },
  {
   "cell_type": "code",
   "execution_count": 13,
   "metadata": {
    "execution": {
     "iopub.execute_input": "2021-04-29T10:28:03.109990Z",
     "iopub.status.busy": "2021-04-29T10:28:03.109399Z",
     "iopub.status.idle": "2021-04-29T10:28:03.113926Z",
     "shell.execute_reply": "2021-04-29T10:28:03.113140Z"
    },
    "executionInfo": {
     "elapsed": 22847,
     "status": "ok",
     "timestamp": 1614936579519,
     "user": {
      "displayName": "giovanni buroni",
      "photoUrl": "https://lh3.googleusercontent.com/a-/AOh14GjarG9foST_wpJ_PfvHTR0iWGuChdFnmm4ong7n=s64",
      "userId": "06127736531396060751"
     },
     "user_tz": -60
    },
    "id": "sQiniFq0shP2",
    "papermill": {
     "duration": 0.033765,
     "end_time": "2021-04-29T10:28:03.114049",
     "exception": false,
     "start_time": "2021-04-29T10:28:03.080284",
     "status": "completed"
    },
    "tags": []
   },
   "outputs": [],
   "source": [
    "def prepare_data_DL(INPUT, FEAT, BATCH):\n",
    "    \n",
    "    dataset = FEAT.reshape(FEAT.shape[0], FEAT.shape[1]) \n",
    "    dataset = tf.data.Dataset.from_tensor_slices(dataset)\n",
    "\n",
    "    inputs = dataset.window(INPUT,  shift=1,  stride=1,  drop_remainder=True)\n",
    "    inputs = inputs.flat_map(lambda window: window.batch(INPUT))\n",
    "\n",
    "    targets = dataset.window(INPUT, shift=1,  stride=1,  drop_remainder=True).skip(INPUT)\n",
    "    targets = targets.flat_map(lambda window: window.batch(INPUT))\n",
    "\n",
    "    dataset = tf.data.Dataset.zip((inputs, targets))\n",
    "    dataset = dataset.batch(BATCH).prefetch(tf.data.experimental.AUTOTUNE)\n",
    "\n",
    "\n",
    "    return dataset"
   ]
  },
  {
   "cell_type": "code",
   "execution_count": 14,
   "metadata": {
    "execution": {
     "iopub.execute_input": "2021-04-29T10:28:05.467778Z",
     "iopub.status.busy": "2021-04-29T10:28:05.466561Z",
     "iopub.status.idle": "2021-04-29T10:28:06.188309Z",
     "shell.execute_reply": "2021-04-29T10:28:06.187271Z"
    },
    "executionInfo": {
     "elapsed": 28319,
     "status": "ok",
     "timestamp": 1614936584993,
     "user": {
      "displayName": "giovanni buroni",
      "photoUrl": "https://lh3.googleusercontent.com/a-/AOh14GjarG9foST_wpJ_PfvHTR0iWGuChdFnmm4ong7n=s64",
      "userId": "06127736531396060751"
     },
     "user_tz": -60
    },
    "id": "FIs0wUItshP2",
    "papermill": {
     "duration": 3.052282,
     "end_time": "2021-04-29T10:28:06.188451",
     "exception": false,
     "start_time": "2021-04-29T10:28:03.136169",
     "status": "completed"
    },
    "tags": []
   },
   "outputs": [],
   "source": [
    "# features\n",
    "loader_tr = prepare_data_DL(inputs, scaled_tr, batch_train)\n",
    "loader_te = prepare_data_DL(inputs, scaled_te, batch_test)\n",
    "\n",
    "# covariates\n",
    "loader_tr_cov = prepare_data_DL(inputs, scaled_tr_cov, batch_train)\n",
    "loader_te_cov = prepare_data_DL(inputs, scaled_te_cov, batch_test)"
   ]
  },
  {
   "cell_type": "code",
   "execution_count": 15,
   "metadata": {
    "execution": {
     "iopub.execute_input": "2021-04-29T10:28:06.249772Z",
     "iopub.status.busy": "2021-04-29T10:28:06.249212Z",
     "iopub.status.idle": "2021-04-29T10:28:06.557440Z",
     "shell.execute_reply": "2021-04-29T10:28:06.556885Z"
    },
    "executionInfo": {
     "elapsed": 28320,
     "status": "ok",
     "timestamp": 1614936584996,
     "user": {
      "displayName": "giovanni buroni",
      "photoUrl": "https://lh3.googleusercontent.com/a-/AOh14GjarG9foST_wpJ_PfvHTR0iWGuChdFnmm4ong7n=s64",
      "userId": "06127736531396060751"
     },
     "user_tz": -60
    },
    "id": "oYHppaM9shP3",
    "papermill": {
     "duration": 0.346786,
     "end_time": "2021-04-29T10:28:06.557564",
     "exception": false,
     "start_time": "2021-04-29T10:28:06.210778",
     "status": "completed"
    },
    "tags": []
   },
   "outputs": [],
   "source": [
    "\n",
    "l2_reg = 5e-4  # Regularization rate for l2\n",
    "\n",
    "# Build model\n",
    "class GCN_Net(Model):\n",
    "    \n",
    "    def __init__(self, **kwargs):\n",
    "        \n",
    "        super().__init__(**kwargs)\n",
    "        \n",
    "        self.street = 4524\n",
    "\n",
    "###################\n",
    "\n",
    "        # first LSTM FLOW\n",
    "        self.lstm_cells_flow_init = tf.keras.layers.GRUCell(150, #activation ='relu',\n",
    "                                        kernel_initializer='glorot_uniform',\n",
    "                                        recurrent_initializer='glorot_uniform',\n",
    "                                        kernel_regularizer=regularizers.l2(0.001),\n",
    "                                        bias_initializer='zeros') \n",
    "        \n",
    "        self.lstm_flow_init = tf.keras.layers.RNN(self.lstm_cells_flow_init, return_sequences = True, return_state =True)\n",
    "\n",
    "        # final LSTM FLOW\n",
    "        self.lstm_cells_flow_fin = tf.keras.layers.GRUCell(150, #activation ='relu',\n",
    "                                        kernel_initializer='glorot_uniform',\n",
    "                                        recurrent_initializer='glorot_uniform',\n",
    "                                        kernel_regularizer=regularizers.l2(0.001),\n",
    "                                        bias_initializer='zeros') \n",
    "        \n",
    "        self.lstm_flow_fin = tf.keras.layers.RNN(self.lstm_cells_flow_fin)\n",
    "\n",
    "\n",
    "        self.drop_flow = tf.keras.layers.Dropout(0.1)\n",
    "        \n",
    "        \n",
    "        self.dense_flow_fin = tf.keras.layers.Dense(self.street*12, \n",
    "                                           kernel_regularizer=regularizers.l2(0.001))\n",
    "        \n",
    "\n",
    "\n",
    "\n",
    "\n",
    "##########################\n",
    "\n",
    "        # first LSTM VEL\n",
    "        self.lstm_cells_vel_init = tf.keras.layers.GRUCell(150, #activation ='relu',\n",
    "                                        kernel_initializer='glorot_uniform',\n",
    "                                        recurrent_initializer='glorot_uniform',\n",
    "                                        kernel_regularizer=regularizers.l2(0.001),\n",
    "                                        bias_initializer='zeros') \n",
    "        \n",
    "        self.lstm_vel_init = tf.keras.layers.RNN(self.lstm_cells_vel_init, return_sequences = True, return_state =True)\n",
    "\n",
    "\n",
    "        # final LSTM VEL\n",
    "        self.lstm_cells_vel_fin = tf.keras.layers.GRUCell(150, #activation ='relu',\n",
    "                                        kernel_initializer='glorot_uniform',\n",
    "                                        recurrent_initializer='glorot_uniform',\n",
    "                                        kernel_regularizer=regularizers.l2(0.001),\n",
    "                                        bias_initializer='zeros') \n",
    "        \n",
    "        self.lstm_vel_fin = tf.keras.layers.RNN(self.lstm_cells_vel_fin)\n",
    "\n",
    "        \n",
    "        self.drop_vel = tf.keras.layers.Dropout(0.1)\n",
    "        \n",
    "        \n",
    "        self.dense_vel_fin = tf.keras.layers.Dense(self.street*12, \n",
    "                                           kernel_regularizer=regularizers.l2(0.001))\n",
    "        \n",
    "        \n",
    "\n",
    "##################################\n",
    "\n",
    "        self.add = tf.keras.layers.Add()\n",
    "        self.reshape = tf.keras.layers.Reshape([12, self.street])\n",
    "        \n",
    "\n",
    "    def call(self, flow_vel, a, cov):\n",
    "\n",
    "        # flow\n",
    "        flow = flow_vel[:, :, :-self.street]\n",
    "        # velocity\n",
    "        vel = flow_vel[:, :, -self.street:]\n",
    "\n",
    "\n",
    "        # two lstm models\n",
    "        flow_init, h_flow = self.lstm_flow_init(flow)\n",
    "        vel_init, h_vel = self.lstm_vel_init(vel)\n",
    "\n",
    "\n",
    "        # two models for flow and speed respectively\n",
    "\n",
    "        # flow\n",
    "        flow_final = self.lstm_flow_fin(flow_init, initial_state=[h_flow])\n",
    "        flow = self.drop_flow(flow_final)\n",
    "        flow = self.dense_flow_fin(flow)\n",
    "        flow = self.reshape(flow)\n",
    "\n",
    "        # velocity\n",
    "        vel_final = self.lstm_vel_fin(vel_init, initial_state=[h_vel])\n",
    "        vel = self.drop_vel(vel_final)\n",
    "        vel = self.dense_vel_fin(vel)\n",
    "        vel = self.reshape(vel)\n",
    "\n",
    "        # concatenate two finals results\n",
    "        final = tf.concat([flow, vel], axis=-1)\n",
    "\n",
    "        return final\n",
    "\n",
    "\n",
    "# Create model\n",
    "model = GCN_Net()\n",
    "optimizer = Adam(lr=0.0005)\n",
    "loss_fn = tf.keras.losses.MeanAbsoluteError()"
   ]
  },
  {
   "cell_type": "code",
   "execution_count": 16,
   "metadata": {
    "execution": {
     "iopub.execute_input": "2021-04-29T10:28:06.957940Z",
     "iopub.status.busy": "2021-04-29T10:28:06.957135Z",
     "iopub.status.idle": "2021-04-29T10:28:06.960666Z",
     "shell.execute_reply": "2021-04-29T10:28:06.961082Z"
    },
    "papermill": {
     "duration": 0.380921,
     "end_time": "2021-04-29T10:28:06.961229",
     "exception": false,
     "start_time": "2021-04-29T10:28:06.580308",
     "status": "completed"
    },
    "tags": []
   },
   "outputs": [
    {
     "data": {
      "text/plain": [
       "20"
      ]
     },
     "execution_count": 16,
     "metadata": {},
     "output_type": "execute_result"
    }
   ],
   "source": [
    "del data_tr, data_te, data_flow, data_vel, data, scaled_tr, scaled_te\n",
    "gc.collect()"
   ]
  },
  {
   "cell_type": "code",
   "execution_count": 17,
   "metadata": {
    "execution": {
     "iopub.execute_input": "2021-04-29T10:28:07.012954Z",
     "iopub.status.busy": "2021-04-29T10:28:07.012405Z",
     "iopub.status.idle": "2021-04-29T10:28:07.016687Z",
     "shell.execute_reply": "2021-04-29T10:28:07.016263Z"
    },
    "executionInfo": {
     "elapsed": 28319,
     "status": "ok",
     "timestamp": 1614936584997,
     "user": {
      "displayName": "giovanni buroni",
      "photoUrl": "https://lh3.googleusercontent.com/a-/AOh14GjarG9foST_wpJ_PfvHTR0iWGuChdFnmm4ong7n=s64",
      "userId": "06127736531396060751"
     },
     "user_tz": -60
    },
    "id": "c-ua6TRjshP3",
    "papermill": {
     "duration": 0.032636,
     "end_time": "2021-04-29T10:28:07.016800",
     "exception": false,
     "start_time": "2021-04-29T10:28:06.984164",
     "status": "completed"
    },
    "tags": []
   },
   "outputs": [],
   "source": [
    "# Training function\n",
    "@tf.function\n",
    "def train_on_batch(inputs, target, cov):\n",
    "    \n",
    "    loss = 0\n",
    "\n",
    "    with tf.GradientTape() as tape:\n",
    "        \n",
    "        predictions = model(inputs, adj_matrix, cov,  training=True)\n",
    "        \n",
    "        loss = loss_fn(target, predictions)\n",
    "\n",
    "    variables = model.trainable_variables \n",
    "\n",
    "    gradients = tape.gradient(loss, variables)\n",
    "\n",
    "    optimizer.apply_gradients(zip(gradients, variables))\n",
    "    \n",
    "    return loss"
   ]
  },
  {
   "cell_type": "code",
   "execution_count": 18,
   "metadata": {
    "execution": {
     "iopub.execute_input": "2021-04-29T10:28:07.069977Z",
     "iopub.status.busy": "2021-04-29T10:28:07.069230Z",
     "iopub.status.idle": "2021-04-29T10:52:21.339882Z",
     "shell.execute_reply": "2021-04-29T10:52:21.340326Z"
    },
    "executionInfo": {
     "elapsed": 2007092,
     "status": "ok",
     "timestamp": 1614938563784,
     "user": {
      "displayName": "giovanni buroni",
      "photoUrl": "https://lh3.googleusercontent.com/a-/AOh14GjarG9foST_wpJ_PfvHTR0iWGuChdFnmm4ong7n=s64",
      "userId": "06127736531396060751"
     },
     "user_tz": -60
    },
    "id": "mDbqw5X4shP3",
    "outputId": "736d8e35-78ff-4eca-e20c-60c06dd011e5",
    "papermill": {
     "duration": 1454.300522,
     "end_time": "2021-04-29T10:52:21.340514",
     "exception": false,
     "start_time": "2021-04-29T10:28:07.039992",
     "status": "completed"
    },
    "tags": []
   },
   "outputs": [
    {
     "name": "stdout",
     "output_type": "stream",
     "text": [
      "Epoch 0: Loss MAE: 0.063\n",
      "Epoch 10: Loss MAE: 0.047\n",
      "Epoch 20: Loss MAE: 0.046\n",
      "Epoch 30: Loss MAE: 0.045\n",
      "Epoch 40: Loss MAE: 0.045\n",
      "Epoch 50: Loss MAE: 0.045\n",
      "Epoch 60: Loss MAE: 0.045\n",
      "Epoch 70: Loss MAE: 0.045\n",
      "Epoch 80: Loss MAE: 0.045\n",
      "Epoch 90: Loss MAE: 0.045\n",
      "Epoch 100: Loss MAE: 0.045\n",
      "Epoch 110: Loss MAE: 0.045\n",
      "Epoch 120: Loss MAE: 0.044\n",
      "Epoch 130: Loss MAE: 0.044\n",
      "Epoch 140: Loss MAE: 0.044\n",
      "Time taken for 1 epoch 1454.2386956214905 sec\n",
      "\n"
     ]
    }
   ],
   "source": [
    "start = time.time()\n",
    "\n",
    "EPOCHS = 150\n",
    "\n",
    "# Keep results for plotting\n",
    "train_loss_results = []\n",
    "\n",
    "samples_cov = list(loader_tr_cov)\n",
    "\n",
    "for epoch in range(EPOCHS):\n",
    "\n",
    "    epoch_loss_avg = tf.keras.metrics.Mean()\n",
    "     \n",
    "    step = 0\n",
    "\n",
    "    for batch in loader_tr:\n",
    "\n",
    "        cov = samples_cov[step]\n",
    "        past_cov = cov[0]\n",
    "        fut_cov = cov[1]\n",
    "        \n",
    "        # Training step\n",
    "        inputs, target = batch\n",
    "        \n",
    "        loss = train_on_batch(inputs, target, past_cov)\n",
    "        \n",
    "        # Track progress\n",
    "        epoch_loss_avg.update_state(loss)\n",
    "\n",
    "        step+=1\n",
    "\n",
    "    # End epoch\n",
    "    train_loss_results.append(epoch_loss_avg.result())\n",
    "\n",
    "    if epoch % 10 == 0:\n",
    "            print(\"Epoch {}: Loss MAE: {:.3f}\".format(epoch, epoch_loss_avg.result()))\n",
    "        \n",
    "print('Time taken for 1 epoch {} sec\\n'.format(time.time() - start))"
   ]
  },
  {
   "cell_type": "code",
   "execution_count": 19,
   "metadata": {
    "execution": {
     "iopub.execute_input": "2021-04-29T10:52:21.403337Z",
     "iopub.status.busy": "2021-04-29T10:52:21.402524Z",
     "iopub.status.idle": "2021-04-29T10:52:21.657876Z",
     "shell.execute_reply": "2021-04-29T10:52:21.658326Z"
    },
    "executionInfo": {
     "elapsed": 2007696,
     "status": "ok",
     "timestamp": 1614938564403,
     "user": {
      "displayName": "giovanni buroni",
      "photoUrl": "https://lh3.googleusercontent.com/a-/AOh14GjarG9foST_wpJ_PfvHTR0iWGuChdFnmm4ong7n=s64",
      "userId": "06127736531396060751"
     },
     "user_tz": -60
    },
    "id": "igL4S8uAshP4",
    "outputId": "d6fc641f-f91b-4438-d392-e35e3ce034dd",
    "papermill": {
     "duration": 0.29077,
     "end_time": "2021-04-29T10:52:21.658484",
     "exception": false,
     "start_time": "2021-04-29T10:52:21.367714",
     "status": "completed"
    },
    "tags": []
   },
   "outputs": [
    {
     "data": {
      "image/png": "[encoded data removed]",
      "text/plain": [
       "<Figure size 864x576 with 1 Axes>"
      ]
     },
     "metadata": {
      "needs_background": "light"
     },
     "output_type": "display_data"
    }
   ],
   "source": [
    "fig, axes = plt.subplots(1, sharex=True, figsize=(12, 8))\n",
    "fig.suptitle('Training Metrics')\n",
    "\n",
    "axes.set_ylabel(\"Loss (MAE)\", fontsize=14)\n",
    "axes.plot(train_loss_results)\n",
    "axes.set_xlabel(\"Epoch\", fontsize=14)\n",
    "plt.show()"
   ]
  },
  {
   "cell_type": "code",
   "execution_count": 20,
   "metadata": {
    "execution": {
     "iopub.execute_input": "2021-04-29T10:52:21.726219Z",
     "iopub.status.busy": "2021-04-29T10:52:21.724457Z",
     "iopub.status.idle": "2021-04-29T10:52:21.727032Z",
     "shell.execute_reply": "2021-04-29T10:52:21.727428Z"
    },
    "executionInfo": {
     "elapsed": 2007695,
     "status": "ok",
     "timestamp": 1614938564404,
     "user": {
      "displayName": "giovanni buroni",
      "photoUrl": "https://lh3.googleusercontent.com/a-/AOh14GjarG9foST_wpJ_PfvHTR0iWGuChdFnmm4ong7n=s64",
      "userId": "06127736531396060751"
     },
     "user_tz": -60
    },
    "id": "5sPebFR-shP4",
    "papermill": {
     "duration": 0.037962,
     "end_time": "2021-04-29T10:52:21.727567",
     "exception": false,
     "start_time": "2021-04-29T10:52:21.689605",
     "status": "completed"
    },
    "tags": []
   },
   "outputs": [],
   "source": [
    "def inverse_transform(forecasts, scaler):\n",
    "    # invert scaling\n",
    "    inv_pred = scaler.inverse_transform(forecasts)\n",
    "    return inv_pred"
   ]
  },
  {
   "cell_type": "code",
   "execution_count": 21,
   "metadata": {
    "execution": {
     "iopub.execute_input": "2021-04-29T10:52:21.791487Z",
     "iopub.status.busy": "2021-04-29T10:52:21.790759Z",
     "iopub.status.idle": "2021-04-29T10:52:21.794460Z",
     "shell.execute_reply": "2021-04-29T10:52:21.794062Z"
    },
    "executionInfo": {
     "elapsed": 2007694,
     "status": "ok",
     "timestamp": 1614938564405,
     "user": {
      "displayName": "giovanni buroni",
      "photoUrl": "https://lh3.googleusercontent.com/a-/AOh14GjarG9foST_wpJ_PfvHTR0iWGuChdFnmm4ong7n=s64",
      "userId": "06127736531396060751"
     },
     "user_tz": -60
    },
    "id": "pHksYSD3GCkR",
    "papermill": {
     "duration": 0.038852,
     "end_time": "2021-04-29T10:52:21.794571",
     "exception": false,
     "start_time": "2021-04-29T10:52:21.755719",
     "status": "completed"
    },
    "tags": []
   },
   "outputs": [],
   "source": [
    "def evaluate_forecasts(targets, forecasts, n_seq):\n",
    "    \n",
    "    list_rmse = []\n",
    "    list_mae = []\n",
    "    \n",
    "    for i in range(n_seq):\n",
    "        true = np.vstack([target[i] for target in targets])\n",
    "        predicted = np.vstack([forecast[i] for forecast in forecasts])\n",
    "        \n",
    "        rmse = np.sqrt((np.square(true - predicted)).mean(axis=0))\n",
    "        mae = np.absolute(true - predicted).mean(axis=0)\n",
    "        \n",
    "        list_rmse.append(rmse)\n",
    "        list_mae.append(mae)\n",
    "        \n",
    "    list_rmse = np.vstack(list_rmse)\n",
    "    list_mae = np.vstack(list_mae)\n",
    "    \n",
    "    return list_rmse, list_mae"
   ]
  },
  {
   "cell_type": "code",
   "execution_count": 22,
   "metadata": {
    "execution": {
     "iopub.execute_input": "2021-04-29T10:52:21.860223Z",
     "iopub.status.busy": "2021-04-29T10:52:21.859559Z",
     "iopub.status.idle": "2021-04-29T11:25:13.045164Z",
     "shell.execute_reply": "2021-04-29T11:25:13.044093Z"
    },
    "executionInfo": {
     "elapsed": 2841446,
     "status": "ok",
     "timestamp": 1614939398171,
     "user": {
      "displayName": "giovanni buroni",
      "photoUrl": "https://lh3.googleusercontent.com/a-/AOh14GjarG9foST_wpJ_PfvHTR0iWGuChdFnmm4ong7n=s64",
      "userId": "06127736531396060751"
     },
     "user_tz": -60
    },
    "id": "-VfOJ2z9shP4",
    "outputId": "c0a37df7-e070-4e76-eadf-ad16c75c306c",
    "papermill": {
     "duration": 1971.221493,
     "end_time": "2021-04-29T11:25:13.045311",
     "exception": false,
     "start_time": "2021-04-29T10:52:21.823818",
     "status": "completed"
    },
    "tags": []
   },
   "outputs": [],
   "source": [
    "forecasts = []\n",
    "targets = []\n",
    "\n",
    "rmse_list = []\n",
    "mae_list = []\n",
    "\n",
    "samples_cov = list(loader_te_cov)\n",
    "\n",
    "del loader_te_cov, loader_tr, loader_tr_cov\n",
    "gc.collect()\n",
    "  \n",
    "for (step, (inp, targ)) in enumerate(loader_te):\n",
    "    \n",
    "        timestamp = print_datetime[step]\n",
    "\n",
    "        cov = samples_cov[step]\n",
    "        past_cov = cov[0]\n",
    "        fut_cov = cov[1]\n",
    "        \n",
    "        pred  = model(inp, adj_matrix, fut_cov, training=False)\n",
    "\n",
    "        truth = inverse_transform(targ[0],  scaler)\n",
    "        pred = inverse_transform(pred[0],  scaler)\n",
    "        \n",
    "        forecasts.append(pred)\n",
    "        targets.append(truth)\n",
    "\n",
    "        rmse, mae = evaluate_forecasts(targets, forecasts, 12)\n",
    "           \n",
    "        rmse_list.append(rmse)\n",
    "        mae_list.append(mae)\n",
    "        \n",
    "        del pred, truth, inp, targ, fut_cov, past_cov, timestamp, cov, rmse, mae\n",
    "        gc.collect()\n"
   ]
  },
  {
   "cell_type": "code",
   "execution_count": 23,
   "metadata": {
    "execution": {
     "iopub.execute_input": "2021-04-29T11:25:13.109567Z",
     "iopub.status.busy": "2021-04-29T11:25:13.108412Z",
     "iopub.status.idle": "2021-04-29T11:25:13.556504Z",
     "shell.execute_reply": "2021-04-29T11:25:13.556924Z"
    },
    "executionInfo": {
     "elapsed": 2842363,
     "status": "ok",
     "timestamp": 1614939399101,
     "user": {
      "displayName": "giovanni buroni",
      "photoUrl": "https://lh3.googleusercontent.com/a-/AOh14GjarG9foST_wpJ_PfvHTR0iWGuChdFnmm4ong7n=s64",
      "userId": "06127736531396060751"
     },
     "user_tz": -60
    },
    "id": "FcbFoft2A95Q",
    "outputId": "6bb99bde-4d83-4b6f-c9bf-7beb760bc41f",
    "papermill": {
     "duration": 0.481417,
     "end_time": "2021-04-29T11:25:13.557069",
     "exception": false,
     "start_time": "2021-04-29T11:25:13.075652",
     "status": "completed"
    },
    "tags": []
   },
   "outputs": [
    {
     "data": {
      "text/plain": [
       "4.915285393398395"
      ]
     },
     "execution_count": 23,
     "metadata": {},
     "output_type": "execute_result"
    }
   ],
   "source": [
    "np.mean(rmse_list)"
   ]
  },
  {
   "cell_type": "code",
   "execution_count": 24,
   "metadata": {
    "execution": {
     "iopub.execute_input": "2021-04-29T11:25:13.620285Z",
     "iopub.status.busy": "2021-04-29T11:25:13.619136Z",
     "iopub.status.idle": "2021-04-29T11:25:14.059333Z",
     "shell.execute_reply": "2021-04-29T11:25:14.059759Z"
    },
    "executionInfo": {
     "elapsed": 2842354,
     "status": "ok",
     "timestamp": 1614939399102,
     "user": {
      "displayName": "giovanni buroni",
      "photoUrl": "https://lh3.googleusercontent.com/a-/AOh14GjarG9foST_wpJ_PfvHTR0iWGuChdFnmm4ong7n=s64",
      "userId": "06127736531396060751"
     },
     "user_tz": -60
    },
    "id": "sB4n8CvNBF-n",
    "outputId": "dbfc64df-dc97-4c5c-b75e-e7de74c73143",
    "papermill": {
     "duration": 0.473665,
     "end_time": "2021-04-29T11:25:14.059924",
     "exception": false,
     "start_time": "2021-04-29T11:25:13.586259",
     "status": "completed"
    },
    "tags": []
   },
   "outputs": [
    {
     "data": {
      "text/plain": [
       "2.1954565310641128"
      ]
     },
     "execution_count": 24,
     "metadata": {},
     "output_type": "execute_result"
    }
   ],
   "source": [
    "np.mean(mae_list)"
   ]
  },
  {
   "cell_type": "code",
   "execution_count": 25,
   "metadata": {
    "execution": {
     "iopub.execute_input": "2021-04-29T11:25:14.127466Z",
     "iopub.status.busy": "2021-04-29T11:25:14.126288Z",
     "iopub.status.idle": "2021-04-29T11:25:16.007652Z",
     "shell.execute_reply": "2021-04-29T11:25:16.007214Z"
    },
    "executionInfo": {
     "elapsed": 2844298,
     "status": "ok",
     "timestamp": 1614939401058,
     "user": {
      "displayName": "giovanni buroni",
      "photoUrl": "https://lh3.googleusercontent.com/a-/AOh14GjarG9foST_wpJ_PfvHTR0iWGuChdFnmm4ong7n=s64",
      "userId": "06127736531396060751"
     },
     "user_tz": -60
    },
    "id": "gEWDqYTZGNnP",
    "outputId": "8e2131ea-7e50-47e1-a108-c0e82a27a1e0",
    "papermill": {
     "duration": 1.917787,
     "end_time": "2021-04-29T11:25:16.007783",
     "exception": false,
     "start_time": "2021-04-29T11:25:14.089996",
     "status": "completed"
    },
    "tags": []
   },
   "outputs": [
    {
     "name": "stdout",
     "output_type": "stream",
     "text": [
      "t+1 RMSE MEAN 4.885 +- 0.726\n",
      "\n",
      "t+2 RMSE MEAN 4.901 +- 0.734\n",
      "\n",
      "t+3 RMSE MEAN 4.908 +- 0.739\n",
      "\n",
      "t+4 RMSE MEAN 4.913 +- 0.75\n",
      "\n",
      "t+5 RMSE MEAN 4.917 +- 0.753\n",
      "\n",
      "t+6 RMSE MEAN 4.918 +- 0.75\n",
      "\n",
      "t+7 RMSE MEAN 4.923 +- 0.756\n",
      "\n",
      "t+8 RMSE MEAN 4.927 +- 0.762\n",
      "\n",
      "t+9 RMSE MEAN 4.926 +- 0.756\n",
      "\n",
      "t+10 RMSE MEAN 4.928 +- 0.764\n",
      "\n",
      "t+11 RMSE MEAN 4.924 +- 0.756\n",
      "\n",
      "t+12 RMSE MEAN 4.915 +- 0.749\n",
      "\n"
     ]
    }
   ],
   "source": [
    "RMSE_MEAN = np.mean(rmse_list,axis=0).mean(axis=1)\n",
    "RMSE_STD =  np.std(rmse_list,axis=0).std(axis=1)\n",
    "\n",
    "for i in range(len(RMSE_MEAN)):\n",
    "    print('t+'+str(i+1)+' RMSE MEAN ' +str(np.round(RMSE_MEAN[i],3))+' +- '+str(np.round(RMSE_STD[i],3)))\n",
    "    print('')"
   ]
  },
  {
   "cell_type": "code",
   "execution_count": 26,
   "metadata": {
    "execution": {
     "iopub.execute_input": "2021-04-29T11:25:16.075758Z",
     "iopub.status.busy": "2021-04-29T11:25:16.074611Z",
     "iopub.status.idle": "2021-04-29T11:25:17.715232Z",
     "shell.execute_reply": "2021-04-29T11:25:17.715634Z"
    },
    "executionInfo": {
     "elapsed": 2845430,
     "status": "ok",
     "timestamp": 1614939402201,
     "user": {
      "displayName": "giovanni buroni",
      "photoUrl": "https://lh3.googleusercontent.com/a-/AOh14GjarG9foST_wpJ_PfvHTR0iWGuChdFnmm4ong7n=s64",
      "userId": "06127736531396060751"
     },
     "user_tz": -60
    },
    "id": "fMgrD1upGQ2o",
    "outputId": "64b89645-e11c-41e4-9824-6e8ada92ff0d",
    "papermill": {
     "duration": 1.677082,
     "end_time": "2021-04-29T11:25:17.715788",
     "exception": false,
     "start_time": "2021-04-29T11:25:16.038706",
     "status": "completed"
    },
    "tags": []
   },
   "outputs": [
    {
     "name": "stdout",
     "output_type": "stream",
     "text": [
      "t+1 MAE MEAN 2.164 +- 0.595\n",
      "\n",
      "t+2 MAE MEAN 2.176 +- 0.614\n",
      "\n",
      "t+3 MAE MEAN 2.182 +- 0.627\n",
      "\n",
      "t+4 MAE MEAN 2.188 +- 0.648\n",
      "\n",
      "t+5 MAE MEAN 2.193 +- 0.662\n",
      "\n",
      "t+6 MAE MEAN 2.196 +- 0.663\n",
      "\n",
      "t+7 MAE MEAN 2.201 +- 0.672\n",
      "\n",
      "t+8 MAE MEAN 2.206 +- 0.683\n",
      "\n",
      "t+9 MAE MEAN 2.208 +- 0.678\n",
      "\n",
      "t+10 MAE MEAN 2.211 +- 0.692\n",
      "\n",
      "t+11 MAE MEAN 2.212 +- 0.682\n",
      "\n",
      "t+12 MAE MEAN 2.209 +- 0.669\n",
      "\n"
     ]
    }
   ],
   "source": [
    "MAE_MEAN = np.mean(mae_list,axis=0).mean(axis=1)\n",
    "MAE_STD =  np.std(mae_list,axis=0).std(axis=1)\n",
    "\n",
    "for i in range(len(MAE_MEAN)):\n",
    "    print('t+'+str(i+1)+' MAE MEAN ' +str(np.round(MAE_MEAN[i],3))+' +- '+str(np.round(MAE_STD[i],3)))\n",
    "    print('')"
   ]
  },
  {
   "cell_type": "code",
   "execution_count": 27,
   "metadata": {
    "execution": {
     "iopub.execute_input": "2021-04-29T11:25:17.784160Z",
     "iopub.status.busy": "2021-04-29T11:25:17.783245Z",
     "iopub.status.idle": "2021-04-29T11:26:04.172287Z",
     "shell.execute_reply": "2021-04-29T11:26:04.171232Z"
    },
    "executionInfo": {
     "elapsed": 2892711,
     "status": "ok",
     "timestamp": 1614939449493,
     "user": {
      "displayName": "giovanni buroni",
      "photoUrl": "https://lh3.googleusercontent.com/a-/AOh14GjarG9foST_wpJ_PfvHTR0iWGuChdFnmm4ong7n=s64",
      "userId": "06127736531396060751"
     },
     "user_tz": -60
    },
    "id": "LSqPZ8VwgdyA",
    "outputId": "8ff27c64-fa80-4f51-fe23-ee6232bcff03",
    "papermill": {
     "duration": 46.424855,
     "end_time": "2021-04-29T11:26:04.172425",
     "exception": false,
     "start_time": "2021-04-29T11:25:17.747570",
     "status": "completed"
    },
    "tags": []
   },
   "outputs": [],
   "source": [
    "with open('STL_GRU_RMSE.pkl', 'wb') as f:  \n",
    "    pickle.dump(rmse_list, f)\n",
    "\n",
    "with open('STL_GRU_MAE.pkl', 'wb') as f:  \n",
    "    pickle.dump(mae_list, f)\n",
    "\n",
    "with open('FORECAST_STL_GRU.pkl', 'wb') as f:  \n",
    "    pickle.dump([forecasts, targets], f)"
   ]
  }
 ],
 "metadata": {
  "kernelspec": {
   "display_name": "Python 3",
   "language": "python",
   "name": "python3"
  },
  "language_info": {
   "codemirror_mode": {
    "name": "ipython",
    "version": 3
   },
   "file_extension": ".py",
   "mimetype": "text/x-python",
   "name": "python",
   "nbconvert_exporter": "python",
   "pygments_lexer": "ipython3",
   "version": "3.7.9"
  },
  "papermill": {
   "default_parameters": {},
   "duration": 3536.95771,
   "end_time": "2021-04-29T11:26:11.670844",
   "environment_variables": {},
   "exception": null,
   "input_path": "__notebook__.ipynb",
   "output_path": "__notebook__.ipynb",
   "parameters": {},
   "start_time": "2021-04-29T10:27:14.713134",
   "version": "2.2.2"
  }
 },
 "nbformat": 4,
 "nbformat_minor": 4
}
