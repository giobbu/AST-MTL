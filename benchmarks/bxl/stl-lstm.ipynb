{
 "cells": [
  {
   "cell_type": "markdown",
   "metadata": {
    "id": "YIBknzfcshPu",
    "papermill": {
     "duration": 0.018373,
     "end_time": "2021-04-29T10:32:43.618392",
     "exception": false,
     "start_time": "2021-04-29T10:32:43.600019",
     "status": "completed"
    },
    "tags": []
   },
   "source": [
    "## General Import"
   ]
  },
  {
   "cell_type": "code",
   "execution_count": 1,
   "metadata": {
    "execution": {
     "iopub.execute_input": "2021-04-29T10:32:43.658106Z",
     "iopub.status.busy": "2021-04-29T10:32:43.657457Z",
     "iopub.status.idle": "2021-04-29T10:32:51.987867Z",
     "shell.execute_reply": "2021-04-29T10:32:51.987236Z"
    },
    "papermill": {
     "duration": 8.352439,
     "end_time": "2021-04-29T10:32:51.988059",
     "exception": false,
     "start_time": "2021-04-29T10:32:43.635620",
     "status": "completed"
    },
    "tags": []
   },
   "outputs": [
    {
     "name": "stdout",
     "output_type": "stream",
     "text": [
      "Collecting spektral\r\n",
      "  Downloading spektral-1.0.6-py3-none-any.whl (114 kB)\r\n",
      "\u001b[K     |████████████████████████████████| 114 kB 2.8 MB/s \r\n",
      "\u001b[?25hRequirement already satisfied: joblib in /opt/conda/lib/python3.7/site-packages (from spektral) (1.0.0)\r\n",
      "Requirement already satisfied: tensorflow>=2.1.0 in /opt/conda/lib/python3.7/site-packages (from spektral) (2.4.1)\r\n",
      "Requirement already satisfied: lxml in /opt/conda/lib/python3.7/site-packages (from spektral) (4.6.2)\r\n",
      "Requirement already satisfied: networkx in /opt/conda/lib/python3.7/site-packages (from spektral) (2.5)\r\n",
      "Requirement already satisfied: requests in /opt/conda/lib/python3.7/site-packages (from spektral) (2.25.1)\r\n",
      "Requirement already satisfied: scipy in /opt/conda/lib/python3.7/site-packages (from spektral) (1.5.4)\r\n",
      "Requirement already satisfied: numpy in /opt/conda/lib/python3.7/site-packages (from spektral) (1.19.5)\r\n",
      "Requirement already satisfied: scikit-learn in /opt/conda/lib/python3.7/site-packages (from spektral) (0.24.1)\r\n",
      "Requirement already satisfied: tqdm in /opt/conda/lib/python3.7/site-packages (from spektral) (4.55.1)\r\n",
      "Requirement already satisfied: pandas in /opt/conda/lib/python3.7/site-packages (from spektral) (1.1.5)\r\n",
      "Requirement already satisfied: absl-py~=0.10 in /opt/conda/lib/python3.7/site-packages (from tensorflow>=2.1.0->spektral) (0.10.0)\r\n",
      "Requirement already satisfied: google-pasta~=0.2 in /opt/conda/lib/python3.7/site-packages (from tensorflow>=2.1.0->spektral) (0.2.0)\r\n",
      "Requirement already satisfied: six~=1.15.0 in /opt/conda/lib/python3.7/site-packages (from tensorflow>=2.1.0->spektral) (1.15.0)\r\n",
      "Requirement already satisfied: typing-extensions~=3.7.4 in /opt/conda/lib/python3.7/site-packages (from tensorflow>=2.1.0->spektral) (3.7.4.3)\r\n",
      "Requirement already satisfied: wheel~=0.35 in /opt/conda/lib/python3.7/site-packages (from tensorflow>=2.1.0->spektral) (0.36.2)\r\n",
      "Requirement already satisfied: tensorboard~=2.4 in /opt/conda/lib/python3.7/site-packages (from tensorflow>=2.1.0->spektral) (2.4.1)\r\n",
      "Requirement already satisfied: protobuf>=3.9.2 in /opt/conda/lib/python3.7/site-packages (from tensorflow>=2.1.0->spektral) (3.14.0)\r\n",
      "Requirement already satisfied: opt-einsum~=3.3.0 in /opt/conda/lib/python3.7/site-packages (from tensorflow>=2.1.0->spektral) (3.3.0)\r\n",
      "Requirement already satisfied: astunparse~=1.6.3 in /opt/conda/lib/python3.7/site-packages (from tensorflow>=2.1.0->spektral) (1.6.3)\r\n",
      "Requirement already satisfied: wrapt~=1.12.1 in /opt/conda/lib/python3.7/site-packages (from tensorflow>=2.1.0->spektral) (1.12.1)\r\n",
      "Requirement already satisfied: tensorflow-estimator<2.5.0,>=2.4.0 in /opt/conda/lib/python3.7/site-packages (from tensorflow>=2.1.0->spektral) (2.4.0)\r\n",
      "Requirement already satisfied: h5py~=2.10.0 in /opt/conda/lib/python3.7/site-packages (from tensorflow>=2.1.0->spektral) (2.10.0)\r\n",
      "Requirement already satisfied: gast==0.3.3 in /opt/conda/lib/python3.7/site-packages (from tensorflow>=2.1.0->spektral) (0.3.3)\r\n",
      "Requirement already satisfied: grpcio~=1.32.0 in /opt/conda/lib/python3.7/site-packages (from tensorflow>=2.1.0->spektral) (1.32.0)\r\n",
      "Requirement already satisfied: flatbuffers~=1.12.0 in /opt/conda/lib/python3.7/site-packages (from tensorflow>=2.1.0->spektral) (1.12)\r\n",
      "Requirement already satisfied: keras-preprocessing~=1.1.2 in /opt/conda/lib/python3.7/site-packages (from tensorflow>=2.1.0->spektral) (1.1.2)\r\n",
      "Requirement already satisfied: termcolor~=1.1.0 in /opt/conda/lib/python3.7/site-packages (from tensorflow>=2.1.0->spektral) (1.1.0)\r\n",
      "Requirement already satisfied: markdown>=2.6.8 in /opt/conda/lib/python3.7/site-packages (from tensorboard~=2.4->tensorflow>=2.1.0->spektral) (3.3.3)\r\n",
      "Requirement already satisfied: setuptools>=41.0.0 in /opt/conda/lib/python3.7/site-packages (from tensorboard~=2.4->tensorflow>=2.1.0->spektral) (49.6.0.post20201009)\r\n",
      "Requirement already satisfied: werkzeug>=0.11.15 in /opt/conda/lib/python3.7/site-packages (from tensorboard~=2.4->tensorflow>=2.1.0->spektral) (1.0.1)\r\n",
      "Requirement already satisfied: tensorboard-plugin-wit>=1.6.0 in /opt/conda/lib/python3.7/site-packages (from tensorboard~=2.4->tensorflow>=2.1.0->spektral) (1.8.0)\r\n",
      "Requirement already satisfied: google-auth<2,>=1.6.3 in /opt/conda/lib/python3.7/site-packages (from tensorboard~=2.4->tensorflow>=2.1.0->spektral) (1.24.0)\r\n",
      "Requirement already satisfied: google-auth-oauthlib<0.5,>=0.4.1 in /opt/conda/lib/python3.7/site-packages (from tensorboard~=2.4->tensorflow>=2.1.0->spektral) (0.4.2)\r\n",
      "Requirement already satisfied: pyasn1-modules>=0.2.1 in /opt/conda/lib/python3.7/site-packages (from google-auth<2,>=1.6.3->tensorboard~=2.4->tensorflow>=2.1.0->spektral) (0.2.7)\r\n",
      "Requirement already satisfied: cachetools<5.0,>=2.0.0 in /opt/conda/lib/python3.7/site-packages (from google-auth<2,>=1.6.3->tensorboard~=2.4->tensorflow>=2.1.0->spektral) (4.1.1)\r\n",
      "Requirement already satisfied: rsa<5,>=3.1.4 in /opt/conda/lib/python3.7/site-packages (from google-auth<2,>=1.6.3->tensorboard~=2.4->tensorflow>=2.1.0->spektral) (4.6)\r\n",
      "Requirement already satisfied: requests-oauthlib>=0.7.0 in /opt/conda/lib/python3.7/site-packages (from google-auth-oauthlib<0.5,>=0.4.1->tensorboard~=2.4->tensorflow>=2.1.0->spektral) (1.3.0)\r\n",
      "Requirement already satisfied: importlib-metadata in /opt/conda/lib/python3.7/site-packages (from markdown>=2.6.8->tensorboard~=2.4->tensorflow>=2.1.0->spektral) (3.3.0)\r\n",
      "Requirement already satisfied: pyasn1<0.5.0,>=0.4.6 in /opt/conda/lib/python3.7/site-packages (from pyasn1-modules>=0.2.1->google-auth<2,>=1.6.3->tensorboard~=2.4->tensorflow>=2.1.0->spektral) (0.4.8)\r\n",
      "Requirement already satisfied: chardet<5,>=3.0.2 in /opt/conda/lib/python3.7/site-packages (from requests->spektral) (3.0.4)\r\n",
      "Requirement already satisfied: certifi>=2017.4.17 in /opt/conda/lib/python3.7/site-packages (from requests->spektral) (2020.12.5)\r\n",
      "Requirement already satisfied: urllib3<1.27,>=1.21.1 in /opt/conda/lib/python3.7/site-packages (from requests->spektral) (1.26.2)\r\n",
      "Requirement already satisfied: idna<3,>=2.5 in /opt/conda/lib/python3.7/site-packages (from requests->spektral) (2.10)\r\n",
      "Requirement already satisfied: oauthlib>=3.0.0 in /opt/conda/lib/python3.7/site-packages (from requests-oauthlib>=0.7.0->google-auth-oauthlib<0.5,>=0.4.1->tensorboard~=2.4->tensorflow>=2.1.0->spektral) (3.0.1)\r\n",
      "Requirement already satisfied: zipp>=0.5 in /opt/conda/lib/python3.7/site-packages (from importlib-metadata->markdown>=2.6.8->tensorboard~=2.4->tensorflow>=2.1.0->spektral) (3.4.0)\r\n",
      "Requirement already satisfied: decorator>=4.3.0 in /opt/conda/lib/python3.7/site-packages (from networkx->spektral) (4.4.2)\r\n",
      "Requirement already satisfied: python-dateutil>=2.7.3 in /opt/conda/lib/python3.7/site-packages (from pandas->spektral) (2.8.1)\r\n",
      "Requirement already satisfied: pytz>=2017.2 in /opt/conda/lib/python3.7/site-packages (from pandas->spektral) (2020.5)\r\n",
      "Requirement already satisfied: threadpoolctl>=2.0.0 in /opt/conda/lib/python3.7/site-packages (from scikit-learn->spektral) (2.1.0)\r\n",
      "Installing collected packages: spektral\r\n",
      "Successfully installed spektral-1.0.6\r\n",
      "\u001b[33mWARNING: You are using pip version 21.0.1; however, version 21.1 is available.\r\n",
      "You should consider upgrading via the '/opt/conda/bin/python3.7 -m pip install --upgrade pip' command.\u001b[0m\r\n"
     ]
    }
   ],
   "source": [
    "!pip install spektral"
   ]
  },
  {
   "cell_type": "code",
   "execution_count": 2,
   "metadata": {
    "execution": {
     "iopub.execute_input": "2021-04-29T10:32:52.049424Z",
     "iopub.status.busy": "2021-04-29T10:32:52.048570Z",
     "iopub.status.idle": "2021-04-29T10:33:00.803874Z",
     "shell.execute_reply": "2021-04-29T10:33:00.802894Z"
    },
    "executionInfo": {
     "elapsed": 4690,
     "status": "ok",
     "timestamp": 1614785816180,
     "user": {
      "displayName": "giovanni buroni",
      "photoUrl": "https://lh3.googleusercontent.com/a-/AOh14GjarG9foST_wpJ_PfvHTR0iWGuChdFnmm4ong7n=s64",
      "userId": "06127736531396060751"
     },
     "user_tz": -60
    },
    "id": "m7nfSj_GshPw",
    "papermill": {
     "duration": 8.793816,
     "end_time": "2021-04-29T10:33:00.804014",
     "exception": false,
     "start_time": "2021-04-29T10:32:52.010198",
     "status": "completed"
    },
    "tags": []
   },
   "outputs": [],
   "source": [
    "from mpl_toolkits.mplot3d import Axes3D\n",
    "from sklearn.preprocessing import StandardScaler\n",
    "import matplotlib.pyplot as plt # plotting\n",
    "import numpy as np # linear algebra\n",
    "import os # accessing directory structure\n",
    "import pandas as pd # data processing, CSV file I/O (e.g. pd.read_csv)\n",
    "import tensorflow as tf\n",
    "\n",
    "from sklearn.preprocessing import MinMaxScaler\n",
    "\n",
    "import gc\n",
    "import time\n",
    "import seaborn as sns; sns.set()\n",
    "\n",
    "import os \n",
    "# Disable warnings, set Matplotlib inline plotting and load Pandas package\n",
    "import warnings\n",
    "warnings.filterwarnings('ignore')\n",
    "import pandas as pd\n",
    "import numpy as np\n",
    "#pd.options.display.mpl_style = 'default'\n",
    "from datetime import datetime\n",
    "import numpy as np\n",
    "from datetime import datetime, timedelta\n",
    "from pytz import timezone\n",
    "from dateutil import tz\n",
    "import geojson\n",
    "import geopandas as gpd\n",
    "from fiona.crs import from_epsg\n",
    "import os, json\n",
    "from shapely.geometry import shape, Point, Polygon, MultiPoint\n",
    "%matplotlib inline\n",
    "import matplotlib.pyplot as plt\n",
    "from geopandas.tools import sjoin\n",
    "\n",
    "import matplotlib.cm as cm\n",
    "\n",
    "import folium\n",
    "import shapely.geometry\n",
    "\n",
    "from branca.colormap import  linear\n",
    "import json\n",
    "import branca.colormap as cm\n",
    "import matplotlib.colors as colors\n",
    "%matplotlib inline\n",
    "\n",
    "import networkx as nx\n",
    "import pickle\n",
    "\n",
    "import osmnx as ox\n",
    "ox.config(log_console=True, use_cache=True)\n",
    "ox.__version__\n",
    "\n",
    "import matplotlib.colors as mcolors\n"
   ]
  },
  {
   "cell_type": "code",
   "execution_count": 3,
   "metadata": {
    "execution": {
     "iopub.execute_input": "2021-04-29T10:33:00.857002Z",
     "iopub.status.busy": "2021-04-29T10:33:00.856177Z",
     "iopub.status.idle": "2021-04-29T10:33:00.902278Z",
     "shell.execute_reply": "2021-04-29T10:33:00.901782Z"
    },
    "executionInfo": {
     "elapsed": 4688,
     "status": "ok",
     "timestamp": 1614785816181,
     "user": {
      "displayName": "giovanni buroni",
      "photoUrl": "https://lh3.googleusercontent.com/a-/AOh14GjarG9foST_wpJ_PfvHTR0iWGuChdFnmm4ong7n=s64",
      "userId": "06127736531396060751"
     },
     "user_tz": -60
    },
    "id": "b275b4IDshPx",
    "papermill": {
     "duration": 0.076216,
     "end_time": "2021-04-29T10:33:00.902392",
     "exception": false,
     "start_time": "2021-04-29T10:33:00.826176",
     "status": "completed"
    },
    "tags": []
   },
   "outputs": [],
   "source": [
    "import tensorflow as tf\n",
    "from tensorflow.keras import Model\n",
    "from spektral.layers import GCNConv,  DiffusionConv, GATConv, GCSConv, GeneralConv, GlobalAvgPool\n",
    "from tensorflow.keras.regularizers import l2\n",
    "from tensorflow.keras.layers import Dense, Flatten\n",
    "from tensorflow.keras.losses import SparseCategoricalCrossentropy\n",
    "from tensorflow.keras.metrics import SparseCategoricalAccuracy\n",
    "from tensorflow.keras.optimizers import Adam\n",
    "from tensorflow.keras import regularizers"
   ]
  },
  {
   "cell_type": "code",
   "execution_count": 4,
   "metadata": {
    "execution": {
     "iopub.execute_input": "2021-04-29T10:33:00.950303Z",
     "iopub.status.busy": "2021-04-29T10:33:00.949807Z",
     "iopub.status.idle": "2021-04-29T10:33:22.584118Z",
     "shell.execute_reply": "2021-04-29T10:33:22.583331Z"
    },
    "executionInfo": {
     "elapsed": 22771,
     "status": "ok",
     "timestamp": 1614785834265,
     "user": {
      "displayName": "giovanni buroni",
      "photoUrl": "https://lh3.googleusercontent.com/a-/AOh14GjarG9foST_wpJ_PfvHTR0iWGuChdFnmm4ong7n=s64",
      "userId": "06127736531396060751"
     },
     "user_tz": -60
    },
    "id": "hmokpg02shPy",
    "papermill": {
     "duration": 21.660627,
     "end_time": "2021-04-29T10:33:22.584266",
     "exception": false,
     "start_time": "2021-04-29T10:33:00.923639",
     "status": "completed"
    },
    "tags": []
   },
   "outputs": [],
   "source": [
    "path_graph = '../input/graph-results/graph_adj_bxl.pkl'\n",
    "\n",
    "path_feat_flow = '../input/graph-results/FEATURES_flow_bxl.csv'\n",
    "path_feat_vel = '../input/graph-results/FEATURES_vel_bxl.csv'\n",
    "\n",
    "with open(path_graph,'rb') as f:\n",
    "    graph, adj_matrix, edges, G = pickle.load(f)\n",
    "\n",
    "adj_mx = nx.to_numpy_matrix(graph)\n",
    "\n",
    "# flow\n",
    "features_flow = pd.read_csv(path_feat_flow).iloc[:,1:].values\n",
    "# vel\n",
    "features_vel = pd.read_csv(path_feat_vel).iloc[:,1:].values"
   ]
  },
  {
   "cell_type": "code",
   "execution_count": 5,
   "metadata": {
    "execution": {
     "iopub.execute_input": "2021-04-29T10:33:22.631788Z",
     "iopub.status.busy": "2021-04-29T10:33:22.630071Z",
     "iopub.status.idle": "2021-04-29T10:33:22.632425Z",
     "shell.execute_reply": "2021-04-29T10:33:22.632839Z"
    },
    "executionInfo": {
     "elapsed": 22739,
     "status": "ok",
     "timestamp": 1614785834267,
     "user": {
      "displayName": "giovanni buroni",
      "photoUrl": "https://lh3.googleusercontent.com/a-/AOh14GjarG9foST_wpJ_PfvHTR0iWGuChdFnmm4ong7n=s64",
      "userId": "06127736531396060751"
     },
     "user_tz": -60
    },
    "id": "ZHtO7pnnxPQG",
    "papermill": {
     "duration": 0.027431,
     "end_time": "2021-04-29T10:33:22.632963",
     "exception": false,
     "start_time": "2021-04-29T10:33:22.605532",
     "status": "completed"
    },
    "tags": []
   },
   "outputs": [],
   "source": [
    "# PARAMETERS"
   ]
  },
  {
   "cell_type": "code",
   "execution_count": 6,
   "metadata": {
    "execution": {
     "iopub.execute_input": "2021-04-29T10:33:22.679923Z",
     "iopub.status.busy": "2021-04-29T10:33:22.678463Z",
     "iopub.status.idle": "2021-04-29T10:33:22.681339Z",
     "shell.execute_reply": "2021-04-29T10:33:22.681840Z"
    },
    "executionInfo": {
     "elapsed": 22736,
     "status": "ok",
     "timestamp": 1614785834267,
     "user": {
      "displayName": "giovanni buroni",
      "photoUrl": "https://lh3.googleusercontent.com/a-/AOh14GjarG9foST_wpJ_PfvHTR0iWGuChdFnmm4ong7n=s64",
      "userId": "06127736531396060751"
     },
     "user_tz": -60
    },
    "id": "sduHFHSexOTP",
    "papermill": {
     "duration": 0.028126,
     "end_time": "2021-04-29T10:33:22.681987",
     "exception": false,
     "start_time": "2021-04-29T10:33:22.653861",
     "status": "completed"
    },
    "tags": []
   },
   "outputs": [],
   "source": [
    "inputs = 12\n",
    "\n",
    "granularity = 2*2\n",
    "batch_train = 128 # best 32\n",
    "batch_test = 1"
   ]
  },
  {
   "cell_type": "markdown",
   "metadata": {
    "id": "8UvuJcrvshP0",
    "papermill": {
     "duration": 0.020976,
     "end_time": "2021-04-29T10:33:22.724860",
     "exception": false,
     "start_time": "2021-04-29T10:33:22.703884",
     "status": "completed"
    },
    "tags": []
   },
   "source": [
    "## split train/val/test"
   ]
  },
  {
   "cell_type": "code",
   "execution_count": 7,
   "metadata": {
    "execution": {
     "iopub.execute_input": "2021-04-29T10:33:23.427317Z",
     "iopub.status.busy": "2021-04-29T10:33:23.426462Z",
     "iopub.status.idle": "2021-04-29T10:33:23.430587Z",
     "shell.execute_reply": "2021-04-29T10:33:23.429691Z"
    },
    "executionInfo": {
     "elapsed": 22978,
     "status": "ok",
     "timestamp": 1614785834511,
     "user": {
      "displayName": "giovanni buroni",
      "photoUrl": "https://lh3.googleusercontent.com/a-/AOh14GjarG9foST_wpJ_PfvHTR0iWGuChdFnmm4ong7n=s64",
      "userId": "06127736531396060751"
     },
     "user_tz": -60
    },
    "id": "nd6kl3lOmOth",
    "papermill": {
     "duration": 0.684109,
     "end_time": "2021-04-29T10:33:23.430718",
     "exception": false,
     "start_time": "2021-04-29T10:33:22.746609",
     "status": "completed"
    },
    "tags": []
   },
   "outputs": [],
   "source": [
    "data_flow = features_flow[:, :-1]\n",
    "data_vel = features_vel[:, :-1]\n",
    "\n",
    "data = np.concatenate([data_flow, data_vel], axis=1)"
   ]
  },
  {
   "cell_type": "code",
   "execution_count": 8,
   "metadata": {
    "execution": {
     "iopub.execute_input": "2021-04-29T10:33:23.481152Z",
     "iopub.status.busy": "2021-04-29T10:33:23.480294Z",
     "iopub.status.idle": "2021-04-29T10:33:23.483765Z",
     "shell.execute_reply": "2021-04-29T10:33:23.484212Z"
    },
    "executionInfo": {
     "elapsed": 22968,
     "status": "ok",
     "timestamp": 1614785834512,
     "user": {
      "displayName": "giovanni buroni",
      "photoUrl": "https://lh3.googleusercontent.com/a-/AOh14GjarG9foST_wpJ_PfvHTR0iWGuChdFnmm4ong7n=s64",
      "userId": "06127736531396060751"
     },
     "user_tz": -60
    },
    "id": "FzAuBHy0mdO5",
    "outputId": "4129a03d-4f52-46ee-9c77-660a8014268c",
    "papermill": {
     "duration": 0.031417,
     "end_time": "2021-04-29T10:33:23.484341",
     "exception": false,
     "start_time": "2021-04-29T10:33:23.452924",
     "status": "completed"
    },
    "tags": []
   },
   "outputs": [
    {
     "data": {
      "text/plain": [
       "(5664, 9048)"
      ]
     },
     "execution_count": 8,
     "metadata": {},
     "output_type": "execute_result"
    }
   ],
   "source": [
    "data.shape"
   ]
  },
  {
   "cell_type": "code",
   "execution_count": 9,
   "metadata": {
    "execution": {
     "iopub.execute_input": "2021-04-29T10:33:23.532742Z",
     "iopub.status.busy": "2021-04-29T10:33:23.532096Z",
     "iopub.status.idle": "2021-04-29T10:33:23.535159Z",
     "shell.execute_reply": "2021-04-29T10:33:23.534720Z"
    },
    "executionInfo": {
     "elapsed": 22967,
     "status": "ok",
     "timestamp": 1614785834513,
     "user": {
      "displayName": "giovanni buroni",
      "photoUrl": "https://lh3.googleusercontent.com/a-/AOh14GjarG9foST_wpJ_PfvHTR0iWGuChdFnmm4ong7n=s64",
      "userId": "06127736531396060751"
     },
     "user_tz": -60
    },
    "id": "GqWVkLFlshP0",
    "papermill": {
     "duration": 0.028799,
     "end_time": "2021-04-29T10:33:23.535277",
     "exception": false,
     "start_time": "2021-04-29T10:33:23.506478",
     "status": "completed"
    },
    "tags": []
   },
   "outputs": [],
   "source": [
    "\n",
    "# Train/test split\n",
    "data_tr, data_te = data[:-168*2*granularity, :], data[-168*2*granularity:, :]\n"
   ]
  },
  {
   "cell_type": "code",
   "execution_count": 10,
   "metadata": {
    "execution": {
     "iopub.execute_input": "2021-04-29T10:33:23.583181Z",
     "iopub.status.busy": "2021-04-29T10:33:23.581868Z",
     "iopub.status.idle": "2021-04-29T10:33:23.584819Z",
     "shell.execute_reply": "2021-04-29T10:33:23.584316Z"
    },
    "executionInfo": {
     "elapsed": 22964,
     "status": "ok",
     "timestamp": 1614785834513,
     "user": {
      "displayName": "giovanni buroni",
      "photoUrl": "https://lh3.googleusercontent.com/a-/AOh14GjarG9foST_wpJ_PfvHTR0iWGuChdFnmm4ong7n=s64",
      "userId": "06127736531396060751"
     },
     "user_tz": -60
    },
    "id": "BcOJcaqSvih_",
    "papermill": {
     "duration": 0.028045,
     "end_time": "2021-04-29T10:33:23.584922",
     "exception": false,
     "start_time": "2021-04-29T10:33:23.556877",
     "status": "completed"
    },
    "tags": []
   },
   "outputs": [],
   "source": [
    "# Covariates"
   ]
  },
  {
   "cell_type": "code",
   "execution_count": 11,
   "metadata": {
    "execution": {
     "iopub.execute_input": "2021-04-29T10:33:23.644079Z",
     "iopub.status.busy": "2021-04-29T10:33:23.636612Z",
     "iopub.status.idle": "2021-04-29T10:33:23.680333Z",
     "shell.execute_reply": "2021-04-29T10:33:23.680853Z"
    },
    "executionInfo": {
     "elapsed": 22962,
     "status": "ok",
     "timestamp": 1614785834513,
     "user": {
      "displayName": "giovanni buroni",
      "photoUrl": "https://lh3.googleusercontent.com/a-/AOh14GjarG9foST_wpJ_PfvHTR0iWGuChdFnmm4ong7n=s64",
      "userId": "06127736531396060751"
     },
     "user_tz": -60
    },
    "id": "5GB9RXbYsoga",
    "papermill": {
     "duration": 0.074311,
     "end_time": "2021-04-29T10:33:23.681000",
     "exception": false,
     "start_time": "2021-04-29T10:33:23.606689",
     "status": "completed"
    },
    "tags": []
   },
   "outputs": [],
   "source": [
    "datetime = features_flow[:, -1]\n",
    "\n",
    "# for figures\n",
    "print_datetime = datetime[-168*2*granularity+inputs:]\n",
    "\n",
    "DATETIME = pd.DataFrame(datetime, columns=['Datetime'])\n",
    "DATETIME['Datetime'] = pd.to_datetime(DATETIME['Datetime'])\n",
    "\n",
    "DATETIME['minutes'] = DATETIME['Datetime'].dt.minute\n",
    "DATETIME['hour'] = DATETIME['Datetime'].dt.hour\n",
    "\n",
    "DATETIME['hour_x']=np.sin(DATETIME.hour*(2.*np.pi/23))\n",
    "DATETIME['hour_y']=np.cos(DATETIME.hour*(2.*np.pi/23))\n",
    "\n",
    "DATETIME['day'] = DATETIME['Datetime'].dt.day\n",
    "DATETIME['DayOfWeek'] = DATETIME['Datetime'].dt.dayofweek\n",
    "\n",
    "DATETIME['WorkingDays'] = DATETIME['DayOfWeek'].apply(lambda y: 2 if y < 5 else y)\n",
    "DATETIME['WorkingDays'] = DATETIME['WorkingDays'].apply(lambda y: 1 if y == 5 else y)\n",
    "DATETIME['WorkingDays'] = DATETIME['WorkingDays'].apply(lambda y: 0 if y == 6 else y)\n",
    "\n",
    "DATETIME = DATETIME.drop(['Datetime','minutes','hour','day'], axis=1).values\n",
    "\n",
    "# temporal features = 4\n",
    "feat_time = 4\n",
    "\n",
    "# datetime Train/test split\n",
    "time_tr, time_te = DATETIME[:-168*2*granularity, :], DATETIME[-168*2*granularity:, :]\n",
    "\n"
   ]
  },
  {
   "cell_type": "markdown",
   "metadata": {
    "id": "rnkgB_FYshP0",
    "papermill": {
     "duration": 0.022138,
     "end_time": "2021-04-29T10:33:23.726048",
     "exception": false,
     "start_time": "2021-04-29T10:33:23.703910",
     "status": "completed"
    },
    "tags": []
   },
   "source": [
    "## scale data"
   ]
  },
  {
   "cell_type": "code",
   "execution_count": 12,
   "metadata": {
    "execution": {
     "iopub.execute_input": "2021-04-29T10:33:25.646180Z",
     "iopub.status.busy": "2021-04-29T10:33:25.645103Z",
     "iopub.status.idle": "2021-04-29T10:33:28.376359Z",
     "shell.execute_reply": "2021-04-29T10:33:28.376804Z"
    },
    "executionInfo": {
     "elapsed": 24131,
     "status": "ok",
     "timestamp": 1614785835684,
     "user": {
      "displayName": "giovanni buroni",
      "photoUrl": "https://lh3.googleusercontent.com/a-/AOh14GjarG9foST_wpJ_PfvHTR0iWGuChdFnmm4ong7n=s64",
      "userId": "06127736531396060751"
     },
     "user_tz": -60
    },
    "id": "RjIvQ0QgshP1",
    "papermill": {
     "duration": 4.628762,
     "end_time": "2021-04-29T10:33:28.376974",
     "exception": false,
     "start_time": "2021-04-29T10:33:23.748212",
     "status": "completed"
    },
    "tags": []
   },
   "outputs": [],
   "source": [
    "scaler = MinMaxScaler(feature_range=(0, 1))\n",
    "scaler_cov = MinMaxScaler(feature_range=(0, 1))\n",
    "\n",
    "# fit and transform\n",
    "scaled_tr = scaler.fit_transform(data_tr)\n",
    "# transform\n",
    "scaled_te = scaler.transform(data_te)\n",
    "\n",
    "# fit and transform\n",
    "scaled_tr_cov = scaler_cov.fit_transform(time_tr)\n",
    "# transform\n",
    "scaled_te_cov = scaler_cov.transform(time_te)"
   ]
  },
  {
   "cell_type": "markdown",
   "metadata": {
    "id": "nsmXb48sshP1",
    "papermill": {
     "duration": 0.023281,
     "end_time": "2021-04-29T10:33:28.424903",
     "exception": false,
     "start_time": "2021-04-29T10:33:28.401622",
     "status": "completed"
    },
    "tags": []
   },
   "source": [
    "## prepare data for deep learning"
   ]
  },
  {
   "cell_type": "code",
   "execution_count": 13,
   "metadata": {
    "execution": {
     "iopub.execute_input": "2021-04-29T10:33:28.479202Z",
     "iopub.status.busy": "2021-04-29T10:33:28.478399Z",
     "iopub.status.idle": "2021-04-29T10:33:28.481000Z",
     "shell.execute_reply": "2021-04-29T10:33:28.481489Z"
    },
    "executionInfo": {
     "elapsed": 24364,
     "status": "ok",
     "timestamp": 1614785835919,
     "user": {
      "displayName": "giovanni buroni",
      "photoUrl": "https://lh3.googleusercontent.com/a-/AOh14GjarG9foST_wpJ_PfvHTR0iWGuChdFnmm4ong7n=s64",
      "userId": "06127736531396060751"
     },
     "user_tz": -60
    },
    "id": "sQiniFq0shP2",
    "papermill": {
     "duration": 0.034093,
     "end_time": "2021-04-29T10:33:28.481639",
     "exception": false,
     "start_time": "2021-04-29T10:33:28.447546",
     "status": "completed"
    },
    "tags": []
   },
   "outputs": [],
   "source": [
    "def prepare_data_DL(INPUT, FEAT, BATCH):\n",
    "    \n",
    "    dataset = FEAT.reshape(FEAT.shape[0], FEAT.shape[1]) \n",
    "    dataset = tf.data.Dataset.from_tensor_slices(dataset)\n",
    "\n",
    "    inputs = dataset.window(INPUT,  shift=1,  stride=1,  drop_remainder=True)\n",
    "    inputs = inputs.flat_map(lambda window: window.batch(INPUT))\n",
    "\n",
    "    targets = dataset.window(INPUT, shift=1,  stride=1,  drop_remainder=True).skip(INPUT)\n",
    "    targets = targets.flat_map(lambda window: window.batch(INPUT))\n",
    "\n",
    "    dataset = tf.data.Dataset.zip((inputs, targets))\n",
    "    dataset = dataset.batch(BATCH).prefetch(tf.data.experimental.AUTOTUNE)\n",
    "\n",
    "\n",
    "    return dataset"
   ]
  },
  {
   "cell_type": "code",
   "execution_count": 14,
   "metadata": {
    "execution": {
     "iopub.execute_input": "2021-04-29T10:33:29.648485Z",
     "iopub.status.busy": "2021-04-29T10:33:29.647699Z",
     "iopub.status.idle": "2021-04-29T10:33:32.292134Z",
     "shell.execute_reply": "2021-04-29T10:33:32.291123Z"
    },
    "executionInfo": {
     "elapsed": 29750,
     "status": "ok",
     "timestamp": 1614785841307,
     "user": {
      "displayName": "giovanni buroni",
      "photoUrl": "https://lh3.googleusercontent.com/a-/AOh14GjarG9foST_wpJ_PfvHTR0iWGuChdFnmm4ong7n=s64",
      "userId": "06127736531396060751"
     },
     "user_tz": -60
    },
    "id": "FIs0wUItshP2",
    "papermill": {
     "duration": 3.787501,
     "end_time": "2021-04-29T10:33:32.292280",
     "exception": false,
     "start_time": "2021-04-29T10:33:28.504779",
     "status": "completed"
    },
    "tags": []
   },
   "outputs": [],
   "source": [
    "# features\n",
    "loader_tr = prepare_data_DL(inputs, scaled_tr, batch_train)\n",
    "loader_te = prepare_data_DL(inputs, scaled_te, batch_test)\n",
    "\n",
    "# covariates\n",
    "loader_tr_cov = prepare_data_DL(inputs, scaled_tr_cov, batch_train)\n",
    "loader_te_cov = prepare_data_DL(inputs, scaled_te_cov, batch_test)"
   ]
  },
  {
   "cell_type": "code",
   "execution_count": 15,
   "metadata": {
    "execution": {
     "iopub.execute_input": "2021-04-29T10:33:32.354267Z",
     "iopub.status.busy": "2021-04-29T10:33:32.351878Z",
     "iopub.status.idle": "2021-04-29T10:33:32.667180Z",
     "shell.execute_reply": "2021-04-29T10:33:32.666604Z"
    },
    "executionInfo": {
     "elapsed": 29749,
     "status": "ok",
     "timestamp": 1614785841308,
     "user": {
      "displayName": "giovanni buroni",
      "photoUrl": "https://lh3.googleusercontent.com/a-/AOh14GjarG9foST_wpJ_PfvHTR0iWGuChdFnmm4ong7n=s64",
      "userId": "06127736531396060751"
     },
     "user_tz": -60
    },
    "id": "oYHppaM9shP3",
    "papermill": {
     "duration": 0.352218,
     "end_time": "2021-04-29T10:33:32.667329",
     "exception": false,
     "start_time": "2021-04-29T10:33:32.315111",
     "status": "completed"
    },
    "tags": []
   },
   "outputs": [],
   "source": [
    "\n",
    "l2_reg = 5e-4  # Regularization rate for l2\n",
    "\n",
    "# Build model\n",
    "class GCN_Net(Model):\n",
    "    \n",
    "    def __init__(self, **kwargs):\n",
    "        \n",
    "        super().__init__(**kwargs)\n",
    "        \n",
    "        self.street = 4524\n",
    "\n",
    "###################\n",
    "\n",
    "        # first LSTM FLOW\n",
    "        self.lstm_cells_flow_init = tf.keras.layers.LSTMCell(150, activation ='relu',\n",
    "                                        kernel_initializer='glorot_uniform',\n",
    "                                        recurrent_initializer='glorot_uniform',\n",
    "                                        kernel_regularizer=regularizers.l2(0.001),\n",
    "                                        bias_initializer='zeros') \n",
    "        \n",
    "        self.lstm_flow_init = tf.keras.layers.RNN(self.lstm_cells_flow_init, return_sequences = True, return_state =True)\n",
    "\n",
    "        # final LSTM FLOW\n",
    "        self.lstm_cells_flow_fin = tf.keras.layers.LSTMCell(150, activation ='relu',\n",
    "                                        kernel_initializer='glorot_uniform',\n",
    "                                        recurrent_initializer='glorot_uniform',\n",
    "                                        kernel_regularizer=regularizers.l2(0.001),\n",
    "                                        bias_initializer='zeros') \n",
    "        \n",
    "        self.lstm_flow_fin = tf.keras.layers.RNN(self.lstm_cells_flow_fin)\n",
    "\n",
    "\n",
    "        self.drop_flow = tf.keras.layers.Dropout(0.1)\n",
    "        \n",
    "        \n",
    "        self.dense_flow_fin = tf.keras.layers.Dense(self.street*12, \n",
    "                                           kernel_regularizer=regularizers.l2(0.001))\n",
    "        \n",
    "\n",
    "\n",
    "\n",
    "\n",
    "##########################\n",
    "\n",
    "        # first LSTM VEL\n",
    "        self.lstm_cells_vel_init = tf.keras.layers.LSTMCell(150, activation ='relu',\n",
    "                                        kernel_initializer='glorot_uniform',\n",
    "                                        recurrent_initializer='glorot_uniform',\n",
    "                                        kernel_regularizer=regularizers.l2(0.001),\n",
    "                                        bias_initializer='zeros') \n",
    "        \n",
    "        self.lstm_vel_init = tf.keras.layers.RNN(self.lstm_cells_vel_init, return_sequences = True, return_state =True)\n",
    "\n",
    "\n",
    "        # final LSTM VEL\n",
    "        self.lstm_cells_vel_fin = tf.keras.layers.LSTMCell(150, activation ='relu',\n",
    "                                        kernel_initializer='glorot_uniform',\n",
    "                                        recurrent_initializer='glorot_uniform',\n",
    "                                        kernel_regularizer=regularizers.l2(0.001),\n",
    "                                        bias_initializer='zeros') \n",
    "        \n",
    "        self.lstm_vel_fin = tf.keras.layers.RNN(self.lstm_cells_vel_fin)\n",
    "\n",
    "        \n",
    "        self.drop_vel = tf.keras.layers.Dropout(0.1)\n",
    "        \n",
    "        \n",
    "        self.dense_vel_fin = tf.keras.layers.Dense(self.street*12, \n",
    "                                           kernel_regularizer=regularizers.l2(0.001))\n",
    "        \n",
    "        \n",
    "\n",
    "##################################\n",
    "\n",
    "        self.add = tf.keras.layers.Add()\n",
    "        self.reshape = tf.keras.layers.Reshape([12, self.street])\n",
    "        \n",
    "\n",
    "    def call(self, flow_vel, a, cov):\n",
    "\n",
    "        # flow\n",
    "        flow = flow_vel[:, :, :-self.street]\n",
    "        # velocity\n",
    "        vel = flow_vel[:, :, -self.street:]\n",
    "\n",
    "\n",
    "        # two lstm models\n",
    "        flow_init, h_flow, c_flow = self.lstm_flow_init(flow)\n",
    "        vel_init, h_vel, c_vel = self.lstm_vel_init(vel)\n",
    "\n",
    "\n",
    "        # two models for flow and speed respectively\n",
    "\n",
    "        # flow\n",
    "        flow_final = self.lstm_flow_fin(flow_init, initial_state=[h_flow, c_flow])\n",
    "        flow = self.drop_flow(flow_final)\n",
    "        flow = self.dense_flow_fin(flow)\n",
    "        flow = self.reshape(flow)\n",
    "\n",
    "        # velocity\n",
    "        vel_final = self.lstm_vel_fin(vel_init, initial_state=[h_vel, c_vel])\n",
    "        vel = self.drop_vel(vel_final)\n",
    "        vel = self.dense_vel_fin(vel)\n",
    "        vel = self.reshape(vel)\n",
    "\n",
    "        # concatenate two finals results\n",
    "        final = tf.concat([flow, vel], axis=-1)\n",
    "\n",
    "        return final\n",
    "\n",
    "\n",
    "# Create model\n",
    "model = GCN_Net()\n",
    "optimizer = Adam(lr=0.0005)\n",
    "loss_fn = tf.keras.losses.MeanAbsoluteError()"
   ]
  },
  {
   "cell_type": "code",
   "execution_count": 16,
   "metadata": {
    "execution": {
     "iopub.execute_input": "2021-04-29T10:33:33.071839Z",
     "iopub.status.busy": "2021-04-29T10:33:33.070820Z",
     "iopub.status.idle": "2021-04-29T10:33:33.074506Z",
     "shell.execute_reply": "2021-04-29T10:33:33.074951Z"
    },
    "papermill": {
     "duration": 0.384418,
     "end_time": "2021-04-29T10:33:33.075102",
     "exception": false,
     "start_time": "2021-04-29T10:33:32.690684",
     "status": "completed"
    },
    "tags": []
   },
   "outputs": [
    {
     "data": {
      "text/plain": [
       "20"
      ]
     },
     "execution_count": 16,
     "metadata": {},
     "output_type": "execute_result"
    }
   ],
   "source": [
    "del data_tr, data_te, data_flow, data_vel, data, scaled_tr, scaled_te\n",
    "gc.collect()"
   ]
  },
  {
   "cell_type": "code",
   "execution_count": 17,
   "metadata": {
    "execution": {
     "iopub.execute_input": "2021-04-29T10:33:33.128205Z",
     "iopub.status.busy": "2021-04-29T10:33:33.126242Z",
     "iopub.status.idle": "2021-04-29T10:33:33.128820Z",
     "shell.execute_reply": "2021-04-29T10:33:33.129226Z"
    },
    "executionInfo": {
     "elapsed": 29747,
     "status": "ok",
     "timestamp": 1614785841308,
     "user": {
      "displayName": "giovanni buroni",
      "photoUrl": "https://lh3.googleusercontent.com/a-/AOh14GjarG9foST_wpJ_PfvHTR0iWGuChdFnmm4ong7n=s64",
      "userId": "06127736531396060751"
     },
     "user_tz": -60
    },
    "id": "c-ua6TRjshP3",
    "papermill": {
     "duration": 0.03132,
     "end_time": "2021-04-29T10:33:33.129355",
     "exception": false,
     "start_time": "2021-04-29T10:33:33.098035",
     "status": "completed"
    },
    "tags": []
   },
   "outputs": [],
   "source": [
    "# Training function\n",
    "@tf.function\n",
    "def train_on_batch(inputs, target, cov):\n",
    "    \n",
    "    loss = 0\n",
    "\n",
    "    with tf.GradientTape() as tape:\n",
    "        \n",
    "        predictions = model(inputs, adj_matrix, cov,  training=True)\n",
    "        \n",
    "        loss = loss_fn(target, predictions)\n",
    "\n",
    "    variables = model.trainable_variables \n",
    "\n",
    "    gradients = tape.gradient(loss, variables)\n",
    "\n",
    "    optimizer.apply_gradients(zip(gradients, variables))\n",
    "    \n",
    "    return loss"
   ]
  },
  {
   "cell_type": "code",
   "execution_count": 18,
   "metadata": {
    "execution": {
     "iopub.execute_input": "2021-04-29T10:33:33.181872Z",
     "iopub.status.busy": "2021-04-29T10:33:33.181211Z",
     "iopub.status.idle": "2021-04-29T10:58:21.753445Z",
     "shell.execute_reply": "2021-04-29T10:58:21.753926Z"
    },
    "executionInfo": {
     "elapsed": 1954987,
     "status": "ok",
     "timestamp": 1614787766559,
     "user": {
      "displayName": "giovanni buroni",
      "photoUrl": "https://lh3.googleusercontent.com/a-/AOh14GjarG9foST_wpJ_PfvHTR0iWGuChdFnmm4ong7n=s64",
      "userId": "06127736531396060751"
     },
     "user_tz": -60
    },
    "id": "mDbqw5X4shP3",
    "outputId": "c9a880b8-e268-42d1-d10d-ae9cb43bf02f",
    "papermill": {
     "duration": 1488.602011,
     "end_time": "2021-04-29T10:58:21.754107",
     "exception": false,
     "start_time": "2021-04-29T10:33:33.152096",
     "status": "completed"
    },
    "tags": []
   },
   "outputs": [
    {
     "name": "stdout",
     "output_type": "stream",
     "text": [
      "Epoch 0: Loss MAE: 0.063\n",
      "Epoch 10: Loss MAE: 0.060\n",
      "Epoch 20: Loss MAE: 0.059\n",
      "Epoch 30: Loss MAE: 0.059\n",
      "Epoch 40: Loss MAE: 0.059\n",
      "Epoch 50: Loss MAE: 0.058\n",
      "Epoch 60: Loss MAE: 0.053\n",
      "Epoch 70: Loss MAE: 0.046\n",
      "Epoch 80: Loss MAE: 0.046\n",
      "Epoch 90: Loss MAE: 0.045\n",
      "Epoch 100: Loss MAE: 0.045\n",
      "Epoch 110: Loss MAE: 0.045\n",
      "Epoch 120: Loss MAE: 0.044\n",
      "Epoch 130: Loss MAE: 0.044\n",
      "Epoch 140: Loss MAE: 0.044\n",
      "Time taken for 1 epoch 1488.5420835018158 sec\n",
      "\n"
     ]
    }
   ],
   "source": [
    "EPOCHS = 150\n",
    "\n",
    "\n",
    "start = time.time()\n",
    "\n",
    "# Keep results for plotting\n",
    "train_loss_results = []\n",
    "\n",
    "samples_cov = list(loader_tr_cov)\n",
    "\n",
    "for epoch in range(EPOCHS):\n",
    "    \n",
    "    \n",
    "\n",
    "    epoch_loss_avg = tf.keras.metrics.Mean()\n",
    "     \n",
    "    step = 0\n",
    "\n",
    "    for batch in loader_tr:\n",
    "\n",
    "        cov = samples_cov[step]\n",
    "        past_cov = cov[0]\n",
    "        fut_cov = cov[1]\n",
    "        \n",
    "        # Training step\n",
    "        inputs, target = batch\n",
    "        \n",
    "        loss = train_on_batch(inputs, target, fut_cov)\n",
    "        \n",
    "        # Track progress\n",
    "        epoch_loss_avg.update_state(loss)\n",
    "\n",
    "        step+=1\n",
    "\n",
    "    # End epoch\n",
    "    train_loss_results.append(epoch_loss_avg.result())\n",
    "\n",
    "    if epoch % 10 == 0:\n",
    "            print(\"Epoch {}: Loss MAE: {:.3f}\".format(epoch, epoch_loss_avg.result()))\n",
    "        \n",
    "print('Time taken for 1 epoch {} sec\\n'.format(time.time() - start))"
   ]
  },
  {
   "cell_type": "code",
   "execution_count": 19,
   "metadata": {
    "execution": {
     "iopub.execute_input": "2021-04-29T10:58:21.814801Z",
     "iopub.status.busy": "2021-04-29T10:58:21.814025Z",
     "iopub.status.idle": "2021-04-29T10:58:22.074283Z",
     "shell.execute_reply": "2021-04-29T10:58:22.073728Z"
    },
    "executionInfo": {
     "elapsed": 1955373,
     "status": "ok",
     "timestamp": 1614787766957,
     "user": {
      "displayName": "giovanni buroni",
      "photoUrl": "https://lh3.googleusercontent.com/a-/AOh14GjarG9foST_wpJ_PfvHTR0iWGuChdFnmm4ong7n=s64",
      "userId": "06127736531396060751"
     },
     "user_tz": -60
    },
    "id": "igL4S8uAshP4",
    "outputId": "0f6e0b45-2ddf-492f-da36-15ec3932d63b",
    "papermill": {
     "duration": 0.293509,
     "end_time": "2021-04-29T10:58:22.074429",
     "exception": false,
     "start_time": "2021-04-29T10:58:21.780920",
     "status": "completed"
    },
    "tags": []
   },
   "outputs": [
    {
     "data": {
      "image/png": "[encoded data removed]",
      "text/plain": [
       "<Figure size 864x576 with 1 Axes>"
      ]
     },
     "metadata": {
      "needs_background": "light"
     },
     "output_type": "display_data"
    }
   ],
   "source": [
    "fig, axes = plt.subplots(1, sharex=True, figsize=(12, 8))\n",
    "fig.suptitle('Training Metrics')\n",
    "\n",
    "axes.set_ylabel(\"Loss (MAE)\", fontsize=14)\n",
    "axes.plot(train_loss_results)\n",
    "axes.set_xlabel(\"Epoch\", fontsize=14)\n",
    "plt.show()"
   ]
  },
  {
   "cell_type": "code",
   "execution_count": 20,
   "metadata": {
    "execution": {
     "iopub.execute_input": "2021-04-29T10:58:22.134464Z",
     "iopub.status.busy": "2021-04-29T10:58:22.133971Z",
     "iopub.status.idle": "2021-04-29T10:58:22.137551Z",
     "shell.execute_reply": "2021-04-29T10:58:22.137138Z"
    },
    "executionInfo": {
     "elapsed": 1955372,
     "status": "ok",
     "timestamp": 1614787766959,
     "user": {
      "displayName": "giovanni buroni",
      "photoUrl": "https://lh3.googleusercontent.com/a-/AOh14GjarG9foST_wpJ_PfvHTR0iWGuChdFnmm4ong7n=s64",
      "userId": "06127736531396060751"
     },
     "user_tz": -60
    },
    "id": "5sPebFR-shP4",
    "papermill": {
     "duration": 0.034935,
     "end_time": "2021-04-29T10:58:22.137725",
     "exception": false,
     "start_time": "2021-04-29T10:58:22.102790",
     "status": "completed"
    },
    "tags": []
   },
   "outputs": [],
   "source": [
    "def inverse_transform(forecasts, scaler):\n",
    "    # invert scaling\n",
    "    inv_pred = scaler.inverse_transform(forecasts)\n",
    "    return inv_pred"
   ]
  },
  {
   "cell_type": "code",
   "execution_count": 21,
   "metadata": {
    "execution": {
     "iopub.execute_input": "2021-04-29T10:58:22.201925Z",
     "iopub.status.busy": "2021-04-29T10:58:22.200171Z",
     "iopub.status.idle": "2021-04-29T10:58:22.202497Z",
     "shell.execute_reply": "2021-04-29T10:58:22.202916Z"
    },
    "executionInfo": {
     "elapsed": 1955371,
     "status": "ok",
     "timestamp": 1614787766960,
     "user": {
      "displayName": "giovanni buroni",
      "photoUrl": "https://lh3.googleusercontent.com/a-/AOh14GjarG9foST_wpJ_PfvHTR0iWGuChdFnmm4ong7n=s64",
      "userId": "06127736531396060751"
     },
     "user_tz": -60
    },
    "id": "pHksYSD3GCkR",
    "papermill": {
     "duration": 0.037147,
     "end_time": "2021-04-29T10:58:22.203035",
     "exception": false,
     "start_time": "2021-04-29T10:58:22.165888",
     "status": "completed"
    },
    "tags": []
   },
   "outputs": [],
   "source": [
    "def evaluate_forecasts(targets, forecasts, n_seq):\n",
    "    \n",
    "    list_rmse = []\n",
    "    list_mae = []\n",
    "    \n",
    "    for i in range(n_seq):\n",
    "        true = np.vstack([target[i] for target in targets])\n",
    "        predicted = np.vstack([forecast[i] for forecast in forecasts])\n",
    "        \n",
    "        rmse = np.sqrt((np.square(true - predicted)).mean(axis=0))\n",
    "        mae = np.absolute(true - predicted).mean(axis=0)\n",
    "        \n",
    "        list_rmse.append(rmse)\n",
    "        list_mae.append(mae)\n",
    "        \n",
    "    list_rmse = np.vstack(list_rmse)\n",
    "    list_mae = np.vstack(list_mae)\n",
    "    \n",
    "    return list_rmse, list_mae"
   ]
  },
  {
   "cell_type": "code",
   "execution_count": 22,
   "metadata": {
    "execution": {
     "iopub.execute_input": "2021-04-29T10:58:22.266087Z",
     "iopub.status.busy": "2021-04-29T10:58:22.265381Z",
     "iopub.status.idle": "2021-04-29T11:30:47.622911Z",
     "shell.execute_reply": "2021-04-29T11:30:47.622314Z"
    },
    "executionInfo": {
     "elapsed": 2783701,
     "status": "ok",
     "timestamp": 1614788595301,
     "user": {
      "displayName": "giovanni buroni",
      "photoUrl": "https://lh3.googleusercontent.com/a-/AOh14GjarG9foST_wpJ_PfvHTR0iWGuChdFnmm4ong7n=s64",
      "userId": "06127736531396060751"
     },
     "user_tz": -60
    },
    "id": "-VfOJ2z9shP4",
    "outputId": "1af76bc5-82af-49d8-e7d3-216a9fc2391c",
    "papermill": {
     "duration": 1945.392285,
     "end_time": "2021-04-29T11:30:47.623063",
     "exception": false,
     "start_time": "2021-04-29T10:58:22.230778",
     "status": "completed"
    },
    "tags": []
   },
   "outputs": [],
   "source": [
    "forecasts = []\n",
    "targets = []\n",
    "\n",
    "rmse_list = []\n",
    "mae_list = []\n",
    "\n",
    "samples_cov = list(loader_te_cov)\n",
    "\n",
    "del loader_te_cov, loader_tr, loader_tr_cov\n",
    "gc.collect()\n",
    "\n",
    "for (step, (inp, targ)) in enumerate(loader_te):\n",
    "    \n",
    "            \n",
    "        timestamp = print_datetime[step]\n",
    "\n",
    "\n",
    "        cov = samples_cov[step]\n",
    "        past_cov = cov[0]\n",
    "        fut_cov = cov[1]\n",
    "        \n",
    "        pred  = model(inp, adj_matrix, fut_cov, training=False)\n",
    "\n",
    "        \n",
    "        truth = inverse_transform(targ[0],  scaler)\n",
    "        pred = inverse_transform(pred[0],  scaler)\n",
    "        \n",
    "        forecasts.append(pred)\n",
    "        targets.append(truth)\n",
    "\n",
    "        rmse, mae = evaluate_forecasts(targets, forecasts, 12)\n",
    "           \n",
    "        rmse_list.append(rmse)\n",
    "        mae_list.append(mae)\n",
    "        \n",
    "        del pred, truth, inp, targ, fut_cov, past_cov, timestamp, cov, rmse, mae\n",
    "        gc.collect()\n",
    "\n",
    "         "
   ]
  },
  {
   "cell_type": "code",
   "execution_count": 23,
   "metadata": {
    "execution": {
     "iopub.execute_input": "2021-04-29T11:30:47.685621Z",
     "iopub.status.busy": "2021-04-29T11:30:47.684431Z",
     "iopub.status.idle": "2021-04-29T11:30:48.130113Z",
     "shell.execute_reply": "2021-04-29T11:30:48.130546Z"
    },
    "executionInfo": {
     "elapsed": 2784530,
     "status": "ok",
     "timestamp": 1614788596141,
     "user": {
      "displayName": "giovanni buroni",
      "photoUrl": "https://lh3.googleusercontent.com/a-/AOh14GjarG9foST_wpJ_PfvHTR0iWGuChdFnmm4ong7n=s64",
      "userId": "06127736531396060751"
     },
     "user_tz": -60
    },
    "id": "FcbFoft2A95Q",
    "outputId": "7414c0ad-45fa-4c59-b709-5cf496f849fc",
    "papermill": {
     "duration": 0.47818,
     "end_time": "2021-04-29T11:30:48.130707",
     "exception": false,
     "start_time": "2021-04-29T11:30:47.652527",
     "status": "completed"
    },
    "tags": []
   },
   "outputs": [
    {
     "data": {
      "text/plain": [
       "4.912641925807471"
      ]
     },
     "execution_count": 23,
     "metadata": {},
     "output_type": "execute_result"
    }
   ],
   "source": [
    "np.mean(rmse_list)"
   ]
  },
  {
   "cell_type": "code",
   "execution_count": 24,
   "metadata": {
    "execution": {
     "iopub.execute_input": "2021-04-29T11:30:48.193707Z",
     "iopub.status.busy": "2021-04-29T11:30:48.192524Z",
     "iopub.status.idle": "2021-04-29T11:30:48.629842Z",
     "shell.execute_reply": "2021-04-29T11:30:48.630260Z"
    },
    "executionInfo": {
     "elapsed": 2784868,
     "status": "ok",
     "timestamp": 1614788596490,
     "user": {
      "displayName": "giovanni buroni",
      "photoUrl": "https://lh3.googleusercontent.com/a-/AOh14GjarG9foST_wpJ_PfvHTR0iWGuChdFnmm4ong7n=s64",
      "userId": "06127736531396060751"
     },
     "user_tz": -60
    },
    "id": "sB4n8CvNBF-n",
    "outputId": "78ba7bf8-76de-4114-adbe-46534f3a217b",
    "papermill": {
     "duration": 0.471004,
     "end_time": "2021-04-29T11:30:48.630416",
     "exception": false,
     "start_time": "2021-04-29T11:30:48.159412",
     "status": "completed"
    },
    "tags": []
   },
   "outputs": [
    {
     "data": {
      "text/plain": [
       "2.1562323162583423"
      ]
     },
     "execution_count": 24,
     "metadata": {},
     "output_type": "execute_result"
    }
   ],
   "source": [
    "np.mean(mae_list)"
   ]
  },
  {
   "cell_type": "code",
   "execution_count": 25,
   "metadata": {
    "execution": {
     "iopub.execute_input": "2021-04-29T11:30:48.695834Z",
     "iopub.status.busy": "2021-04-29T11:30:48.694597Z",
     "iopub.status.idle": "2021-04-29T11:30:50.548030Z",
     "shell.execute_reply": "2021-04-29T11:30:50.547531Z"
    },
    "executionInfo": {
     "elapsed": 2786472,
     "status": "ok",
     "timestamp": 1614788598107,
     "user": {
      "displayName": "giovanni buroni",
      "photoUrl": "https://lh3.googleusercontent.com/a-/AOh14GjarG9foST_wpJ_PfvHTR0iWGuChdFnmm4ong7n=s64",
      "userId": "06127736531396060751"
     },
     "user_tz": -60
    },
    "id": "gEWDqYTZGNnP",
    "outputId": "7b87ef95-fe2e-4742-d601-b6f3bb3a3d99",
    "papermill": {
     "duration": 1.888184,
     "end_time": "2021-04-29T11:30:50.548164",
     "exception": false,
     "start_time": "2021-04-29T11:30:48.659980",
     "status": "completed"
    },
    "tags": []
   },
   "outputs": [
    {
     "name": "stdout",
     "output_type": "stream",
     "text": [
      "t+1 RMSE MEAN 4.887 +- 0.737\n",
      "\n",
      "t+2 RMSE MEAN 4.895 +- 0.742\n",
      "\n",
      "t+3 RMSE MEAN 4.9 +- 0.746\n",
      "\n",
      "t+4 RMSE MEAN 4.904 +- 0.757\n",
      "\n",
      "t+5 RMSE MEAN 4.909 +- 0.76\n",
      "\n",
      "t+6 RMSE MEAN 4.911 +- 0.758\n",
      "\n",
      "t+7 RMSE MEAN 4.915 +- 0.764\n",
      "\n",
      "t+8 RMSE MEAN 4.921 +- 0.77\n",
      "\n",
      "t+9 RMSE MEAN 4.923 +- 0.763\n",
      "\n",
      "t+10 RMSE MEAN 4.928 +- 0.77\n",
      "\n",
      "t+11 RMSE MEAN 4.929 +- 0.763\n",
      "\n",
      "t+12 RMSE MEAN 4.929 +- 0.754\n",
      "\n"
     ]
    }
   ],
   "source": [
    "RMSE_MEAN = np.mean(rmse_list,axis=0).mean(axis=1)\n",
    "RMSE_STD =  np.std(rmse_list,axis=0).std(axis=1)\n",
    "\n",
    "for i in range(len(RMSE_MEAN)):\n",
    "    print('t+'+str(i+1)+' RMSE MEAN ' +str(np.round(RMSE_MEAN[i],3))+' +- '+str(np.round(RMSE_STD[i],3)))\n",
    "    print('')"
   ]
  },
  {
   "cell_type": "code",
   "execution_count": 26,
   "metadata": {
    "execution": {
     "iopub.execute_input": "2021-04-29T11:30:50.614436Z",
     "iopub.status.busy": "2021-04-29T11:30:50.613375Z",
     "iopub.status.idle": "2021-04-29T11:30:52.267718Z",
     "shell.execute_reply": "2021-04-29T11:30:52.268162Z"
    },
    "executionInfo": {
     "elapsed": 2787615,
     "status": "ok",
     "timestamp": 1614788599261,
     "user": {
      "displayName": "giovanni buroni",
      "photoUrl": "https://lh3.googleusercontent.com/a-/AOh14GjarG9foST_wpJ_PfvHTR0iWGuChdFnmm4ong7n=s64",
      "userId": "06127736531396060751"
     },
     "user_tz": -60
    },
    "id": "fMgrD1upGQ2o",
    "outputId": "fc20149c-6c6e-4a87-97cd-f7ce563d9137",
    "papermill": {
     "duration": 1.689693,
     "end_time": "2021-04-29T11:30:52.268313",
     "exception": false,
     "start_time": "2021-04-29T11:30:50.578620",
     "status": "completed"
    },
    "tags": []
   },
   "outputs": [
    {
     "name": "stdout",
     "output_type": "stream",
     "text": [
      "t+1 MAE MEAN 2.134 +- 0.592\n",
      "\n",
      "t+2 MAE MEAN 2.14 +- 0.604\n",
      "\n",
      "t+3 MAE MEAN 2.145 +- 0.616\n",
      "\n",
      "t+4 MAE MEAN 2.149 +- 0.639\n",
      "\n",
      "t+5 MAE MEAN 2.154 +- 0.654\n",
      "\n",
      "t+6 MAE MEAN 2.157 +- 0.656\n",
      "\n",
      "t+7 MAE MEAN 2.159 +- 0.664\n",
      "\n",
      "t+8 MAE MEAN 2.164 +- 0.676\n",
      "\n",
      "t+9 MAE MEAN 2.165 +- 0.671\n",
      "\n",
      "t+10 MAE MEAN 2.169 +- 0.686\n",
      "\n",
      "t+11 MAE MEAN 2.17 +- 0.678\n",
      "\n",
      "t+12 MAE MEAN 2.169 +- 0.669\n",
      "\n"
     ]
    }
   ],
   "source": [
    "MAE_MEAN = np.mean(mae_list,axis=0).mean(axis=1)\n",
    "MAE_STD =  np.std(mae_list,axis=0).std(axis=1)\n",
    "\n",
    "for i in range(len(MAE_MEAN)):\n",
    "    print('t+'+str(i+1)+' MAE MEAN ' +str(np.round(MAE_MEAN[i],3))+' +- '+str(np.round(MAE_STD[i],3)))\n",
    "    print('')"
   ]
  },
  {
   "cell_type": "code",
   "execution_count": 27,
   "metadata": {
    "execution": {
     "iopub.execute_input": "2021-04-29T11:30:52.335125Z",
     "iopub.status.busy": "2021-04-29T11:30:52.334277Z",
     "iopub.status.idle": "2021-04-29T11:31:39.161756Z",
     "shell.execute_reply": "2021-04-29T11:31:39.160500Z"
    },
    "executionInfo": {
     "elapsed": 70009,
     "status": "ok",
     "timestamp": 1614788688261,
     "user": {
      "displayName": "giovanni buroni",
      "photoUrl": "https://lh3.googleusercontent.com/a-/AOh14GjarG9foST_wpJ_PfvHTR0iWGuChdFnmm4ong7n=s64",
      "userId": "06127736531396060751"
     },
     "user_tz": -60
    },
    "id": "LSqPZ8VwgdyA",
    "outputId": "4e1b8fbb-1d01-4144-c0e1-b850396769cf",
    "papermill": {
     "duration": 46.862212,
     "end_time": "2021-04-29T11:31:39.161921",
     "exception": false,
     "start_time": "2021-04-29T11:30:52.299709",
     "status": "completed"
    },
    "tags": []
   },
   "outputs": [],
   "source": [
    "with open('STL_LSTM_RMSE.pkl', 'wb') as f:  \n",
    "    pickle.dump(rmse_list, f)\n",
    "\n",
    "with open('STL_LSTM_MAE.pkl', 'wb') as f:  \n",
    "    pickle.dump(mae_list, f)\n",
    "\n",
    "with open('FORECAST_STL_LSTM.pkl', 'wb') as f:  \n",
    "    pickle.dump([forecasts, targets], f)"
   ]
  }
 ],
 "metadata": {
  "kernelspec": {
   "display_name": "Python 3",
   "language": "python",
   "name": "python3"
  },
  "language_info": {
   "codemirror_mode": {
    "name": "ipython",
    "version": 3
   },
   "file_extension": ".py",
   "mimetype": "text/x-python",
   "name": "python",
   "nbconvert_exporter": "python",
   "pygments_lexer": "ipython3",
   "version": "3.7.9"
  },
  "papermill": {
   "default_parameters": {},
   "duration": 3546.926844,
   "end_time": "2021-04-29T11:31:44.856968",
   "environment_variables": {},
   "exception": null,
   "input_path": "__notebook__.ipynb",
   "output_path": "__notebook__.ipynb",
   "parameters": {},
   "start_time": "2021-04-29T10:32:37.930124",
   "version": "2.2.2"
  }
 },
 "nbformat": 4,
 "nbformat_minor": 4
}
