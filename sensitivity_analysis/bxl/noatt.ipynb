{
 "cells": [
  {
   "cell_type": "markdown",
   "metadata": {
    "id": "YIBknzfcshPu",
    "papermill": {
     "duration": 0.028117,
     "end_time": "2021-04-30T11:28:12.558491",
     "exception": false,
     "start_time": "2021-04-30T11:28:12.530374",
     "status": "completed"
    },
    "tags": []
   },
   "source": [
    "## General Import"
   ]
  },
  {
   "cell_type": "code",
   "execution_count": 1,
   "metadata": {
    "execution": {
     "iopub.execute_input": "2021-04-30T11:28:12.617808Z",
     "iopub.status.busy": "2021-04-30T11:28:12.616930Z",
     "iopub.status.idle": "2021-04-30T11:28:24.013652Z",
     "shell.execute_reply": "2021-04-30T11:28:24.012835Z"
    },
    "executionInfo": {
     "elapsed": 493,
     "status": "ok",
     "timestamp": 1614960203232,
     "user": {
      "displayName": "giovanni buroni",
      "photoUrl": "https://lh3.googleusercontent.com/a-/AOh14GjarG9foST_wpJ_PfvHTR0iWGuChdFnmm4ong7n=s64",
      "userId": "06127736531396060751"
     },
     "user_tz": -60
    },
    "id": "YkNeBz0Cxbwt",
    "papermill": {
     "duration": 11.429174,
     "end_time": "2021-04-30T11:28:24.013869",
     "exception": false,
     "start_time": "2021-04-30T11:28:12.584695",
     "status": "completed"
    },
    "tags": []
   },
   "outputs": [
    {
     "name": "stdout",
     "output_type": "stream",
     "text": [
      "Collecting spektral\r\n",
      "  Downloading spektral-1.0.6-py3-none-any.whl (114 kB)\r\n",
      "\u001b[K     |████████████████████████████████| 114 kB 888 kB/s \r\n",
      "\u001b[?25hRequirement already satisfied: numpy in /opt/conda/lib/python3.7/site-packages (from spektral) (1.19.5)\r\n",
      "Requirement already satisfied: tensorflow>=2.1.0 in /opt/conda/lib/python3.7/site-packages (from spektral) (2.4.1)\r\n",
      "Requirement already satisfied: scipy in /opt/conda/lib/python3.7/site-packages (from spektral) (1.5.4)\r\n",
      "Requirement already satisfied: lxml in /opt/conda/lib/python3.7/site-packages (from spektral) (4.6.2)\r\n",
      "Requirement already satisfied: joblib in /opt/conda/lib/python3.7/site-packages (from spektral) (1.0.0)\r\n",
      "Requirement already satisfied: networkx in /opt/conda/lib/python3.7/site-packages (from spektral) (2.5)\r\n",
      "Requirement already satisfied: requests in /opt/conda/lib/python3.7/site-packages (from spektral) (2.25.1)\r\n",
      "Requirement already satisfied: tqdm in /opt/conda/lib/python3.7/site-packages (from spektral) (4.55.1)\r\n",
      "Requirement already satisfied: pandas in /opt/conda/lib/python3.7/site-packages (from spektral) (1.1.5)\r\n",
      "Requirement already satisfied: scikit-learn in /opt/conda/lib/python3.7/site-packages (from spektral) (0.24.1)\r\n",
      "Requirement already satisfied: protobuf>=3.9.2 in /opt/conda/lib/python3.7/site-packages (from tensorflow>=2.1.0->spektral) (3.14.0)\r\n",
      "Requirement already satisfied: typing-extensions~=3.7.4 in /opt/conda/lib/python3.7/site-packages (from tensorflow>=2.1.0->spektral) (3.7.4.3)\r\n",
      "Requirement already satisfied: google-pasta~=0.2 in /opt/conda/lib/python3.7/site-packages (from tensorflow>=2.1.0->spektral) (0.2.0)\r\n",
      "Requirement already satisfied: six~=1.15.0 in /opt/conda/lib/python3.7/site-packages (from tensorflow>=2.1.0->spektral) (1.15.0)\r\n",
      "Requirement already satisfied: opt-einsum~=3.3.0 in /opt/conda/lib/python3.7/site-packages (from tensorflow>=2.1.0->spektral) (3.3.0)\r\n",
      "Requirement already satisfied: wheel~=0.35 in /opt/conda/lib/python3.7/site-packages (from tensorflow>=2.1.0->spektral) (0.36.2)\r\n",
      "Requirement already satisfied: flatbuffers~=1.12.0 in /opt/conda/lib/python3.7/site-packages (from tensorflow>=2.1.0->spektral) (1.12)\r\n",
      "Requirement already satisfied: h5py~=2.10.0 in /opt/conda/lib/python3.7/site-packages (from tensorflow>=2.1.0->spektral) (2.10.0)\r\n",
      "Requirement already satisfied: astunparse~=1.6.3 in /opt/conda/lib/python3.7/site-packages (from tensorflow>=2.1.0->spektral) (1.6.3)\r\n",
      "Requirement already satisfied: termcolor~=1.1.0 in /opt/conda/lib/python3.7/site-packages (from tensorflow>=2.1.0->spektral) (1.1.0)\r\n",
      "Requirement already satisfied: tensorflow-estimator<2.5.0,>=2.4.0 in /opt/conda/lib/python3.7/site-packages (from tensorflow>=2.1.0->spektral) (2.4.0)\r\n",
      "Requirement already satisfied: gast==0.3.3 in /opt/conda/lib/python3.7/site-packages (from tensorflow>=2.1.0->spektral) (0.3.3)\r\n",
      "Requirement already satisfied: grpcio~=1.32.0 in /opt/conda/lib/python3.7/site-packages (from tensorflow>=2.1.0->spektral) (1.32.0)\r\n",
      "Requirement already satisfied: wrapt~=1.12.1 in /opt/conda/lib/python3.7/site-packages (from tensorflow>=2.1.0->spektral) (1.12.1)\r\n",
      "Requirement already satisfied: tensorboard~=2.4 in /opt/conda/lib/python3.7/site-packages (from tensorflow>=2.1.0->spektral) (2.4.1)\r\n",
      "Requirement already satisfied: keras-preprocessing~=1.1.2 in /opt/conda/lib/python3.7/site-packages (from tensorflow>=2.1.0->spektral) (1.1.2)\r\n",
      "Requirement already satisfied: absl-py~=0.10 in /opt/conda/lib/python3.7/site-packages (from tensorflow>=2.1.0->spektral) (0.10.0)\r\n",
      "Requirement already satisfied: tensorboard-plugin-wit>=1.6.0 in /opt/conda/lib/python3.7/site-packages (from tensorboard~=2.4->tensorflow>=2.1.0->spektral) (1.8.0)\r\n",
      "Requirement already satisfied: markdown>=2.6.8 in /opt/conda/lib/python3.7/site-packages (from tensorboard~=2.4->tensorflow>=2.1.0->spektral) (3.3.3)\r\n",
      "Requirement already satisfied: werkzeug>=0.11.15 in /opt/conda/lib/python3.7/site-packages (from tensorboard~=2.4->tensorflow>=2.1.0->spektral) (1.0.1)\r\n",
      "Requirement already satisfied: setuptools>=41.0.0 in /opt/conda/lib/python3.7/site-packages (from tensorboard~=2.4->tensorflow>=2.1.0->spektral) (49.6.0.post20201009)\r\n",
      "Requirement already satisfied: google-auth<2,>=1.6.3 in /opt/conda/lib/python3.7/site-packages (from tensorboard~=2.4->tensorflow>=2.1.0->spektral) (1.24.0)\r\n",
      "Requirement already satisfied: google-auth-oauthlib<0.5,>=0.4.1 in /opt/conda/lib/python3.7/site-packages (from tensorboard~=2.4->tensorflow>=2.1.0->spektral) (0.4.2)\r\n",
      "Requirement already satisfied: cachetools<5.0,>=2.0.0 in /opt/conda/lib/python3.7/site-packages (from google-auth<2,>=1.6.3->tensorboard~=2.4->tensorflow>=2.1.0->spektral) (4.1.1)\r\n",
      "Requirement already satisfied: rsa<5,>=3.1.4 in /opt/conda/lib/python3.7/site-packages (from google-auth<2,>=1.6.3->tensorboard~=2.4->tensorflow>=2.1.0->spektral) (4.6)\r\n",
      "Requirement already satisfied: pyasn1-modules>=0.2.1 in /opt/conda/lib/python3.7/site-packages (from google-auth<2,>=1.6.3->tensorboard~=2.4->tensorflow>=2.1.0->spektral) (0.2.7)\r\n",
      "Requirement already satisfied: requests-oauthlib>=0.7.0 in /opt/conda/lib/python3.7/site-packages (from google-auth-oauthlib<0.5,>=0.4.1->tensorboard~=2.4->tensorflow>=2.1.0->spektral) (1.3.0)\r\n",
      "Requirement already satisfied: importlib-metadata in /opt/conda/lib/python3.7/site-packages (from markdown>=2.6.8->tensorboard~=2.4->tensorflow>=2.1.0->spektral) (3.3.0)\r\n",
      "Requirement already satisfied: pyasn1<0.5.0,>=0.4.6 in /opt/conda/lib/python3.7/site-packages (from pyasn1-modules>=0.2.1->google-auth<2,>=1.6.3->tensorboard~=2.4->tensorflow>=2.1.0->spektral) (0.4.8)\r\n",
      "Requirement already satisfied: chardet<5,>=3.0.2 in /opt/conda/lib/python3.7/site-packages (from requests->spektral) (3.0.4)\r\n",
      "Requirement already satisfied: idna<3,>=2.5 in /opt/conda/lib/python3.7/site-packages (from requests->spektral) (2.10)\r\n",
      "Requirement already satisfied: urllib3<1.27,>=1.21.1 in /opt/conda/lib/python3.7/site-packages (from requests->spektral) (1.26.2)\r\n",
      "Requirement already satisfied: certifi>=2017.4.17 in /opt/conda/lib/python3.7/site-packages (from requests->spektral) (2020.12.5)\r\n",
      "Requirement already satisfied: oauthlib>=3.0.0 in /opt/conda/lib/python3.7/site-packages (from requests-oauthlib>=0.7.0->google-auth-oauthlib<0.5,>=0.4.1->tensorboard~=2.4->tensorflow>=2.1.0->spektral) (3.0.1)\r\n",
      "Requirement already satisfied: zipp>=0.5 in /opt/conda/lib/python3.7/site-packages (from importlib-metadata->markdown>=2.6.8->tensorboard~=2.4->tensorflow>=2.1.0->spektral) (3.4.0)\r\n",
      "Requirement already satisfied: decorator>=4.3.0 in /opt/conda/lib/python3.7/site-packages (from networkx->spektral) (4.4.2)\r\n",
      "Requirement already satisfied: python-dateutil>=2.7.3 in /opt/conda/lib/python3.7/site-packages (from pandas->spektral) (2.8.1)\r\n",
      "Requirement already satisfied: pytz>=2017.2 in /opt/conda/lib/python3.7/site-packages (from pandas->spektral) (2020.5)\r\n",
      "Requirement already satisfied: threadpoolctl>=2.0.0 in /opt/conda/lib/python3.7/site-packages (from scikit-learn->spektral) (2.1.0)\r\n",
      "Installing collected packages: spektral\r\n",
      "Successfully installed spektral-1.0.6\r\n",
      "\u001b[33mWARNING: You are using pip version 21.0.1; however, version 21.1 is available.\r\n",
      "You should consider upgrading via the '/opt/conda/bin/python3.7 -m pip install --upgrade pip' command.\u001b[0m\r\n"
     ]
    }
   ],
   "source": [
    "!pip install spektral\n"
   ]
  },
  {
   "cell_type": "code",
   "execution_count": 2,
   "metadata": {
    "execution": {
     "iopub.execute_input": "2021-04-30T11:28:24.101049Z",
     "iopub.status.busy": "2021-04-30T11:28:24.089013Z",
     "iopub.status.idle": "2021-04-30T11:28:33.577217Z",
     "shell.execute_reply": "2021-04-30T11:28:33.576642Z"
    },
    "executionInfo": {
     "elapsed": 9485,
     "status": "ok",
     "timestamp": 1614960212234,
     "user": {
      "displayName": "giovanni buroni",
      "photoUrl": "https://lh3.googleusercontent.com/a-/AOh14GjarG9foST_wpJ_PfvHTR0iWGuChdFnmm4ong7n=s64",
      "userId": "06127736531396060751"
     },
     "user_tz": -60
    },
    "id": "m7nfSj_GshPw",
    "papermill": {
     "duration": 9.52913,
     "end_time": "2021-04-30T11:28:33.577373",
     "exception": false,
     "start_time": "2021-04-30T11:28:24.048243",
     "status": "completed"
    },
    "tags": []
   },
   "outputs": [],
   "source": [
    "from mpl_toolkits.mplot3d import Axes3D\n",
    "from sklearn.preprocessing import StandardScaler\n",
    "import matplotlib.pyplot as plt # plotting\n",
    "import numpy as np # linear algebra\n",
    "import os # accessing directory structure\n",
    "import pandas as pd # data processing, CSV file I/O (e.g. pd.read_csv)\n",
    "import tensorflow as tf\n",
    "\n",
    "from sklearn.preprocessing import MinMaxScaler\n",
    "\n",
    "import gc\n",
    "import time\n",
    "import seaborn as sns; sns.set()\n",
    "\n",
    "import os \n",
    "# Disable warnings, set Matplotlib inline plotting and load Pandas package\n",
    "import warnings\n",
    "warnings.filterwarnings('ignore')\n",
    "import pandas as pd\n",
    "import numpy as np\n",
    "#pd.options.display.mpl_style = 'default'\n",
    "from datetime import datetime\n",
    "import numpy as np\n",
    "from datetime import datetime, timedelta\n",
    "from pytz import timezone\n",
    "from dateutil import tz\n",
    "import geojson\n",
    "import geopandas as gpd\n",
    "from fiona.crs import from_epsg\n",
    "import os, json\n",
    "from shapely.geometry import shape, Point, Polygon, MultiPoint\n",
    "%matplotlib inline\n",
    "import matplotlib.pyplot as plt\n",
    "from geopandas.tools import sjoin\n",
    "\n",
    "import matplotlib.cm as cm\n",
    "\n",
    "import folium\n",
    "import shapely.geometry\n",
    "\n",
    "from branca.colormap import  linear\n",
    "import json\n",
    "import branca.colormap as cm\n",
    "import matplotlib.colors as colors\n",
    "%matplotlib inline\n",
    "\n",
    "import networkx as nx\n",
    "import pickle\n",
    "\n",
    "import osmnx as ox\n",
    "ox.config(log_console=True, use_cache=True)\n",
    "ox.__version__\n",
    "\n",
    "import matplotlib.colors as mcolors\n",
    "import gc"
   ]
  },
  {
   "cell_type": "code",
   "execution_count": 3,
   "metadata": {
    "execution": {
     "iopub.execute_input": "2021-04-30T11:28:33.653720Z",
     "iopub.status.busy": "2021-04-30T11:28:33.652558Z",
     "iopub.status.idle": "2021-04-30T11:28:33.705853Z",
     "shell.execute_reply": "2021-04-30T11:28:33.705300Z"
    },
    "executionInfo": {
     "elapsed": 9479,
     "status": "ok",
     "timestamp": 1614960212237,
     "user": {
      "displayName": "giovanni buroni",
      "photoUrl": "https://lh3.googleusercontent.com/a-/AOh14GjarG9foST_wpJ_PfvHTR0iWGuChdFnmm4ong7n=s64",
      "userId": "06127736531396060751"
     },
     "user_tz": -60
    },
    "id": "b275b4IDshPx",
    "papermill": {
     "duration": 0.095756,
     "end_time": "2021-04-30T11:28:33.706074",
     "exception": false,
     "start_time": "2021-04-30T11:28:33.610318",
     "status": "completed"
    },
    "tags": []
   },
   "outputs": [],
   "source": [
    "import tensorflow as tf\n",
    "from tensorflow.keras import Model\n",
    "from spektral.layers import GCNConv, ChebConv #(channels, K=1)\n",
    "from spektral.utils import gcn_filter\n",
    "from tensorflow.keras.regularizers import l2\n",
    "from tensorflow.keras.layers import Dense, Flatten\n",
    "from tensorflow.keras.losses import SparseCategoricalCrossentropy\n",
    "from tensorflow.keras.metrics import SparseCategoricalAccuracy\n",
    "from tensorflow.keras.optimizers import Adam\n",
    "from tensorflow.keras import regularizers"
   ]
  },
  {
   "cell_type": "code",
   "execution_count": 4,
   "metadata": {
    "execution": {
     "iopub.execute_input": "2021-04-30T11:28:33.777750Z",
     "iopub.status.busy": "2021-04-30T11:28:33.776765Z",
     "iopub.status.idle": "2021-04-30T11:28:33.780143Z",
     "shell.execute_reply": "2021-04-30T11:28:33.780731Z"
    },
    "executionInfo": {
     "elapsed": 9472,
     "status": "ok",
     "timestamp": 1614960212237,
     "user": {
      "displayName": "giovanni buroni",
      "photoUrl": "https://lh3.googleusercontent.com/a-/AOh14GjarG9foST_wpJ_PfvHTR0iWGuChdFnmm4ong7n=s64",
      "userId": "06127736531396060751"
     },
     "user_tz": -60
    },
    "id": "BhWfC-IG3Tkq",
    "papermill": {
     "duration": 0.04236,
     "end_time": "2021-04-30T11:28:33.780886",
     "exception": false,
     "start_time": "2021-04-30T11:28:33.738526",
     "status": "completed"
    },
    "tags": []
   },
   "outputs": [],
   "source": [
    "from numpy.random import seed\n",
    "\n",
    "# Reproducability\n",
    "def set_seed(seed=31415):\n",
    "    \n",
    "    np.random.seed(seed)\n",
    "    tf.random.set_seed(seed)\n",
    "    os.environ['PYTHONHASHSEED'] = str(seed)\n",
    "    os.environ['TF_DETERMINISTIC_OPS'] = '1'\n",
    "    \n",
    "set_seed(31415)"
   ]
  },
  {
   "cell_type": "code",
   "execution_count": 5,
   "metadata": {
    "execution": {
     "iopub.execute_input": "2021-04-30T11:28:33.854154Z",
     "iopub.status.busy": "2021-04-30T11:28:33.853476Z",
     "iopub.status.idle": "2021-04-30T11:28:59.759136Z",
     "shell.execute_reply": "2021-04-30T11:28:59.757863Z"
    },
    "executionInfo": {
     "elapsed": 28126,
     "status": "ok",
     "timestamp": 1614960230899,
     "user": {
      "displayName": "giovanni buroni",
      "photoUrl": "https://lh3.googleusercontent.com/a-/AOh14GjarG9foST_wpJ_PfvHTR0iWGuChdFnmm4ong7n=s64",
      "userId": "06127736531396060751"
     },
     "user_tz": -60
    },
    "id": "hmokpg02shPy",
    "papermill": {
     "duration": 25.944272,
     "end_time": "2021-04-30T11:28:59.759298",
     "exception": false,
     "start_time": "2021-04-30T11:28:33.815026",
     "status": "completed"
    },
    "tags": []
   },
   "outputs": [],
   "source": [
    "path_graph = '../input/graph-results/graph_adj_bxl.pkl'\n",
    "\n",
    "path_feat_flow = '../input/graph-results/FEATURES_flow_bxl.csv'\n",
    "path_feat_vel = '../input/graph-results/FEATURES_vel_bxl.csv'\n",
    "\n",
    "with open(path_graph,'rb') as f:\n",
    "    graph, adj_matrix, edges, G = pickle.load(f)\n",
    "\n",
    "adj_mx = nx.to_numpy_matrix(graph)\n",
    "\n",
    "# flow\n",
    "features_flow = pd.read_csv(path_feat_flow).iloc[:,1:].values\n",
    "# vel\n",
    "features_vel = pd.read_csv(path_feat_vel).iloc[:,1:].values"
   ]
  },
  {
   "cell_type": "code",
   "execution_count": 6,
   "metadata": {
    "execution": {
     "iopub.execute_input": "2021-04-30T11:28:59.836450Z",
     "iopub.status.busy": "2021-04-30T11:28:59.833843Z",
     "iopub.status.idle": "2021-04-30T11:28:59.837281Z",
     "shell.execute_reply": "2021-04-30T11:28:59.837846Z"
    },
    "executionInfo": {
     "elapsed": 28120,
     "status": "ok",
     "timestamp": 1614960230902,
     "user": {
      "displayName": "giovanni buroni",
      "photoUrl": "https://lh3.googleusercontent.com/a-/AOh14GjarG9foST_wpJ_PfvHTR0iWGuChdFnmm4ong7n=s64",
      "userId": "06127736531396060751"
     },
     "user_tz": -60
    },
    "id": "Q4R-q2lbshPy",
    "papermill": {
     "duration": 0.044535,
     "end_time": "2021-04-30T11:28:59.838037",
     "exception": false,
     "start_time": "2021-04-30T11:28:59.793502",
     "status": "completed"
    },
    "tags": []
   },
   "outputs": [],
   "source": [
    "# adj_matrix.shape"
   ]
  },
  {
   "cell_type": "code",
   "execution_count": 7,
   "metadata": {
    "execution": {
     "iopub.execute_input": "2021-04-30T11:28:59.909072Z",
     "iopub.status.busy": "2021-04-30T11:28:59.906499Z",
     "iopub.status.idle": "2021-04-30T11:28:59.909820Z",
     "shell.execute_reply": "2021-04-30T11:28:59.910346Z"
    },
    "executionInfo": {
     "elapsed": 28111,
     "status": "ok",
     "timestamp": 1614960230902,
     "user": {
      "displayName": "giovanni buroni",
      "photoUrl": "https://lh3.googleusercontent.com/a-/AOh14GjarG9foST_wpJ_PfvHTR0iWGuChdFnmm4ong7n=s64",
      "userId": "06127736531396060751"
     },
     "user_tz": -60
    },
    "id": "libFCZUSshPy",
    "papermill": {
     "duration": 0.039474,
     "end_time": "2021-04-30T11:28:59.910494",
     "exception": false,
     "start_time": "2021-04-30T11:28:59.871020",
     "status": "completed"
    },
    "tags": []
   },
   "outputs": [],
   "source": [
    "# features_flow.shape"
   ]
  },
  {
   "cell_type": "code",
   "execution_count": 8,
   "metadata": {
    "execution": {
     "iopub.execute_input": "2021-04-30T11:28:59.982481Z",
     "iopub.status.busy": "2021-04-30T11:28:59.980845Z",
     "iopub.status.idle": "2021-04-30T11:28:59.984458Z",
     "shell.execute_reply": "2021-04-30T11:28:59.984986Z"
    },
    "executionInfo": {
     "elapsed": 28102,
     "status": "ok",
     "timestamp": 1614960230903,
     "user": {
      "displayName": "giovanni buroni",
      "photoUrl": "https://lh3.googleusercontent.com/a-/AOh14GjarG9foST_wpJ_PfvHTR0iWGuChdFnmm4ong7n=s64",
      "userId": "06127736531396060751"
     },
     "user_tz": -60
    },
    "id": "_Xw3TcIrmEJA",
    "papermill": {
     "duration": 0.041517,
     "end_time": "2021-04-30T11:28:59.985164",
     "exception": false,
     "start_time": "2021-04-30T11:28:59.943647",
     "status": "completed"
    },
    "tags": []
   },
   "outputs": [],
   "source": [
    "# features_vel.shape"
   ]
  },
  {
   "cell_type": "code",
   "execution_count": 9,
   "metadata": {
    "execution": {
     "iopub.execute_input": "2021-04-30T11:29:00.057656Z",
     "iopub.status.busy": "2021-04-30T11:29:00.054857Z",
     "iopub.status.idle": "2021-04-30T11:29:00.058442Z",
     "shell.execute_reply": "2021-04-30T11:29:00.059000Z"
    },
    "executionInfo": {
     "elapsed": 28094,
     "status": "ok",
     "timestamp": 1614960230903,
     "user": {
      "displayName": "giovanni buroni",
      "photoUrl": "https://lh3.googleusercontent.com/a-/AOh14GjarG9foST_wpJ_PfvHTR0iWGuChdFnmm4ong7n=s64",
      "userId": "06127736531396060751"
     },
     "user_tz": -60
    },
    "id": "ZHtO7pnnxPQG",
    "papermill": {
     "duration": 0.041278,
     "end_time": "2021-04-30T11:29:00.059182",
     "exception": false,
     "start_time": "2021-04-30T11:29:00.017904",
     "status": "completed"
    },
    "tags": []
   },
   "outputs": [],
   "source": [
    "# PARAMETERS"
   ]
  },
  {
   "cell_type": "code",
   "execution_count": 10,
   "metadata": {
    "execution": {
     "iopub.execute_input": "2021-04-30T11:29:00.132425Z",
     "iopub.status.busy": "2021-04-30T11:29:00.131506Z",
     "iopub.status.idle": "2021-04-30T11:29:00.136050Z",
     "shell.execute_reply": "2021-04-30T11:29:00.136576Z"
    },
    "executionInfo": {
     "elapsed": 28082,
     "status": "ok",
     "timestamp": 1614960230904,
     "user": {
      "displayName": "giovanni buroni",
      "photoUrl": "https://lh3.googleusercontent.com/a-/AOh14GjarG9foST_wpJ_PfvHTR0iWGuChdFnmm4ong7n=s64",
      "userId": "06127736531396060751"
     },
     "user_tz": -60
    },
    "id": "sduHFHSexOTP",
    "papermill": {
     "duration": 0.043241,
     "end_time": "2021-04-30T11:29:00.136747",
     "exception": false,
     "start_time": "2021-04-30T11:29:00.093506",
     "status": "completed"
    },
    "tags": []
   },
   "outputs": [],
   "source": [
    "inputs = 12\n",
    "\n",
    "granularity = 2*2\n",
    "batch_train = 32 # best 32\n",
    "batch_test = 1"
   ]
  },
  {
   "cell_type": "markdown",
   "metadata": {
    "id": "8UvuJcrvshP0",
    "papermill": {
     "duration": 0.033453,
     "end_time": "2021-04-30T11:29:00.203524",
     "exception": false,
     "start_time": "2021-04-30T11:29:00.170071",
     "status": "completed"
    },
    "tags": []
   },
   "source": [
    "## split train/val/test"
   ]
  },
  {
   "cell_type": "code",
   "execution_count": 11,
   "metadata": {
    "execution": {
     "iopub.execute_input": "2021-04-30T11:29:00.304922Z",
     "iopub.status.busy": "2021-04-30T11:29:00.303741Z",
     "iopub.status.idle": "2021-04-30T11:29:01.587806Z",
     "shell.execute_reply": "2021-04-30T11:29:01.587123Z"
    },
    "executionInfo": {
     "elapsed": 28338,
     "status": "ok",
     "timestamp": 1614960231170,
     "user": {
      "displayName": "giovanni buroni",
      "photoUrl": "https://lh3.googleusercontent.com/a-/AOh14GjarG9foST_wpJ_PfvHTR0iWGuChdFnmm4ong7n=s64",
      "userId": "06127736531396060751"
     },
     "user_tz": -60
    },
    "id": "nd6kl3lOmOth",
    "papermill": {
     "duration": 1.351086,
     "end_time": "2021-04-30T11:29:01.587995",
     "exception": false,
     "start_time": "2021-04-30T11:29:00.236909",
     "status": "completed"
    },
    "tags": []
   },
   "outputs": [],
   "source": [
    "data_flow = features_flow[:, :-1]\n",
    "data_vel = features_vel[:, :-1]\n",
    "\n",
    "data = np.concatenate([data_flow, data_vel], axis=1)"
   ]
  },
  {
   "cell_type": "code",
   "execution_count": 12,
   "metadata": {
    "execution": {
     "iopub.execute_input": "2021-04-30T11:29:01.684221Z",
     "iopub.status.busy": "2021-04-30T11:29:01.683138Z",
     "iopub.status.idle": "2021-04-30T11:29:01.686165Z",
     "shell.execute_reply": "2021-04-30T11:29:01.685283Z"
    },
    "executionInfo": {
     "elapsed": 28330,
     "status": "ok",
     "timestamp": 1614960231170,
     "user": {
      "displayName": "giovanni buroni",
      "photoUrl": "https://lh3.googleusercontent.com/a-/AOh14GjarG9foST_wpJ_PfvHTR0iWGuChdFnmm4ong7n=s64",
      "userId": "06127736531396060751"
     },
     "user_tz": -60
    },
    "id": "FzAuBHy0mdO5",
    "papermill": {
     "duration": 0.064661,
     "end_time": "2021-04-30T11:29:01.686339",
     "exception": false,
     "start_time": "2021-04-30T11:29:01.621678",
     "status": "completed"
    },
    "tags": []
   },
   "outputs": [],
   "source": [
    "# data.shape"
   ]
  },
  {
   "cell_type": "code",
   "execution_count": 13,
   "metadata": {
    "execution": {
     "iopub.execute_input": "2021-04-30T11:29:01.801201Z",
     "iopub.status.busy": "2021-04-30T11:29:01.800112Z",
     "iopub.status.idle": "2021-04-30T11:29:01.802918Z",
     "shell.execute_reply": "2021-04-30T11:29:01.802117Z"
    },
    "executionInfo": {
     "elapsed": 28324,
     "status": "ok",
     "timestamp": 1614960231171,
     "user": {
      "displayName": "giovanni buroni",
      "photoUrl": "https://lh3.googleusercontent.com/a-/AOh14GjarG9foST_wpJ_PfvHTR0iWGuChdFnmm4ong7n=s64",
      "userId": "06127736531396060751"
     },
     "user_tz": -60
    },
    "id": "GqWVkLFlshP0",
    "papermill": {
     "duration": 0.064123,
     "end_time": "2021-04-30T11:29:01.803150",
     "exception": false,
     "start_time": "2021-04-30T11:29:01.739027",
     "status": "completed"
    },
    "tags": []
   },
   "outputs": [],
   "source": [
    "# Train/test split\n",
    "data_tr, data_te = data[:-168*2*granularity, :], data[-168*2*granularity:, :]"
   ]
  },
  {
   "cell_type": "code",
   "execution_count": 14,
   "metadata": {
    "execution": {
     "iopub.execute_input": "2021-04-30T11:29:02.010584Z",
     "iopub.status.busy": "2021-04-30T11:29:02.008913Z",
     "iopub.status.idle": "2021-04-30T11:29:02.015979Z",
     "shell.execute_reply": "2021-04-30T11:29:02.013281Z"
    },
    "executionInfo": {
     "elapsed": 28317,
     "status": "ok",
     "timestamp": 1614960231171,
     "user": {
      "displayName": "giovanni buroni",
      "photoUrl": "https://lh3.googleusercontent.com/a-/AOh14GjarG9foST_wpJ_PfvHTR0iWGuChdFnmm4ong7n=s64",
      "userId": "06127736531396060751"
     },
     "user_tz": -60
    },
    "id": "BcOJcaqSvih_",
    "papermill": {
     "duration": 0.160101,
     "end_time": "2021-04-30T11:29:02.016646",
     "exception": false,
     "start_time": "2021-04-30T11:29:01.856545",
     "status": "completed"
    },
    "tags": []
   },
   "outputs": [],
   "source": [
    "# Covariates"
   ]
  },
  {
   "cell_type": "code",
   "execution_count": 15,
   "metadata": {
    "execution": {
     "iopub.execute_input": "2021-04-30T11:29:02.104269Z",
     "iopub.status.busy": "2021-04-30T11:29:02.103158Z",
     "iopub.status.idle": "2021-04-30T11:29:02.145470Z",
     "shell.execute_reply": "2021-04-30T11:29:02.144395Z"
    },
    "executionInfo": {
     "elapsed": 28482,
     "status": "ok",
     "timestamp": 1614960231343,
     "user": {
      "displayName": "giovanni buroni",
      "photoUrl": "https://lh3.googleusercontent.com/a-/AOh14GjarG9foST_wpJ_PfvHTR0iWGuChdFnmm4ong7n=s64",
      "userId": "06127736531396060751"
     },
     "user_tz": -60
    },
    "id": "5GB9RXbYsoga",
    "papermill": {
     "duration": 0.094153,
     "end_time": "2021-04-30T11:29:02.145644",
     "exception": false,
     "start_time": "2021-04-30T11:29:02.051491",
     "status": "completed"
    },
    "tags": []
   },
   "outputs": [],
   "source": [
    "datetime = features_flow[:, -1]\n",
    "\n",
    "# for figures\n",
    "print_datetime = datetime[-168*2*granularity+inputs:]\n",
    "\n",
    "DATETIME = pd.DataFrame(datetime, columns=['Datetime'])\n",
    "DATETIME['Datetime'] = pd.to_datetime(DATETIME['Datetime'])\n",
    "\n",
    "DATETIME['minutes'] = DATETIME['Datetime'].dt.minute\n",
    "DATETIME['hour'] = DATETIME['Datetime'].dt.hour\n",
    "\n",
    "DATETIME['hour_x']=np.sin(DATETIME.hour*(2.*np.pi/23))\n",
    "DATETIME['hour_y']=np.cos(DATETIME.hour*(2.*np.pi/23))\n",
    "\n",
    "DATETIME['day'] = DATETIME['Datetime'].dt.day\n",
    "DATETIME['DayOfWeek'] = DATETIME['Datetime'].dt.dayofweek\n",
    "\n",
    "DATETIME['WorkingDays'] = DATETIME['DayOfWeek'].apply(lambda y: 2 if y < 5 else y)\n",
    "DATETIME['WorkingDays'] = DATETIME['WorkingDays'].apply(lambda y: 1 if y == 5 else y)\n",
    "DATETIME['WorkingDays'] = DATETIME['WorkingDays'].apply(lambda y: 0 if y == 6 else y)\n",
    "\n",
    "DATETIME = DATETIME.drop(['Datetime','minutes','hour','day'], axis=1).values\n",
    "\n",
    "# temporal features = 4\n",
    "feat_time = 4\n",
    "\n",
    "# datetime Train/test split\n",
    "time_tr, time_te = DATETIME[:-168*2*granularity, :], DATETIME[-168*2*granularity:, :]\n",
    "\n"
   ]
  },
  {
   "cell_type": "markdown",
   "metadata": {
    "id": "rnkgB_FYshP0",
    "papermill": {
     "duration": 0.034236,
     "end_time": "2021-04-30T11:29:02.213851",
     "exception": false,
     "start_time": "2021-04-30T11:29:02.179615",
     "status": "completed"
    },
    "tags": []
   },
   "source": [
    "## scale data"
   ]
  },
  {
   "cell_type": "code",
   "execution_count": 16,
   "metadata": {
    "execution": {
     "iopub.execute_input": "2021-04-30T11:29:04.230378Z",
     "iopub.status.busy": "2021-04-30T11:29:04.228938Z",
     "iopub.status.idle": "2021-04-30T11:29:07.132253Z",
     "shell.execute_reply": "2021-04-30T11:29:07.131619Z"
    },
    "executionInfo": {
     "elapsed": 29490,
     "status": "ok",
     "timestamp": 1614960232372,
     "user": {
      "displayName": "giovanni buroni",
      "photoUrl": "https://lh3.googleusercontent.com/a-/AOh14GjarG9foST_wpJ_PfvHTR0iWGuChdFnmm4ong7n=s64",
      "userId": "06127736531396060751"
     },
     "user_tz": -60
    },
    "id": "RjIvQ0QgshP1",
    "papermill": {
     "duration": 4.885341,
     "end_time": "2021-04-30T11:29:07.132450",
     "exception": false,
     "start_time": "2021-04-30T11:29:02.247109",
     "status": "completed"
    },
    "tags": []
   },
   "outputs": [],
   "source": [
    "scaler = MinMaxScaler(feature_range=(0, 1))\n",
    "scaler_cov = MinMaxScaler(feature_range=(0, 1))\n",
    "\n",
    "# fit and transform\n",
    "scaled_tr = scaler.fit_transform(data_tr)\n",
    "# transform\n",
    "scaled_te = scaler.transform(data_te)\n",
    "\n",
    "# fit and transform\n",
    "scaled_tr_cov = scaler_cov.fit_transform(time_tr)\n",
    "# transform\n",
    "scaled_te_cov = scaler_cov.transform(time_te)"
   ]
  },
  {
   "cell_type": "markdown",
   "metadata": {
    "id": "nsmXb48sshP1",
    "papermill": {
     "duration": 0.033593,
     "end_time": "2021-04-30T11:29:07.200187",
     "exception": false,
     "start_time": "2021-04-30T11:29:07.166594",
     "status": "completed"
    },
    "tags": []
   },
   "source": [
    "## prepare data for deep learning"
   ]
  },
  {
   "cell_type": "code",
   "execution_count": 17,
   "metadata": {
    "execution": {
     "iopub.execute_input": "2021-04-30T11:29:07.276485Z",
     "iopub.status.busy": "2021-04-30T11:29:07.275535Z",
     "iopub.status.idle": "2021-04-30T11:29:07.279079Z",
     "shell.execute_reply": "2021-04-30T11:29:07.279690Z"
    },
    "executionInfo": {
     "elapsed": 29482,
     "status": "ok",
     "timestamp": 1614960232373,
     "user": {
      "displayName": "giovanni buroni",
      "photoUrl": "https://lh3.googleusercontent.com/a-/AOh14GjarG9foST_wpJ_PfvHTR0iWGuChdFnmm4ong7n=s64",
      "userId": "06127736531396060751"
     },
     "user_tz": -60
    },
    "id": "sQiniFq0shP2",
    "papermill": {
     "duration": 0.04592,
     "end_time": "2021-04-30T11:29:07.279846",
     "exception": false,
     "start_time": "2021-04-30T11:29:07.233926",
     "status": "completed"
    },
    "tags": []
   },
   "outputs": [],
   "source": [
    "def prepare_data_DL(INPUT, FEAT, BATCH):\n",
    "    \n",
    "    dataset = FEAT.reshape(FEAT.shape[0], FEAT.shape[1]) \n",
    "    dataset = tf.data.Dataset.from_tensor_slices(dataset)\n",
    "\n",
    "    inputs = dataset.window(INPUT,  shift=1,  stride=1,  drop_remainder=True)\n",
    "    inputs = inputs.flat_map(lambda window: window.batch(INPUT))\n",
    "\n",
    "    targets = dataset.window(INPUT, shift=1,  stride=1,  drop_remainder=True).skip(INPUT)\n",
    "    targets = targets.flat_map(lambda window: window.batch(INPUT))\n",
    "\n",
    "    dataset = tf.data.Dataset.zip((inputs, targets))\n",
    "    dataset = dataset.batch(BATCH).prefetch(tf.data.experimental.AUTOTUNE)\n",
    "\n",
    "\n",
    "    return dataset"
   ]
  },
  {
   "cell_type": "code",
   "execution_count": 18,
   "metadata": {
    "execution": {
     "iopub.execute_input": "2021-04-30T11:29:08.501213Z",
     "iopub.status.busy": "2021-04-30T11:29:08.500332Z",
     "iopub.status.idle": "2021-04-30T11:29:11.291219Z",
     "shell.execute_reply": "2021-04-30T11:29:11.291734Z"
    },
    "executionInfo": {
     "elapsed": 35140,
     "status": "ok",
     "timestamp": 1614960238039,
     "user": {
      "displayName": "giovanni buroni",
      "photoUrl": "https://lh3.googleusercontent.com/a-/AOh14GjarG9foST_wpJ_PfvHTR0iWGuChdFnmm4ong7n=s64",
      "userId": "06127736531396060751"
     },
     "user_tz": -60
    },
    "id": "FIs0wUItshP2",
    "papermill": {
     "duration": 3.977571,
     "end_time": "2021-04-30T11:29:11.292072",
     "exception": false,
     "start_time": "2021-04-30T11:29:07.314501",
     "status": "completed"
    },
    "tags": []
   },
   "outputs": [],
   "source": [
    "# features\n",
    "loader_tr = prepare_data_DL(inputs, scaled_tr, batch_train)\n",
    "loader_te = prepare_data_DL(inputs, scaled_te, batch_test)\n",
    "\n",
    "# covariates\n",
    "loader_tr_cov = prepare_data_DL(inputs, scaled_tr_cov, batch_train)\n",
    "loader_te_cov = prepare_data_DL(inputs, scaled_te_cov, batch_test)"
   ]
  },
  {
   "cell_type": "code",
   "execution_count": 19,
   "metadata": {
    "execution": {
     "iopub.execute_input": "2021-04-30T11:29:11.436442Z",
     "iopub.status.busy": "2021-04-30T11:29:11.435223Z",
     "iopub.status.idle": "2021-04-30T11:29:12.015617Z",
     "shell.execute_reply": "2021-04-30T11:29:12.016659Z"
    },
    "executionInfo": {
     "elapsed": 35378,
     "status": "ok",
     "timestamp": 1614960238308,
     "user": {
      "displayName": "giovanni buroni",
      "photoUrl": "https://lh3.googleusercontent.com/a-/AOh14GjarG9foST_wpJ_PfvHTR0iWGuChdFnmm4ong7n=s64",
      "userId": "06127736531396060751"
     },
     "user_tz": -60
    },
    "id": "oYHppaM9shP3",
    "papermill": {
     "duration": 0.657533,
     "end_time": "2021-04-30T11:29:12.016859",
     "exception": false,
     "start_time": "2021-04-30T11:29:11.359326",
     "status": "completed"
    },
    "tags": []
   },
   "outputs": [],
   "source": [
    "l2_reg = 5e-4  # Regularization rate for l2\n",
    "\n",
    "# Build model\n",
    "class GCN_Net(Model):\n",
    "    \n",
    "    def __init__(self, **kwargs):\n",
    "        \n",
    "        super().__init__(**kwargs)\n",
    "        \n",
    "        \n",
    "        self.street = 4524\n",
    "\n",
    "\n",
    "        # GCN 1st order approximation\n",
    "        self.gcn_flow_0_enc = GCNConv(12, activation=\"relu\", kernel_regularizer=l2(l2_reg), use_bias=False)\n",
    "        self.gcn_flow_1_enc = GCNConv(12, activation=\"relu\", kernel_regularizer=l2(l2_reg), use_bias=False)\n",
    "\n",
    "        self.gcn_vel_0_enc = GCNConv(12, activation=\"relu\", kernel_regularizer=l2(l2_reg), use_bias=False)\n",
    "        self.gcn_vel_1_enc = GCNConv(12, activation=\"relu\", kernel_regularizer=l2(l2_reg), use_bias=False)\n",
    "\n",
    "\n",
    "###################\n",
    "\n",
    "        # encoder GRU FLOW\n",
    "        self.lstm_cells_flow_init = tf.keras.layers.GRUCell(150, \n",
    "                                        kernel_initializer='glorot_uniform',\n",
    "                                        recurrent_initializer='glorot_uniform',\n",
    "                                        kernel_regularizer=regularizers.l2(0.001),\n",
    "                                        bias_initializer='zeros', dropout=0.0) \n",
    "        \n",
    "        self.lstm_flow_init = tf.keras.layers.RNN(self.lstm_cells_flow_init, return_sequences = True, return_state =True)\n",
    "\n",
    "\n",
    "\n",
    "        # decoder GRU FLOW\n",
    "        self.lstm_cells_flow_fin = tf.keras.layers.GRUCell(150, \n",
    "                                        kernel_initializer='glorot_uniform',\n",
    "                                        recurrent_initializer='glorot_uniform',\n",
    "                                        kernel_regularizer=regularizers.l2(0.001),\n",
    "                                        bias_initializer='zeros', dropout=0.0) \n",
    "        \n",
    "        self.lstm_flow_fin = tf.keras.layers.RNN(self.lstm_cells_flow_fin)\n",
    "\n",
    "\n",
    "\n",
    "\n",
    "        self.drop_flow = tf.keras.layers.Dropout(0.1)\n",
    "\n",
    "        self.dense_flow_fin = tf.keras.layers.Dense(self.street*12,\n",
    "                                           kernel_regularizer=regularizers.l2(0.001))\n",
    "        \n",
    "        \n",
    "        # self.dense_flow_fin = tf.keras.layers.TimeDistributed(tf.keras.layers.Dense(5975,\n",
    "        #                                    kernel_regularizer=regularizers.l2(0.001)))\n",
    "        \n",
    "\n",
    "\n",
    "\n",
    "\n",
    "##########################\n",
    "\n",
    "        # encoder GRU VEL\n",
    "        self.lstm_cells_vel_init = tf.keras.layers.GRUCell(150, \n",
    "                                        kernel_initializer='glorot_uniform',\n",
    "                                        recurrent_initializer='glorot_uniform',\n",
    "                                        kernel_regularizer=regularizers.l2(0.001),\n",
    "                                        bias_initializer='zeros', dropout=0.0) \n",
    "        \n",
    "        self.lstm_vel_init = tf.keras.layers.RNN(self.lstm_cells_vel_init, return_sequences = True, return_state =True)\n",
    "\n",
    "\n",
    "\n",
    "\n",
    "        # decoder GRU VEL\n",
    "        self.lstm_cells_vel_fin = tf.keras.layers.GRUCell(150, \n",
    "                                        kernel_initializer='glorot_uniform',\n",
    "                                        recurrent_initializer='glorot_uniform',\n",
    "                                        kernel_regularizer=regularizers.l2(0.001),\n",
    "                                        bias_initializer='zeros', dropout=0.0) \n",
    "        \n",
    "        self.lstm_vel_fin = tf.keras.layers.RNN(self.lstm_cells_vel_fin)\n",
    "\n",
    "\n",
    "\n",
    "\n",
    "        self.drop_vel = tf.keras.layers.Dropout(0.1)\n",
    "\n",
    "\n",
    "        self.dense_vel_fin = tf.keras.layers.Dense(self.street*12,\n",
    "                                           kernel_regularizer=regularizers.l2(0.001))\n",
    "        \n",
    "        \n",
    "        # self.dense_vel_fin = tf.keras.layers.TimeDistributed(tf.keras.layers.Dense(5975,\n",
    "        #                                    kernel_regularizer=regularizers.l2(0.001)))\n",
    "        \n",
    "        \n",
    "##################################\n",
    "\n",
    "        self.attention_flow = tf.keras.layers.MultiHeadAttention(num_heads=4, key_dim=4)\n",
    "        self.attention_vel = tf.keras.layers.MultiHeadAttention(num_heads=4, key_dim=4)\n",
    "\n",
    "\n",
    "        self.dense_temporal_0 = tf.keras.layers.Dense(150, activation ='relu') #tf.keras.layers.TimeDistributed()\n",
    "        self.dense_temporal_1 = tf.keras.layers.Dense(64, activation ='relu')\n",
    "        self.dense_temporal_2 = tf.keras.layers.Dense(150)\n",
    "\n",
    "\n",
    "        self.drop = tf.keras.layers.Dropout(0.1)   \n",
    "\n",
    "        self.add = tf.keras.layers.Add()\n",
    "        self.norm = tf.keras.layers.LayerNormalization()\n",
    "\n",
    "        self.reshape = tf.keras.layers.Reshape([12, self.street])\n",
    "        self.repeat = tf.keras.layers.RepeatVector(12)\n",
    "        \n",
    "\n",
    "    def call(self, flow_vel, a, past_cov, fut_cov):\n",
    "\n",
    "        # sparse matrix\n",
    "        sparse_a = tf.sparse.from_dense(a)\n",
    "        \n",
    "        past_cov = tf.cast(past_cov, dtype=tf.float32)\n",
    "\n",
    "        # lapl_a = gcn_filter(sparse_a, symmetric=True)\n",
    "        # Cheb_a = chebyshev_filter(sparse_a, 2, symmetric=True)\n",
    "\n",
    "\n",
    "\n",
    "        # flow\n",
    "        flow_0 = flow_vel[:, :, :-self.street]\n",
    "        # velocity\n",
    "        vel_0  = flow_vel[:, :, -self.street:]\n",
    "        \n",
    "\n",
    "        # shape for gcn\n",
    "        flow_sh = tf.reshape(flow_0 , [flow_0.shape[0], flow_0 .shape[2], flow_0.shape[1]])\n",
    "        vel_sh = tf.reshape(vel_0 , [vel_0.shape[0], vel_0.shape[2], vel_0.shape[1]])\n",
    "\n",
    "        # two gcn on flow and vel\n",
    "        gcn_flow = self.gcn_flow_0_enc([flow_sh, sparse_a])\n",
    "        gcn_flow = self.gcn_flow_1_enc([gcn_flow, sparse_a])\n",
    "\n",
    "\n",
    "        # gcn_flow = self.cheb_flow([flow_sh, sparse_a])\n",
    "\n",
    "        gcn_vel = self.gcn_vel_0_enc([vel_sh, sparse_a])\n",
    "        gcn_vel = self.gcn_vel_1_enc([gcn_vel, sparse_a])\n",
    "\n",
    "        # gcn_vel = self.cheb_vel([vel_sh, sparse_a])\n",
    "\n",
    "        # shape for lstm\n",
    "        flow_sh = tf.reshape(gcn_flow, [gcn_flow.shape[0], gcn_flow.shape[2], gcn_flow.shape[1]])\n",
    "        vel_sh = tf.reshape(gcn_vel, [gcn_vel.shape[0], gcn_vel.shape[2], gcn_vel.shape[1]])\n",
    "\n",
    "\n",
    "        \n",
    "        # two lstm models\n",
    "        flow_init, h_flow = self.lstm_flow_init(flow_sh)\n",
    "        vel_init, h_vel = self.lstm_vel_init(vel_sh)\n",
    "\n",
    "\n",
    "        # flow_init = self.repeat(h_flow)#\n",
    "        # vel_init = self.repeat(h_vel)#\n",
    "\n",
    "\n",
    "\n",
    "        # merge layer\n",
    "        # output\n",
    "        flow_vel_i = tf.concat([flow_init, vel_init], axis=2) # \n",
    "\n",
    "        flow_vel = self.dense_temporal_0(flow_vel_i)\n",
    "        flow_vel = self.dense_temporal_1(flow_vel)\n",
    "        flow_vel_f = self.dense_temporal_2(flow_vel)\n",
    "\n",
    "\n",
    "        # add\n",
    "        add_flow = self.add([flow_init, flow_vel_f]) # flow_vel, flow_init\n",
    "        add_vel = self.add([vel_init, flow_vel_f]) # vel_init\n",
    "\n",
    "# -----\n",
    "\n",
    "        # concatenate covariates\n",
    "        # output flow_vel - covariates\n",
    "        fut_cov = tf.cast(fut_cov, dtype=tf.float32)\n",
    "        concat_flow = tf.concat([add_flow, fut_cov], axis=2)\n",
    "        concat_vel = tf.concat([add_vel, fut_cov], axis=2)\n",
    "  \n",
    "        # two models for flow and speed respectively\n",
    "\n",
    "        # flow\n",
    "        flow_final = self.lstm_flow_fin(concat_flow , initial_state = [flow_vel_f[:,-1,:]]) # , initial_state = [flow_vel_f]) #  flow_vel_f, h_flow flow_vel_f[:,-1,:]\n",
    "        flow = self.drop_flow(flow_final)\n",
    "        flow = self.dense_flow_fin(flow)\n",
    "        flow = self.reshape(flow)\n",
    "\n",
    "\n",
    "        # velocity\n",
    "        vel_final = self.lstm_vel_fin(concat_vel, initial_state = [flow_vel_f[:,-1,:]]) # , initial_state = [flow_vel_f]) \n",
    "        vel = self.drop_vel(vel_final)\n",
    "        vel = self.dense_vel_fin(vel)\n",
    "        vel = self.reshape(vel)\n",
    "\n",
    "\n",
    "        # concatenate two finals results\n",
    "        final = tf.concat([flow, vel], axis=-1)\n",
    "\n",
    "        return final\n",
    "\n",
    "\n",
    "# Create model\n",
    "model = GCN_Net()\n",
    "optimizer = Adam(lr=0.001)\n",
    "loss_fn = tf.keras.losses.MeanAbsoluteError()"
   ]
  },
  {
   "cell_type": "code",
   "execution_count": 20,
   "metadata": {
    "execution": {
     "iopub.execute_input": "2021-04-30T11:29:12.103719Z",
     "iopub.status.busy": "2021-04-30T11:29:12.102243Z",
     "iopub.status.idle": "2021-04-30T11:31:19.981771Z",
     "shell.execute_reply": "2021-04-30T11:31:19.981167Z"
    },
    "executionInfo": {
     "elapsed": 56474,
     "status": "ok",
     "timestamp": 1614960259412,
     "user": {
      "displayName": "giovanni buroni",
      "photoUrl": "https://lh3.googleusercontent.com/a-/AOh14GjarG9foST_wpJ_PfvHTR0iWGuChdFnmm4ong7n=s64",
      "userId": "06127736531396060751"
     },
     "user_tz": -60
    },
    "id": "NAuLnUrpdmzz",
    "papermill": {
     "duration": 127.924325,
     "end_time": "2021-04-30T11:31:19.981981",
     "exception": false,
     "start_time": "2021-04-30T11:29:12.057656",
     "status": "completed"
    },
    "tags": []
   },
   "outputs": [],
   "source": [
    "adj_matrix = gcn_filter(adj_matrix, symmetric=True)"
   ]
  },
  {
   "cell_type": "code",
   "execution_count": 21,
   "metadata": {
    "execution": {
     "iopub.execute_input": "2021-04-30T11:31:20.542154Z",
     "iopub.status.busy": "2021-04-30T11:31:20.539677Z",
     "iopub.status.idle": "2021-04-30T11:31:20.545251Z",
     "shell.execute_reply": "2021-04-30T11:31:20.544670Z"
    },
    "papermill": {
     "duration": 0.527926,
     "end_time": "2021-04-30T11:31:20.545398",
     "exception": false,
     "start_time": "2021-04-30T11:31:20.017472",
     "status": "completed"
    },
    "tags": []
   },
   "outputs": [
    {
     "data": {
      "text/plain": [
       "40"
      ]
     },
     "execution_count": 21,
     "metadata": {},
     "output_type": "execute_result"
    }
   ],
   "source": [
    "del data_tr, data_te, data_flow, data_vel, data, scaled_tr, scaled_te\n",
    "gc.collect()"
   ]
  },
  {
   "cell_type": "code",
   "execution_count": 22,
   "metadata": {
    "execution": {
     "iopub.execute_input": "2021-04-30T11:31:20.624503Z",
     "iopub.status.busy": "2021-04-30T11:31:20.623585Z",
     "iopub.status.idle": "2021-04-30T11:31:20.627490Z",
     "shell.execute_reply": "2021-04-30T11:31:20.626756Z"
    },
    "executionInfo": {
     "elapsed": 56467,
     "status": "ok",
     "timestamp": 1614960259414,
     "user": {
      "displayName": "giovanni buroni",
      "photoUrl": "https://lh3.googleusercontent.com/a-/AOh14GjarG9foST_wpJ_PfvHTR0iWGuChdFnmm4ong7n=s64",
      "userId": "06127736531396060751"
     },
     "user_tz": -60
    },
    "id": "c-ua6TRjshP3",
    "papermill": {
     "duration": 0.046098,
     "end_time": "2021-04-30T11:31:20.627648",
     "exception": false,
     "start_time": "2021-04-30T11:31:20.581550",
     "status": "completed"
    },
    "tags": []
   },
   "outputs": [],
   "source": [
    "# Training function\n",
    "@tf.function\n",
    "def train_on_batch(inputs, target, past_cov, fut_cov):\n",
    "    \n",
    "    loss = 0\n",
    "\n",
    "    with tf.GradientTape() as tape:\n",
    "        \n",
    "        predictions = model(inputs, adj_matrix, past_cov, fut_cov, training=True)\n",
    "        \n",
    "        loss = loss_fn(target, predictions)\n",
    "\n",
    "    variables = model.trainable_variables \n",
    "\n",
    "    gradients = tape.gradient(loss, variables)\n",
    "\n",
    "    optimizer.apply_gradients(zip(gradients, variables))\n",
    "    \n",
    "    return loss"
   ]
  },
  {
   "cell_type": "code",
   "execution_count": 23,
   "metadata": {
    "execution": {
     "iopub.execute_input": "2021-04-30T11:31:20.711024Z",
     "iopub.status.busy": "2021-04-30T11:31:20.709946Z",
     "iopub.status.idle": "2021-04-30T11:46:21.341388Z",
     "shell.execute_reply": "2021-04-30T11:46:21.341935Z"
    },
    "executionInfo": {
     "elapsed": 1562125,
     "status": "ok",
     "timestamp": 1614961765081,
     "user": {
      "displayName": "giovanni buroni",
      "photoUrl": "https://lh3.googleusercontent.com/a-/AOh14GjarG9foST_wpJ_PfvHTR0iWGuChdFnmm4ong7n=s64",
      "userId": "06127736531396060751"
     },
     "user_tz": -60
    },
    "id": "mDbqw5X4shP3",
    "outputId": "f92e6f1a-8ac0-4d6f-a6a3-3a5e4241c2e8",
    "papermill": {
     "duration": 900.677344,
     "end_time": "2021-04-30T11:46:21.342159",
     "exception": false,
     "start_time": "2021-04-30T11:31:20.664815",
     "status": "completed"
    },
    "tags": []
   },
   "outputs": [
    {
     "name": "stdout",
     "output_type": "stream",
     "text": [
      "Epoch 0: Loss MAE: 0.0549\n",
      "Epoch 10: Loss MAE: 0.0461\n",
      "Epoch 20: Loss MAE: 0.0452\n",
      "Epoch 30: Loss MAE: 0.0448\n",
      "Epoch 40: Loss MAE: 0.0446\n",
      "Epoch 50: Loss MAE: 0.0444\n",
      "Epoch 60: Loss MAE: 0.0445\n",
      "Epoch 70: Loss MAE: 0.0442\n",
      "Time taken for 1 epoch 11.458590269088745 sec\n",
      "\n"
     ]
    }
   ],
   "source": [
    "EPOCHS = 75\n",
    "\n",
    "# Keep results for plotting\n",
    "train_loss_results = []\n",
    "\n",
    "samples_cov = list(loader_tr_cov)\n",
    "\n",
    "for epoch in range(EPOCHS):\n",
    "    \n",
    "    start = time.time()\n",
    "\n",
    "    epoch_loss_avg = tf.keras.metrics.Mean()\n",
    "     \n",
    "    step = 0\n",
    "\n",
    "    for batch in loader_tr:\n",
    "\n",
    "        cov = samples_cov[step]\n",
    "        past_cov = cov[0]\n",
    "        fut_cov = cov[1]\n",
    "        \n",
    "        # Training step\n",
    "        inputs, target = batch\n",
    "        \n",
    "        loss = train_on_batch(inputs, target, past_cov, fut_cov)\n",
    "        \n",
    "        # Track progress\n",
    "        epoch_loss_avg.update_state(loss)\n",
    "\n",
    "        step+=1\n",
    "\n",
    "    # End epoch\n",
    "    train_loss_results.append(epoch_loss_avg.result())\n",
    "\n",
    "    if epoch % 10 == 0:\n",
    "            print(\"Epoch {}: Loss MAE: {:.4f}\".format(epoch, epoch_loss_avg.result()))\n",
    "        \n",
    "print('Time taken for 1 epoch {} sec\\n'.format(time.time() - start))"
   ]
  },
  {
   "cell_type": "code",
   "execution_count": 24,
   "metadata": {
    "execution": {
     "iopub.execute_input": "2021-04-30T11:46:21.437092Z",
     "iopub.status.busy": "2021-04-30T11:46:21.436001Z",
     "iopub.status.idle": "2021-04-30T11:46:21.725869Z",
     "shell.execute_reply": "2021-04-30T11:46:21.725308Z"
    },
    "executionInfo": {
     "elapsed": 1562782,
     "status": "ok",
     "timestamp": 1614961765750,
     "user": {
      "displayName": "giovanni buroni",
      "photoUrl": "https://lh3.googleusercontent.com/a-/AOh14GjarG9foST_wpJ_PfvHTR0iWGuChdFnmm4ong7n=s64",
      "userId": "06127736531396060751"
     },
     "user_tz": -60
    },
    "id": "igL4S8uAshP4",
    "outputId": "a25ab1c0-51a9-4fe1-f373-3dc567cebf37",
    "papermill": {
     "duration": 0.345152,
     "end_time": "2021-04-30T11:46:21.726103",
     "exception": false,
     "start_time": "2021-04-30T11:46:21.380951",
     "status": "completed"
    },
    "tags": []
   },
   "outputs": [
    {
     "data": {
      "image/png": "[encoded data removed]",
      "text/plain": [
       "<Figure size 864x576 with 1 Axes>"
      ]
     },
     "metadata": {
      "needs_background": "light"
     },
     "output_type": "display_data"
    }
   ],
   "source": [
    "fig, axes = plt.subplots(1, sharex=True, figsize=(12, 8))\n",
    "fig.suptitle('Training Metrics')\n",
    "\n",
    "axes.set_ylabel(\"Loss (MAE)\", fontsize=14)\n",
    "axes.plot(train_loss_results)\n",
    "axes.set_xlabel(\"Epoch\", fontsize=14)\n",
    "plt.show()"
   ]
  },
  {
   "cell_type": "code",
   "execution_count": 25,
   "metadata": {
    "execution": {
     "iopub.execute_input": "2021-04-30T11:46:21.817323Z",
     "iopub.status.busy": "2021-04-30T11:46:21.815165Z",
     "iopub.status.idle": "2021-04-30T11:46:21.818162Z",
     "shell.execute_reply": "2021-04-30T11:46:21.818744Z"
    },
    "executionInfo": {
     "elapsed": 1562772,
     "status": "ok",
     "timestamp": 1614961765753,
     "user": {
      "displayName": "giovanni buroni",
      "photoUrl": "https://lh3.googleusercontent.com/a-/AOh14GjarG9foST_wpJ_PfvHTR0iWGuChdFnmm4ong7n=s64",
      "userId": "06127736531396060751"
     },
     "user_tz": -60
    },
    "id": "5sPebFR-shP4",
    "papermill": {
     "duration": 0.05016,
     "end_time": "2021-04-30T11:46:21.818912",
     "exception": false,
     "start_time": "2021-04-30T11:46:21.768752",
     "status": "completed"
    },
    "tags": []
   },
   "outputs": [],
   "source": [
    "def inverse_transform(forecasts, scaler):\n",
    "    # invert scaling\n",
    "    inv_pred = scaler.inverse_transform(forecasts)\n",
    "    return inv_pred"
   ]
  },
  {
   "cell_type": "code",
   "execution_count": 26,
   "metadata": {
    "execution": {
     "iopub.execute_input": "2021-04-30T11:46:21.910495Z",
     "iopub.status.busy": "2021-04-30T11:46:21.909492Z",
     "iopub.status.idle": "2021-04-30T11:46:21.912767Z",
     "shell.execute_reply": "2021-04-30T11:46:21.912203Z"
    },
    "executionInfo": {
     "elapsed": 1562765,
     "status": "ok",
     "timestamp": 1614961765754,
     "user": {
      "displayName": "giovanni buroni",
      "photoUrl": "https://lh3.googleusercontent.com/a-/AOh14GjarG9foST_wpJ_PfvHTR0iWGuChdFnmm4ong7n=s64",
      "userId": "06127736531396060751"
     },
     "user_tz": -60
    },
    "id": "pHksYSD3GCkR",
    "papermill": {
     "duration": 0.052768,
     "end_time": "2021-04-30T11:46:21.912923",
     "exception": false,
     "start_time": "2021-04-30T11:46:21.860155",
     "status": "completed"
    },
    "tags": []
   },
   "outputs": [],
   "source": [
    "def evaluate_forecasts(targets, forecasts, n_seq):\n",
    "    \n",
    "    list_rmse = []\n",
    "    list_mae = []\n",
    "    \n",
    "    for i in range(n_seq):\n",
    "        true = np.vstack([target[i] for target in targets])\n",
    "        predicted = np.vstack([forecast[i] for forecast in forecasts])\n",
    "        \n",
    "        rmse = np.sqrt((np.square(true - predicted)).mean(axis=0))\n",
    "        mae = np.absolute(true - predicted).mean(axis=0)\n",
    "        \n",
    "        list_rmse.append(rmse)\n",
    "        list_mae.append(mae)\n",
    "        \n",
    "    list_rmse = np.vstack(list_rmse)\n",
    "    list_mae = np.vstack(list_mae)\n",
    "    \n",
    "    return list_rmse, list_mae"
   ]
  },
  {
   "cell_type": "code",
   "execution_count": 27,
   "metadata": {
    "execution": {
     "iopub.execute_input": "2021-04-30T11:46:22.005023Z",
     "iopub.status.busy": "2021-04-30T11:46:22.003892Z",
     "iopub.status.idle": "2021-04-30T12:33:15.617156Z",
     "shell.execute_reply": "2021-04-30T12:33:15.615674Z"
    },
    "executionInfo": {
     "elapsed": 2305876,
     "status": "ok",
     "timestamp": 1614962508873,
     "user": {
      "displayName": "giovanni buroni",
      "photoUrl": "https://lh3.googleusercontent.com/a-/AOh14GjarG9foST_wpJ_PfvHTR0iWGuChdFnmm4ong7n=s64",
      "userId": "06127736531396060751"
     },
     "user_tz": -60
    },
    "id": "-VfOJ2z9shP4",
    "outputId": "6eb743e6-552a-4ddb-ab61-2fe6e025d077",
    "papermill": {
     "duration": 2813.664203,
     "end_time": "2021-04-30T12:33:15.617334",
     "exception": false,
     "start_time": "2021-04-30T11:46:21.953131",
     "status": "completed"
    },
    "tags": []
   },
   "outputs": [],
   "source": [
    "forecasts = []\n",
    "targets = []\n",
    "\n",
    "rmse_list = []\n",
    "mae_list = []\n",
    "\n",
    "samples_cov = list(loader_te_cov)\n",
    "\n",
    "del loader_te_cov, loader_tr, loader_tr_cov\n",
    "gc.collect()\n",
    "    \n",
    "for (step, (inp, targ)) in enumerate(loader_te):\n",
    "    \n",
    "            \n",
    "        timestamp = print_datetime[step]\n",
    "\n",
    "        cov = samples_cov[step]\n",
    "        past_cov = cov[0]\n",
    "        fut_cov = cov[1]\n",
    "        \n",
    "        pred  = model(inp, adj_matrix, past_cov, fut_cov, training=False)\n",
    "        \n",
    "        truth = inverse_transform(targ[0],  scaler)\n",
    "        pred = inverse_transform(pred[0],  scaler)\n",
    "        \n",
    "        forecasts.append(pred)\n",
    "        targets.append(truth)\n",
    "\n",
    "        rmse, mae = evaluate_forecasts(targets, forecasts, 12)\n",
    "           \n",
    "        rmse_list.append(rmse)\n",
    "        mae_list.append(mae)\n",
    "        \n",
    "        del pred, truth, inp, targ, fut_cov, past_cov, timestamp, cov, rmse, mae\n",
    "        gc.collect()\n"
   ]
  },
  {
   "cell_type": "code",
   "execution_count": 28,
   "metadata": {
    "execution": {
     "iopub.execute_input": "2021-04-30T12:33:15.711382Z",
     "iopub.status.busy": "2021-04-30T12:33:15.709586Z",
     "iopub.status.idle": "2021-04-30T12:33:16.756130Z",
     "shell.execute_reply": "2021-04-30T12:33:16.756884Z"
    },
    "executionInfo": {
     "elapsed": 2306631,
     "status": "ok",
     "timestamp": 1614962509637,
     "user": {
      "displayName": "giovanni buroni",
      "photoUrl": "https://lh3.googleusercontent.com/a-/AOh14GjarG9foST_wpJ_PfvHTR0iWGuChdFnmm4ong7n=s64",
      "userId": "06127736531396060751"
     },
     "user_tz": -60
    },
    "id": "FcbFoft2A95Q",
    "outputId": "298a65ae-fc86-4f65-98d7-fedeb0fc60f9",
    "papermill": {
     "duration": 1.095994,
     "end_time": "2021-04-30T12:33:16.757086",
     "exception": false,
     "start_time": "2021-04-30T12:33:15.661092",
     "status": "completed"
    },
    "tags": []
   },
   "outputs": [
    {
     "data": {
      "text/plain": [
       "4.8855516810786845"
      ]
     },
     "execution_count": 28,
     "metadata": {},
     "output_type": "execute_result"
    }
   ],
   "source": [
    "np.mean(rmse_list)"
   ]
  },
  {
   "cell_type": "code",
   "execution_count": 29,
   "metadata": {
    "execution": {
     "iopub.execute_input": "2021-04-30T12:33:16.852851Z",
     "iopub.status.busy": "2021-04-30T12:33:16.851183Z",
     "iopub.status.idle": "2021-04-30T12:33:17.544848Z",
     "shell.execute_reply": "2021-04-30T12:33:17.545494Z"
    },
    "executionInfo": {
     "elapsed": 2306795,
     "status": "ok",
     "timestamp": 1614962509811,
     "user": {
      "displayName": "giovanni buroni",
      "photoUrl": "https://lh3.googleusercontent.com/a-/AOh14GjarG9foST_wpJ_PfvHTR0iWGuChdFnmm4ong7n=s64",
      "userId": "06127736531396060751"
     },
     "user_tz": -60
    },
    "id": "sB4n8CvNBF-n",
    "outputId": "7968c6e4-8553-4367-d00b-f15d591b05e8",
    "papermill": {
     "duration": 0.744883,
     "end_time": "2021-04-30T12:33:17.545667",
     "exception": false,
     "start_time": "2021-04-30T12:33:16.800784",
     "status": "completed"
    },
    "tags": []
   },
   "outputs": [
    {
     "data": {
      "text/plain": [
       "2.1799414013149767"
      ]
     },
     "execution_count": 29,
     "metadata": {},
     "output_type": "execute_result"
    }
   ],
   "source": [
    "np.mean(mae_list)"
   ]
  },
  {
   "cell_type": "code",
   "execution_count": 30,
   "metadata": {
    "execution": {
     "iopub.execute_input": "2021-04-30T12:33:17.637946Z",
     "iopub.status.busy": "2021-04-30T12:33:17.636499Z",
     "iopub.status.idle": "2021-04-30T12:33:20.639480Z",
     "shell.execute_reply": "2021-04-30T12:33:20.638507Z"
    },
    "executionInfo": {
     "elapsed": 2308558,
     "status": "ok",
     "timestamp": 1614962511583,
     "user": {
      "displayName": "giovanni buroni",
      "photoUrl": "https://lh3.googleusercontent.com/a-/AOh14GjarG9foST_wpJ_PfvHTR0iWGuChdFnmm4ong7n=s64",
      "userId": "06127736531396060751"
     },
     "user_tz": -60
    },
    "id": "gEWDqYTZGNnP",
    "outputId": "d8fc0377-9abf-4fb5-91b7-26f4c0139d95",
    "papermill": {
     "duration": 3.052092,
     "end_time": "2021-04-30T12:33:20.639631",
     "exception": false,
     "start_time": "2021-04-30T12:33:17.587539",
     "status": "completed"
    },
    "tags": []
   },
   "outputs": [
    {
     "name": "stdout",
     "output_type": "stream",
     "text": [
      "t+1 RMSE MEAN 4.871 +- 0.723\n",
      "\n",
      "t+2 RMSE MEAN 4.888 +- 0.731\n",
      "\n",
      "t+3 RMSE MEAN 4.896 +- 0.737\n",
      "\n",
      "t+4 RMSE MEAN 4.897 +- 0.748\n",
      "\n",
      "t+5 RMSE MEAN 4.894 +- 0.752\n",
      "\n",
      "t+6 RMSE MEAN 4.888 +- 0.747\n",
      "\n",
      "t+7 RMSE MEAN 4.885 +- 0.752\n",
      "\n",
      "t+8 RMSE MEAN 4.885 +- 0.756\n",
      "\n",
      "t+9 RMSE MEAN 4.882 +- 0.747\n",
      "\n",
      "t+10 RMSE MEAN 4.882 +- 0.754\n",
      "\n",
      "t+11 RMSE MEAN 4.881 +- 0.748\n",
      "\n",
      "t+12 RMSE MEAN 4.879 +- 0.742\n",
      "\n"
     ]
    }
   ],
   "source": [
    "RMSE_MEAN = np.mean(rmse_list,axis=0).mean(axis=1)\n",
    "RMSE_STD =  np.std(rmse_list,axis=0).std(axis=1)\n",
    "\n",
    "for i in range(len(RMSE_MEAN)):\n",
    "    print('t+'+str(i+1)+' RMSE MEAN ' +str(np.round(RMSE_MEAN[i],3))+' +- '+str(np.round(RMSE_STD[i],3)))\n",
    "    print('')"
   ]
  },
  {
   "cell_type": "code",
   "execution_count": 31,
   "metadata": {
    "execution": {
     "iopub.execute_input": "2021-04-30T12:33:20.739540Z",
     "iopub.status.busy": "2021-04-30T12:33:20.738208Z",
     "iopub.status.idle": "2021-04-30T12:33:23.192425Z",
     "shell.execute_reply": "2021-04-30T12:33:23.191456Z"
    },
    "executionInfo": {
     "elapsed": 2309530,
     "status": "ok",
     "timestamp": 1614962512563,
     "user": {
      "displayName": "giovanni buroni",
      "photoUrl": "https://lh3.googleusercontent.com/a-/AOh14GjarG9foST_wpJ_PfvHTR0iWGuChdFnmm4ong7n=s64",
      "userId": "06127736531396060751"
     },
     "user_tz": -60
    },
    "id": "fMgrD1upGQ2o",
    "outputId": "926adf5b-cb37-4526-b14f-51b664b557e8",
    "papermill": {
     "duration": 2.506173,
     "end_time": "2021-04-30T12:33:23.192633",
     "exception": false,
     "start_time": "2021-04-30T12:33:20.686460",
     "status": "completed"
    },
    "tags": []
   },
   "outputs": [
    {
     "name": "stdout",
     "output_type": "stream",
     "text": [
      "t+1 MAE MEAN 2.153 +- 0.58\n",
      "\n",
      "t+2 MAE MEAN 2.164 +- 0.598\n",
      "\n",
      "t+3 MAE MEAN 2.171 +- 0.612\n",
      "\n",
      "t+4 MAE MEAN 2.175 +- 0.632\n",
      "\n",
      "t+5 MAE MEAN 2.177 +- 0.642\n",
      "\n",
      "t+6 MAE MEAN 2.178 +- 0.637\n",
      "\n",
      "t+7 MAE MEAN 2.18 +- 0.643\n",
      "\n",
      "t+8 MAE MEAN 2.185 +- 0.654\n",
      "\n",
      "t+9 MAE MEAN 2.188 +- 0.645\n",
      "\n",
      "t+10 MAE MEAN 2.193 +- 0.656\n",
      "\n",
      "t+11 MAE MEAN 2.196 +- 0.649\n",
      "\n",
      "t+12 MAE MEAN 2.199 +- 0.641\n",
      "\n"
     ]
    }
   ],
   "source": [
    "MAE_MEAN = np.mean(mae_list,axis=0).mean(axis=1)\n",
    "MAE_STD =  np.std(mae_list,axis=0).std(axis=1)\n",
    "\n",
    "for i in range(len(MAE_MEAN)):\n",
    "    print('t+'+str(i+1)+' MAE MEAN ' +str(np.round(MAE_MEAN[i],3))+' +- '+str(np.round(MAE_STD[i],3)))\n",
    "    print('')"
   ]
  },
  {
   "cell_type": "code",
   "execution_count": 32,
   "metadata": {
    "execution": {
     "iopub.execute_input": "2021-04-30T12:33:23.289118Z",
     "iopub.status.busy": "2021-04-30T12:33:23.287839Z",
     "iopub.status.idle": "2021-04-30T12:33:30.921601Z",
     "shell.execute_reply": "2021-04-30T12:33:30.919573Z"
    },
    "executionInfo": {
     "elapsed": 66220,
     "status": "ok",
     "timestamp": 1614962627111,
     "user": {
      "displayName": "giovanni buroni",
      "photoUrl": "https://lh3.googleusercontent.com/a-/AOh14GjarG9foST_wpJ_PfvHTR0iWGuChdFnmm4ong7n=s64",
      "userId": "06127736531396060751"
     },
     "user_tz": -60
    },
    "id": "J86TlWyE1W9J",
    "outputId": "ae75b5fa-e5fa-46d9-d241-6b45ba94dc2f",
    "papermill": {
     "duration": 7.684311,
     "end_time": "2021-04-30T12:33:30.921829",
     "exception": false,
     "start_time": "2021-04-30T12:33:23.237518",
     "status": "completed"
    },
    "tags": []
   },
   "outputs": [],
   "source": [
    "with open('noAtt_RMSE.pkl', 'wb') as f:  \n",
    "    pickle.dump(rmse_list, f)\n",
    "\n",
    "with open('noAtt_MAE.pkl', 'wb') as f:  \n",
    "    pickle.dump(mae_list, f)\n"
   ]
  },
  {
   "cell_type": "code",
   "execution_count": 33,
   "metadata": {
    "execution": {
     "iopub.execute_input": "2021-04-30T12:33:43.339602Z",
     "iopub.status.busy": "2021-04-30T12:33:43.334264Z",
     "iopub.status.idle": "2021-04-30T12:34:10.294327Z",
     "shell.execute_reply": "2021-04-30T12:34:10.293685Z"
    },
    "papermill": {
     "duration": 27.600941,
     "end_time": "2021-04-30T12:34:10.294500",
     "exception": false,
     "start_time": "2021-04-30T12:33:42.693559",
     "status": "completed"
    },
    "tags": []
   },
   "outputs": [],
   "source": [
    "with open('FORECAST_noATT.pkl', 'wb') as f:  \n",
    "    pickle.dump([forecasts,targets], f)"
   ]
  }
 ],
 "metadata": {
  "kernelspec": {
   "display_name": "Python 3",
   "language": "python",
   "name": "python3"
  },
  "language_info": {
   "codemirror_mode": {
    "name": "ipython",
    "version": 3
   },
   "file_extension": ".py",
   "mimetype": "text/x-python",
   "name": "python",
   "nbconvert_exporter": "python",
   "pygments_lexer": "ipython3",
   "version": "3.7.9"
  },
  "papermill": {
   "default_parameters": {},
   "duration": 3970.591934,
   "end_time": "2021-04-30T12:34:17.162774",
   "environment_variables": {},
   "exception": null,
   "input_path": "__notebook__.ipynb",
   "output_path": "__notebook__.ipynb",
   "parameters": {},
   "start_time": "2021-04-30T11:28:06.570840",
   "version": "2.2.2"
  }
 },
 "nbformat": 4,
 "nbformat_minor": 4
}
